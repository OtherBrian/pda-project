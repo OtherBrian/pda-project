{
 "cells": [
  {
   "cell_type": "markdown",
   "metadata": {},
   "source": [
    "# Problem statement\n",
    "For this project you must create a data set by simulating a real-world phenomenon of\n",
    "your choosing. You may pick any phenomenon you wish – you might pick one that is\n",
    "of interest to you in your personal or professional life. Then, rather than collect data\n",
    "related to the phenomenon, you should model and synthesise such data using Python.\n",
    "We suggest you use the numpy.random package for this purpose.\n",
    "Specifically, in this project you should:\n",
    "\n",
    "* Choose a real-world phenomenon that can be measured and for which you could\n",
    "collect at least one-hundred data points across at least four different variables.\n",
    "* Investigate the types of variables involved, their likely distributions, and their\n",
    "relationships with each other.\n",
    "* Synthesise/simulate a data set as closely matching their properties as possible.\n",
    "* Detail your research and implement the simulation in a Jupyter notebook – the\n",
    "data set itself can simply be displayed in an output cell within the notebook.\n",
    "\n",
    "Note that this project is about simulation – you must synthesise a data set. Some\n",
    "students may already have some real-world data sets in their own files. It is okay to\n",
    "base your synthesised data set on these should you wish (please reference it if you do),\n",
    "but the main task in this project is to create a synthesised data set. The next section\n",
    "gives an example project idea."
   ]
  },
  {
   "cell_type": "code",
   "execution_count": 1,
   "metadata": {},
   "outputs": [],
   "source": [
    "import pandas as pd\n",
    "import numpy as np"
   ]
  },
  {
   "cell_type": "markdown",
   "metadata": {},
   "source": [
    "## Layout:\n",
    "\n",
    "* Introduce the dataset I'll be looking at.\n",
    "* Introduce information on International Students in China. \n",
    "* Include algorithms for selecting student country, program type and scholarship with research to support.\n",
    "* Introduce the HSK, and the difference between the levels.\n",
    "* Algorithms and calculations for HSK written tests with research to support.\n",
    "* Algorithms and calculations for HSK oral tests with research to support.\n",
    "* Bringing it all together.\n",
    "* Visualizations."
   ]
  },
  {
   "cell_type": "markdown",
   "metadata": {},
   "source": [
    "# Introduction\n",
    "\n",
    "This is Brian Doheny's submission for the Programming for Data Analysis 2020 module at Galway-Mayo Institute of Technology. For this project, I will be simulating the student records for a Chinese language school in China in 2018. Every student will have the following data points simulated:\n",
    "* Student nationality\n",
    "* Student funding (Scholarship or Self-Funded)\n",
    "* The type of program the student is enrolled in (Non-degree, Undergraduate, Master's, or Doctoral)\n",
    "* Whether or not the student attempted the written HSK test.\n",
    "* Whether or no the student attempted the oral HSK test.\n",
    "\n",
    "For those students that did elect to take either a written or oral HSK test, I will then simulate additional data points for them, namely:\n",
    "* Level of HSK written test attempted\n",
    "* Reading score\n",
    "* Listening score\n",
    "* Writing score (HSK 3-6 only)\n",
    "* Total score\n",
    "* Pass/Fail result\n",
    "* Level of HSK oral test attempted\n",
    "* Speaking score\n",
    "* Pass/Fail result\n",
    "\n",
    "I will begin my introduction the phenomenoms involved in this dataset, alongside a note on my sources of information. I will then be going through the introduction to and simulation of each of the above listed data points. Here you will find my references to my resources, calculations and examples of the simulations for the individual data points, and the final code for that specific that points that will be included into the final algorithm. Next I will bring all the code snippets together into one working algorithm contained in a single Jupyter Notebook cell, and I will then include some visualizations of the data set highlighting the relationships in the data. Finally you will find a complete list of the resources used in this project.\n",
    "\n",
    "## Phenomenoms in this scenario\n",
    "\n",
    "The main phenomenom I will show in this data set is with regards to how few students attempt one of the HSK tests, yet the HSK tests have a fairly high pass rate. I will also be showing that the HSK written test is far more popular than the oral test, and that as the written test increases in levels, more and more students attempt the test. This peaks at HSK level 5, and then decreases for HSK level 6.\n",
    "\n",
    "Alongside this I will also be showing that the largest share of students are this fictional school originate from South Korea, and South Korean students will also be among the largest sources of HSK test takers.\n",
    "\n",
    "\n",
    "## Sources of information\n",
    "\n",
    "As I go through each section of the simulates data set, I will be referencing my sources of information in more depth. In general though, my sources are a mixture of official research carried out by Hanban (the organization that administers the HSK test), government statistics on international students in China, and third party research papers.\n",
    "\n",
    "I have selected 2018 as the year to base my data set on. As 2018 was the year in which neither academic year (2017/18 and 2018/19) was disrupted, it therefore makes for a strong candidate. 2020 saw many disruptions for governments and institutions, and so data and reports regarding international students in China in 2019 lack the detail or simply have not yet been published.\n",
    "\n",
    "That said, many of my sources actually predate 2018, especially with regards to the HSK tests. Finding papers and data on the HSK test has proved to be very difficult, despite searching in English and Simplified Chinese. Therefore some of my sources data from 2012, and so I have extrapolated the relationships and data points out to the 2018 student numbers. This is not a perfect simulation of the student data, however it will allow us to see the effects if the tends up to 2012 had continued through to 2018, and should not be wildly off track. \n",
    "\n",
    "### Determining the size of the school\n",
    "\n",
    "As this data set is randomly generated, we can determine how large we wish the school to be. As will be highlighted later, some of the data points have results that only appear 1% of the time, and so for this reason I have been setting the below school_size variable to 500. You can edit this to any number you wish, and it will be used throughout the simulations in this Jupyter Notebook."
   ]
  },
  {
   "cell_type": "code",
   "execution_count": 2,
   "metadata": {},
   "outputs": [],
   "source": [
    "#Can alter this to change the school size.\n",
    "school_size = 500"
   ]
  },
  {
   "cell_type": "markdown",
   "metadata": {},
   "source": [
    "## Student Country of Origin\n",
    "\n",
    "### International Students in China\n",
    "The total number of International Students studying in China has mirrored the enconomic growth of China, and thus grown rapidly over the last two decades, going from 52,150 students in 2000[1] to 492,185 in 2018[2]. Throughout this radid growth, South Korea[1][2] has been the single largest source of International Students in China, largely due to the geographic proximity and the strong trade flows between the two countries. \n",
    "\n",
    "Japan, the USA and Russia have also been large sources of International Students over the years, however more recently we are seeing developing countries in Asia becoming larger and larger sources. For example, India and Pakistan didn't even rank among the 10 largest sources of International Students until 2006 (5634 and 3308 students respectively)[1] yet by 2018 these two countries were the third and 4th largest sources, both with over 28,000 students enrolled in study programs in Mainland China[2]. This growth in students from developing countries potentially reflects the stronger economic and political ties between the countries, as well as the the economic growth of the source country itself.\n",
    "\n",
    "It was not possible to find a complete country by country breakdown of student nationalities in 2018, however the Ministry of Education have released the top 15 nationalities[2]:\n",
    "* South Korea 50,600\n",
    "* Thailand 28,608\n",
    "* Pakistan 28,023\n",
    "* India 23,198\n",
    "* United States 20,996\n",
    "* Russia 19,239\n",
    "* Indonesia 15,050\n",
    "* Laos 14,645\n",
    "* Japan 14,230\n",
    "* Kazakhstan 11,784\n",
    "* Vietnam 11,299\n",
    "* Bangladesh 10,735\n",
    "* France 10,695\n",
    "* Mongolia 10,158\n",
    "* Malaysia 9,479\n",
    "\n",
    "This accounts for 278,739 of the 492,185 International Students in China in 2018, and so we're lacking detail on the remaining 213,446 students. \n",
    "\n",
    "Through further research, I was able to find that there were 81,562 students from African countries in China in 2018.\n",
    "\n",
    "I've since found that there were 81,562 African students in China in 2018[3]. While I do not have a country by country breakdown for these students, I can at least narrow down these 81,562 students to the 54 countries in Africa in my simulation. This then leaves me with 131,884 with no specified country, and so my sources of students for 2018 looks like:\n",
    "* Rest of the World 131,884\n",
    "* Africa 81,562\n",
    "* South Korea\t50,600\n",
    "* Thailand\t28,608\n",
    "* Pakistan\t28,023\n",
    "* India\t23,198\n",
    "* United States\t20,996\n",
    "* Russia\t19,239\n",
    "* Indonesia\t15,050\n",
    "* Laos\t14,645\n",
    "* Japan\t14,230\n",
    "* Kazakhstan\t11,784\n",
    "* Vietnam\t11,299\n",
    "* Bangladesh\t10,735\n",
    "* France\t10,695\n",
    "* Mongolia\t10,158\n",
    "* Malaysia\t9,479\n"
   ]
  },
  {
   "cell_type": "markdown",
   "metadata": {},
   "source": [
    "### Approach\n",
    "\n",
    "In order to determine which countries my students originated from, I will be utilizing the Choice() function from Numpy.Random[4]. This allows me to specify an array of countries and regions to be selected psuedorandomly, and even allows me to determine the probability of each beign selected. As I want my simulated school to be reflective of the international student population in China, I will be using the proportion of students from each country or region to determine the probability that that location is selected as the source of each of my students."
   ]
  },
  {
   "cell_type": "code",
   "execution_count": 3,
   "metadata": {},
   "outputs": [],
   "source": [
    "#State the list of possible countries to be selected by Choice()\n",
    "student_origins = np.array(['Rest of the World', 'Africa', 'South Korea', 'Thailand', 'Pakistan', 'India', 'United States',\n",
    "                  'Russia', 'Indonesia', 'Laos', 'Japan', 'Kazakhstan', 'Vietnam', 'Bangladesh', 'France', 'Mongolia',\n",
    "                  'Malaysia'])\n",
    "\n",
    "#Count of students from each region in 2018.\n",
    "student_origin_counts = np.array([131884, 81562, 50600, 28608, 28023, 23198, 20996, 19239, 15050, 14645, 14230, 11784,\n",
    "                        11299, 10735, 10695, 10158, 9479])\n",
    "\n",
    "\n",
    "#Work out the probability that a student came from each region by its proportion to the total.\n",
    "student_origin_probabilities = student_origin_counts / sum(student_origin_counts)\n"
   ]
  },
  {
   "cell_type": "markdown",
   "metadata": {},
   "source": [
    "I can now use the student_origins and student_origin_probabilities arrays in the Choice() function to select a country or region for each student. The syntax for this function is:\n",
    "\n",
    "rng.choice(array, size, p=probabilities)\n",
    "\n",
    "So for this student_origins is my array, school_size is the size (the amount to be generated), and student_origin_probabilities are my probabilities."
   ]
  },
  {
   "cell_type": "code",
   "execution_count": 4,
   "metadata": {},
   "outputs": [
    {
     "data": {
      "text/plain": [
       "array(['Thailand', 'Africa', 'Africa', 'Pakistan', 'Rest of the World',\n",
       "       'Rest of the World', 'Africa', 'Rest of the World', 'Indonesia',\n",
       "       'Pakistan', 'Africa', 'Laos', 'Rest of the World', 'Africa',\n",
       "       'Rest of the World', 'Rest of the World', 'Rest of the World',\n",
       "       'Rest of the World', 'Africa', 'Russia', 'Russia', 'Africa',\n",
       "       'Rest of the World', 'Africa', 'Rest of the World', 'Pakistan',\n",
       "       'Rest of the World', 'Pakistan', 'Japan', 'Rest of the World',\n",
       "       'Rest of the World', 'Rest of the World', 'Laos', 'Russia',\n",
       "       'Pakistan', 'Kazakhstan', 'Rest of the World', 'Thailand',\n",
       "       'United States', 'Rest of the World', 'Thailand', 'Russia',\n",
       "       'South Korea', 'Vietnam', 'India', 'South Korea',\n",
       "       'Rest of the World', 'South Korea', 'Rest of the World',\n",
       "       'Rest of the World', 'Laos', 'Kazakhstan', 'Laos',\n",
       "       'Rest of the World', 'Rest of the World', 'Africa', 'Africa',\n",
       "       'Japan', 'South Korea', 'Pakistan', 'Africa', 'Rest of the World',\n",
       "       'Rest of the World', 'South Korea', 'Rest of the World', 'Africa',\n",
       "       'Kazakhstan', 'Kazakhstan', 'Africa', 'Thailand', 'South Korea',\n",
       "       'Rest of the World', 'Indonesia', 'Africa', 'Japan',\n",
       "       'Rest of the World', 'Indonesia', 'Rest of the World',\n",
       "       'Bangladesh', 'Rest of the World', 'Malaysia', 'Rest of the World',\n",
       "       'Thailand', 'Pakistan', 'Rest of the World', 'Rest of the World',\n",
       "       'Vietnam', 'Rest of the World', 'South Korea', 'South Korea',\n",
       "       'Japan', 'Africa', 'Russia', 'Indonesia', 'Malaysia', 'Africa',\n",
       "       'Africa', 'Rest of the World', 'Kazakhstan', 'Vietnam',\n",
       "       'Rest of the World', 'India', 'Africa', 'Africa', 'Pakistan',\n",
       "       'Rest of the World', 'Africa', 'Bangladesh', 'Pakistan',\n",
       "       'Thailand', 'France', 'Pakistan', 'South Korea',\n",
       "       'Rest of the World', 'Rest of the World', 'Thailand',\n",
       "       'South Korea', 'Pakistan', 'Indonesia', 'Rest of the World',\n",
       "       'Bangladesh', 'Rest of the World', 'Indonesia', 'Africa',\n",
       "       'Pakistan', 'Japan', 'Africa', 'Malaysia', 'South Korea', 'India',\n",
       "       'Kazakhstan', 'Thailand', 'Rest of the World', 'Rest of the World',\n",
       "       'Malaysia', 'Rest of the World', 'Pakistan', 'United States',\n",
       "       'Africa', 'India', 'Indonesia', 'Rest of the World', 'India',\n",
       "       'India', 'Rest of the World', 'Rest of the World', 'South Korea',\n",
       "       'Japan', 'Mongolia', 'Rest of the World', 'South Korea',\n",
       "       'Rest of the World', 'South Korea', 'Thailand', 'Bangladesh',\n",
       "       'Rest of the World', 'Africa', 'Thailand', 'Africa',\n",
       "       'Rest of the World', 'Russia', 'Rest of the World', 'Kazakhstan',\n",
       "       'Rest of the World', 'South Korea', 'Thailand', 'Bangladesh',\n",
       "       'Rest of the World', 'Rest of the World', 'Indonesia', 'Japan',\n",
       "       'Pakistan', 'Rest of the World', 'Africa', 'France',\n",
       "       'Rest of the World', 'Rest of the World', 'Rest of the World',\n",
       "       'Africa', 'Africa', 'South Korea', 'Bangladesh', 'Africa', 'India',\n",
       "       'Japan', 'United States', 'Rest of the World', 'Rest of the World',\n",
       "       'Africa', 'Africa', 'Africa', 'Africa', 'Rest of the World',\n",
       "       'South Korea', 'Africa', 'Kazakhstan', 'Africa', 'Kazakhstan',\n",
       "       'Africa', 'Africa', 'Rest of the World', 'India',\n",
       "       'Rest of the World', 'Rest of the World', 'South Korea',\n",
       "       'Rest of the World', 'Pakistan', 'Rest of the World', 'Africa',\n",
       "       'Russia', 'Africa', 'Rest of the World', 'Africa', 'Vietnam',\n",
       "       'South Korea', 'Africa', 'Pakistan', 'Rest of the World',\n",
       "       'Rest of the World', 'Bangladesh', 'Pakistan', 'Pakistan',\n",
       "       'Rest of the World', 'Malaysia', 'Rest of the World', 'Africa',\n",
       "       'Rest of the World', 'Africa', 'Pakistan', 'Russia', 'Africa',\n",
       "       'Africa', 'Africa', 'United States', 'Rest of the World',\n",
       "       'Rest of the World', 'Africa', 'Malaysia', 'Rest of the World',\n",
       "       'Russia', 'Rest of the World', 'Africa', 'Japan', 'Vietnam',\n",
       "       'Rest of the World', 'United States', 'Africa', 'Africa',\n",
       "       'Rest of the World', 'Malaysia', 'Bangladesh', 'Africa',\n",
       "       'Thailand', 'Thailand', 'Africa', 'Pakistan', 'United States',\n",
       "       'Rest of the World', 'Thailand', 'United States', 'France',\n",
       "       'Kazakhstan', 'India', 'India', 'Rest of the World',\n",
       "       'Rest of the World', 'South Korea', 'United States',\n",
       "       'Rest of the World', 'South Korea', 'Africa', 'Thailand',\n",
       "       'Rest of the World', 'South Korea', 'Rest of the World', 'Africa',\n",
       "       'Indonesia', 'Rest of the World', 'Rest of the World',\n",
       "       'Kazakhstan', 'South Korea', 'Africa', 'Rest of the World',\n",
       "       'United States', 'Africa', 'Thailand', 'Rest of the World',\n",
       "       'France', 'South Korea', 'Bangladesh', 'Rest of the World',\n",
       "       'Africa', 'Russia', 'Rest of the World', 'Africa', 'Africa',\n",
       "       'Laos', 'Indonesia', 'Thailand', 'Japan', 'Thailand',\n",
       "       'South Korea', 'South Korea', 'Thailand', 'United States',\n",
       "       'United States', 'Rest of the World', 'United States',\n",
       "       'South Korea', 'South Korea', 'Russia', 'Rest of the World',\n",
       "       'Kazakhstan', 'Thailand', 'Indonesia', 'Rest of the World',\n",
       "       'Rest of the World', 'Rest of the World', 'Russia', 'Thailand',\n",
       "       'Russia', 'Rest of the World', 'Russia', 'Thailand',\n",
       "       'Rest of the World', 'Pakistan', 'Rest of the World',\n",
       "       'United States', 'Rest of the World', 'Africa', 'United States',\n",
       "       'Mongolia', 'Africa', 'Africa', 'Rest of the World', 'Thailand',\n",
       "       'Africa', 'Rest of the World', 'Kazakhstan', 'Kazakhstan',\n",
       "       'Africa', 'Malaysia', 'Africa', 'Thailand', 'Rest of the World',\n",
       "       'United States', 'Rest of the World', 'Africa', 'Africa', 'Africa',\n",
       "       'Laos', 'Pakistan', 'Laos', 'Rest of the World',\n",
       "       'Rest of the World', 'Rest of the World', 'Rest of the World',\n",
       "       'Pakistan', 'South Korea', 'South Korea', 'Rest of the World',\n",
       "       'South Korea', 'South Korea', 'South Korea', 'Africa', 'Pakistan',\n",
       "       'South Korea', 'Africa', 'Indonesia', 'Thailand', 'Laos', 'Japan',\n",
       "       'United States', 'Rest of the World', 'Mongolia', 'Kazakhstan',\n",
       "       'South Korea', 'Malaysia', 'South Korea', 'Rest of the World',\n",
       "       'Rest of the World', 'Vietnam', 'South Korea', 'India', 'Japan',\n",
       "       'Rest of the World', 'India', 'Rest of the World',\n",
       "       'Rest of the World', 'Rest of the World', 'South Korea',\n",
       "       'South Korea', 'Africa', 'Africa', 'Africa', 'Laos', 'Africa',\n",
       "       'India', 'Thailand', 'South Korea', 'United States', 'Africa',\n",
       "       'Africa', 'Rest of the World', 'South Korea', 'South Korea',\n",
       "       'India', 'Africa', 'Rest of the World', 'Indonesia', 'Africa',\n",
       "       'Africa', 'Rest of the World', 'Thailand', 'Pakistan', 'Africa',\n",
       "       'Africa', 'Japan', 'Thailand', 'Africa', 'United States', 'Russia',\n",
       "       'Rest of the World', 'Rest of the World', 'Rest of the World',\n",
       "       'Africa', 'Rest of the World', 'South Korea', 'Rest of the World',\n",
       "       'Rest of the World', 'India', 'Rest of the World', 'Kazakhstan',\n",
       "       'South Korea', 'Rest of the World', 'Mongolia', 'Russia', 'Africa',\n",
       "       'Malaysia', 'Rest of the World', 'Rest of the World',\n",
       "       'Rest of the World', 'Rest of the World', 'Rest of the World',\n",
       "       'Rest of the World', 'Rest of the World', 'Rest of the World',\n",
       "       'India', 'Rest of the World', 'Rest of the World',\n",
       "       'Rest of the World', 'Africa', 'South Korea', 'Africa',\n",
       "       'Rest of the World', 'Rest of the World', 'Africa', 'Thailand',\n",
       "       'Japan', 'Rest of the World', 'South Korea', 'Rest of the World',\n",
       "       'Pakistan', 'South Korea', 'United States', 'South Korea',\n",
       "       'Rest of the World', 'Africa', 'Africa', 'Rest of the World',\n",
       "       'South Korea', 'Africa', 'Rest of the World', 'Africa', 'Africa',\n",
       "       'India', 'Pakistan', 'Rest of the World', 'United States',\n",
       "       'Rest of the World', 'Rest of the World', 'India', 'India',\n",
       "       'Thailand', 'Indonesia', 'Rest of the World', 'South Korea',\n",
       "       'Thailand', 'France', 'Rest of the World', 'United States',\n",
       "       'Rest of the World', 'Rest of the World', 'India',\n",
       "       'Rest of the World', 'Bangladesh', 'South Korea', 'Japan',\n",
       "       'Africa', 'Rest of the World'], dtype='<U17')"
      ]
     },
     "execution_count": 4,
     "metadata": {},
     "output_type": "execute_result"
    }
   ],
   "source": [
    "rng = np.random.default_rng()\n",
    "students = rng.choice(student_origins, school_size, p=student_origin_probabilities)\n",
    "\n",
    "students"
   ]
  },
  {
   "cell_type": "markdown",
   "metadata": {},
   "source": [
    "Now that I know which of these 17 countries or regions each student is from, I can get to work on narrowing down exactly which country each of the African and Rest of the World students come from.\n",
    "\n",
    "### Students from Africa and Rest of the World\n",
    "\n",
    "In order to determine these specific countries, I will be using data from the World Bank[5] to find the populations for each country in 2018. I will then use to work out what proportion of the regions population each country makes up, and use this as the probability that a student originated from that specific country.\n",
    "\n",
    "For example, in the case of African students, I will see the proportion of the total African population each country represents, and that will determine the probability that a given student came from that specific country. This isn't a perfect measure, as in the real world there'd be political and academic exchanges with particular countries, meanwhile some countries are more likely to have a population that can afford to go to China for self-funded study. Nonetheless, I prefer this route as I do not want the 54 countries of African treated as one unit.\n",
    "\n",
    "I will also be using this method for Rest of the World. This comes with the same caveats as the African countries in that they do not represent academic or political exchanges. That said, the countries with large populations that are not counted in this top 15 or the African countries do tend to have populations that may afford studying abroad. For example Germany would be one of the remaining countries with a larger population, and so it's probability will be higher than others, however in real life its population is also likely to be more able to afford self-funded study in China.\n",
    "\n",
    "I have uploaded the CSV of World Bank data [5] to this repository (world_populations.csv). However I have already removed China, Hong Kong and Macau from the CSV, as students from these regions would not be counted as International students in mainland China. The original CSV also included aggregations for regopms around the world (e.g. Total Middle Eastern population) which I have also removed, as these would impact my calculations. This could have been done via Pandas, however I elected to hard delete them as they will not be used at all in this project.\n",
    "\n",
    "First I will load the World Bank data into a Pandas Dataframe:"
   ]
  },
  {
   "cell_type": "code",
   "execution_count": 5,
   "metadata": {},
   "outputs": [],
   "source": [
    "#Loading the CSV into a Pandas Dataframe, specifying the three columns I need.\n",
    "populations_df = pd.read_csv('world_populations.csv', usecols = ['Country Name', 'Country Code', '2018'])\n",
    "\n",
    "#Dropping any countries that do not have population data for 2018.\n",
    "populations_df.dropna(inplace=True)\n",
    "\n",
    "#The population is encoded as a string, so I must change these to integers for calculations.\n",
    "populations_df['2018'] = populations_df['2018'].astype('int')"
   ]
  },
  {
   "cell_type": "markdown",
   "metadata": {},
   "source": [
    "With the Dataframe now loaded, I can begin slicing it to find the populations of just African countries. I am basing this on the 54 countriest listed on Worldometer[6]."
   ]
  },
  {
   "cell_type": "code",
   "execution_count": 6,
   "metadata": {},
   "outputs": [],
   "source": [
    "#Specifying the Country Codes of the 54 countries in Africa.\n",
    "african_country_codes = ['DZA','AGO','BWA','IOT','BDI','CMR','CPV','CAF','TCD','UGA',\n",
    "                     'COM','COG','BEN','GNQ','ETH','ERI','ATF','DJI','GAB','SDN'\n",
    "                     'GMB','GHA','GIN','CIV','KEN','LSO','LBR','LBY','MDG','ESH',\n",
    "                     'MWI','MLI','MRT','MUS','MAR','MOZ','NAM','NER','NGA','TGO',\n",
    "                     'GNB','RWA','SEN','SYC','SLE','SOM','ZAF','ZWE','SSD','TUN',\n",
    "                    'EGY','BFA','ZMB', 'COD']\n",
    "                     \n",
    "\n",
    "#Slicing the dataframe to only include countries with the african_country_codes.\n",
    "#Then using the individual country's population in 2018, divided by the total for all the African countries to get the proportion.\n",
    "populations_df.loc[populations_df['Country Code'].isin(african_country_codes), 'Proportion of African Population'] = populations_df['2018'] / populations_df.loc[populations_df['Country Code'].isin(african_country_codes)]['2018'].sum()\n",
    "\n",
    "#Turning the list of African countries into an array to use later.\n",
    "african_country = np.array(populations_df.loc[populations_df['Country Code'].isin(african_country_codes)]['Country Name'])\n",
    "\n",
    "#Doing the same for the 'Proportion of African Population' to use as the probability later.\n",
    "african_probabilities = np.array(populations_df.loc[populations_df['Country Code'].isin(african_country_codes)]['Proportion of African Population'])"
   ]
  },
  {
   "cell_type": "markdown",
   "metadata": {},
   "source": [
    "Now that I have the countries in Africa and their respective probabilities, I must do the same for the rest of the world. First I will need to remove the total populations of the 15 International student countries we do know, and the total African population from the world population (which already has China, Hong Kong and Macau subtracted)."
   ]
  },
  {
   "cell_type": "code",
   "execution_count": 7,
   "metadata": {},
   "outputs": [
    {
     "data": {
      "text/plain": [
       "2163556187"
      ]
     },
     "execution_count": 7,
     "metadata": {},
     "output_type": "execute_result"
    }
   ],
   "source": [
    "#Stating the country codes of the top 15 sources of International Students.\n",
    "top_15_country_codes = ['KOR', 'THA', 'PAK', 'IND', 'USA', 'RUS', 'IDN', 'LAO', 'JPN', 'KAZ', 'VNM', 'BGD', 'FRA', 'MNG', 'MYS']\n",
    "\n",
    "#Top 15 countries combined population.\n",
    "top_15_total_population = populations_df.loc[populations_df['Country Code'].isin(top_15_country_codes)]['2018'].sum()\n",
    "\n",
    "#African countries combined population.\n",
    "africa_total_population = populations_df.loc[populations_df['Country Code'].isin(african_country_codes)]['2018'].sum()\n",
    "\n",
    "#World Population without China, Hong Kong & Macau, minus the African population, minus the top 15 countries\n",
    "rest_of_world_population = 6267671127 - africa_total_population - top_15_total_population\n",
    "\n",
    "rest_of_world_population"
   ]
  },
  {
   "cell_type": "markdown",
   "metadata": {},
   "source": [
    "I can now slice the dataframe, removing the African countries as well as the top 15 sources of International students. This will leave me with the Rest of the World countries and I can calculate their individual proportions of the total population."
   ]
  },
  {
   "cell_type": "code",
   "execution_count": 8,
   "metadata": {},
   "outputs": [],
   "source": [
    "#Removing the African countries and Top 15 countries from the rest_of_world slice.\n",
    "rest_of_world = populations_df.loc[~populations_df['Country Code'].isin(african_country_codes)]\n",
    "rest_of_world = rest_of_world.loc[~rest_of_world['Country Code'].isin(top_15_country_codes)]\n",
    "\n",
    "#Working out the proportions for each country.\n",
    "rest_of_world['Proportion of World Population'] = rest_of_world['2018'] / rest_of_world_population\n",
    "\n",
    "#Turning the list of countries and their probabilities into arrays to use later.\n",
    "rest_of_world_country = np.array(rest_of_world['Country Name'])\n",
    "rest_of_world_probabilities = np.array(rest_of_world['Proportion of World Population'])\n",
    " \n",
    "#At present, the probabilities for rest of the world do not equal 1. I will therefore fill the gap and assign it as \"Other\".\n",
    "other = 1 - sum(rest_of_world_probabilities)\n",
    "\n",
    "#Add \"Other\" into the selection and probabilties\n",
    "rest_of_world_country = np.insert(rest_of_world_country, -1, 'Other')\n",
    "rest_of_world_probabilities = np.insert(rest_of_world_probabilities, -1,  other)"
   ]
  },
  {
   "cell_type": "markdown",
   "metadata": {},
   "source": [
    "Now that I have the African and Rest of the World countries and their respective probabilities defined, I can then do another round of Choice() for students that were initially selected as being from Africa or Rest of the World. This will give them a specific country of origin.\n",
    "\n",
    "To show this in action, I'll generate a quick Dataframe as this will allow me to use the value_counts() method."
   ]
  },
  {
   "cell_type": "code",
   "execution_count": 9,
   "metadata": {},
   "outputs": [
    {
     "data": {
      "text/plain": [
       "Nationality       \n",
       "South Korea           46\n",
       "Pakistan              33\n",
       "Thailand              27\n",
       "India                 23\n",
       "United States         20\n",
       "                      ..\n",
       "Iran, Islamic Rep.     1\n",
       "Hungary                1\n",
       "Honduras               1\n",
       "Haiti                  1\n",
       "Afghanistan            1\n",
       "Length: 92, dtype: int64"
      ]
     },
     "execution_count": 9,
     "metadata": {},
     "output_type": "execute_result"
    }
   ],
   "source": [
    "#Creating the psuedorandom number generator container.\n",
    "rng = np.random.default_rng()\n",
    "\n",
    "#Creating an index of student IDs to use for this\n",
    "index = np.arange(0,school_size)\n",
    "\n",
    "#Create the dataframe\n",
    "chinese_class_df = pd.DataFrame(index = index, columns = ['Nationality'])\n",
    "\n",
    "#Generate the initial origins from the original 17 countries and regions.\n",
    "chinese_class_df['Nationality'] = rng.choice(student_origins, school_size, p=student_origin_probabilities)\n",
    "\n",
    "#Select a specific country for the African students.\n",
    "chinese_class_df.loc[chinese_class_df['Nationality'] == 'Africa', 'Nationality'] = rng.choice(african_country, (chinese_class_df['Nationality'].values == 'Africa').sum(), p=african_probabilities) \n",
    "\n",
    "#Do the same for the Rest of the World students.\n",
    "chinese_class_df.loc[chinese_class_df['Nationality'] == 'Rest of the World', 'Nationality'] = rng.choice(rest_of_world_country, (chinese_class_df['Nationality'].values == 'Rest of the World').sum(), p=rest_of_world_probabilities) \n",
    "\n",
    "#A peak at some of the student nationalities we now have in the dataframe.\n",
    "chinese_class_df.value_counts()"
   ]
  },
  {
   "cell_type": "markdown",
   "metadata": {},
   "source": [
    "This method will now decide the nationalities of my school's students in the final algorithm later in this Jupyter Notebook."
   ]
  },
  {
   "cell_type": "markdown",
   "metadata": {},
   "source": [
    "## Student Funding\n",
    "\n",
    "Like other countries the Chinese government, as well as individual Chinese language schools and other organizations, offer scholarships to attract students to study in China[7]. The eligibility requirements for applying, and criteria for selecting the successful candidates, differ depending on the provider of the scholarship and the type of scholarship applied to. Similarly the level of support can vary from partial tuition fee support through to full tuition, accomodation and allowance. \n",
    "\n",
    "While some of these scholarships will be for specific higher education programs in China, many are geared towards International students wishing to learn Chinese languge (Mandarin and Simplified Chinese) and these generally have less rigorous requirements. By supporting students wishing to learn Mandarin and Simplified Chinese, the Chinese government, and various other insitutions, are not only looking to build the language skills of these students, but also to aid in the cultural understanding of China, and potentially building last connections. These Chinese language scholarships are fairly common, with local provinces and municipalities offering their own scholarships alongside the central government scholarships. For example, a student wishing to study in Beijing has the option of applying for a scholarship from the central government (known as CSC)[8], a Beijing Government Scholarship (known as BGS)[9], and scholarships provided by local institutions. For example, looking at the scholarships available in Beijing for 2021, I can see that there are 355 different types of scholarship available.\n",
    "\n",
    "I would therefore expect that some of the students in this simulated school would be on a scholarship of some sort. According to the Ministery of Education[2], in 2018 12.81% of Internatioanl students were on a scholarship, totally 63,041 students.\n",
    "\n",
    "As I am assuming that my simulate school is representative of the international student population in China, I use a Bernoulli distribution to simulate this, with 12.81% being used as the probability of success (or scholarship in this case). I can therefore use Numpy's Binomial() function[11], with the number of trials set to 1, to simulate which students are on a scholarship. The syntax for this function is:\n",
    "\n",
    "numpy.random.binomial(n, p, size=None)\n",
    "\n",
    "In this case as I wish to simulate a Bernoulli distribution I can set \"n\" to 1, the probability of success is 0.1281 (12.81%), and the size is the school_size variable."
   ]
  },
  {
   "cell_type": "code",
   "execution_count": 10,
   "metadata": {},
   "outputs": [
    {
     "data": {
      "text/plain": [
       "0    441\n",
       "1     59\n",
       "Name: Scholarship, dtype: int64"
      ]
     },
     "execution_count": 10,
     "metadata": {},
     "output_type": "execute_result"
    }
   ],
   "source": [
    "#Using 1 to indicate a scholarship, and using the 12.81% figure from the government statistics.\n",
    "chinese_class_df['Scholarship'] = rng.binomial(1, 0.1281, school_size)\n",
    "\n",
    "#Show how many students received a scholarship.\n",
    "chinese_class_df['Scholarship'].value_counts()"
   ]
  },
  {
   "cell_type": "markdown",
   "metadata": {},
   "source": [
    "## Student's enrolled programs\n",
    "\n",
    "Chinese language schools will typically have a range of program types available, with some involving multiple years of full-time study, whereas others may only be for a semester at a time, or possibly even for part-time study. The entry requirements for these programs will vary, for example one would expect a Master's program to require an undergraduate degree of some sort, whereas a non-degree program may have very basic requirements. For students that wish to study a degree program other than Chinese language in Chinese (for example studying Computer Science in China), they must have at least passed HSK 5 in order to be eligible, as this helps ensure their language skills are sufficient. As my simulated school is a language school, I will not be taking pre-existing HSK results into account. There will be more information on the HSK tests and their impact in the next section.\n",
    "\n",
    "Typically, exchange students will be enrolled into non-degree programs at their host university, as they will only be in China for 1 or 2 semesters. Nonetheless, as everyone is studying Chinese language, they will still likely find themselves in language classrooms with students on degree programs. A non-degree student will likely take some form of skills test and then be allocated to a class based on their results, whereas degree students will progress based on their test scores from the previous semester's exams.\n",
    "\n",
    "Again, we turn to the Ministry of Education's[2] data from 2018, where we are provided with a breakdown of the four main program types - non-degree, undergraduate, master's and doctoral. Non-degree students make up the largest share at 234,063 and many of these will be students on exchange programs, study holidays or residents looking to improve their language skills.\n",
    "\n",
    "Meanwhile 258,122 students were on a degree program of some type, with 173,060 on undergraduate degrees, 59,444 on Master's and 25,618 on doctoral degree programs. The types of programs included here will vary from Chinese language programs or programs based on improving Chinese language skills (e.g. a Master's in Classical Chinese) all the way through to general degrees that are not related to Chinese language itself (the aforementioned Computer Science degrees in China).\n",
    "\n",
    "Unforunately we do not have a breakdown on what types of subjects these student's programs are in, and so I am unable to account for just language degrees. I will therefore be using these proportions as they stand. For this, I will be using Numpy's Choice() function again[4]."
   ]
  },
  {
   "cell_type": "code",
   "execution_count": 11,
   "metadata": {},
   "outputs": [],
   "source": [
    "#Declare the 4 types of programs available at the school.\n",
    "program_type = ['Non-degree', 'Undergraduate', \"Master's\", 'Doctoral']\n",
    "\n",
    "#Declare the total students on each program type in 2018.\n",
    "program_totals = np.array([234063, 173060, 59444, 25618])\n",
    "\n",
    "#Divide each program by the total students in 2018 to get its proportion. This will serve as the probability.\n",
    "program_probabilities = program_totals / sum(program_totals)\n",
    "\n",
    "#Use Choice() to select the program type for each student.\n",
    "chinese_class_df['Program'] = rng.choice(program_type, school_size, p=program_probabilities)"
   ]
  },
  {
   "cell_type": "code",
   "execution_count": 12,
   "metadata": {},
   "outputs": [
    {
     "data": {
      "text/plain": [
       "Non-degree       213\n",
       "Undergraduate    193\n",
       "Master's          73\n",
       "Doctoral          21\n",
       "Name: Program, dtype: int64"
      ]
     },
     "execution_count": 12,
     "metadata": {},
     "output_type": "execute_result"
    }
   ],
   "source": [
    "chinese_class_df['Program'].value_counts()"
   ]
  },
  {
   "cell_type": "markdown",
   "metadata": {},
   "source": [
    "## HSK\n",
    "\n",
    "The Hanyu Shuiping Kaoshi (汉语水平考试, HSK) are a series of standardized tests to assess the Mandarin and Simplified Chinese language skills of non-native Chinese speaking students[12]. A HSK certificate is the most widely accepted certification of Chinese language skills in mainland China, and higher HSK levels are often requirements for studying full time degrees in Chinese for subjects other than Chinese language study itself. HSK certificates may also be used in job applications, as higher HSK levels suggest stronger communication skills for non-native Chinese speakers.\n",
    "\n",
    "The HSK tests come in two formats, written and oral, with each format having numerous levels of difficulty. To begin with, I'll be taking a look at the written HSK.\n",
    "\n",
    "### Written HSK\n",
    "\n",
    "The written HSK test has 6 levels (known as HSK1 through to HSK6), with each level requiring the candidate to be able to read and/or write exponentially more characters: \n",
    "* HSK1 - 150 characters\n",
    "* HSK2 - 300 characters\n",
    "* HSK3 - 600 characters\n",
    "* HSK4 - 1200 characters\n",
    "* HSK5 - 2500 characters\n",
    "* HSK6 - over 5000 characters\n",
    "\n",
    "Once a student reaches HSK4, they are expected to be able to go beyond basic communication, and can express opinions and thoughts on a wider range of topics. Students at HSK5 should be able to read Chinese newspapers, and prepare speeches or presentation, and so HSK5 is usually the requirement for full time degree programs. HSK6 expects the student to be able to comprehend most content they encounter easily, and to be able to confidently talk about such subjects. HSK6 therefore may be required for some postgraduate programs, or programs that go deeper into Chinese language, such as literature or classical Chinese. \n",
    "\n",
    "As mentioned previously, finding up to date data on how many students sat a HSK test is very difficult indeed. However, I was able to find breakdowns for each HSK level from the years 2009 to 2012 via a Sina Weibo post in 2013[13] as shown below.\n",
    "\n",
    "![here](https://screenshot.click/01_14-ryey4-tgwud.jpg)\n",
    "\n",
    "On the left hand side, we have the 6 HSK written tests (一，二，三，四，五 and 六), as well as the 3 oral tests (初， 中 and 高) which I will be discussing later. For each year we can see how many students sat the test in mainland China (国内), and how many students sat the test outside of mainland China (海外). It's important to note that this data does not specify if the same student attempted a HSK test multiple times, or attempted multiple HSK tests. For the purposes of this simulation, I am making the assumption that each student attempted just one test once in the given years.\n",
    "\n",
    "There's a few things that initially stick out here. \n",
    "\n",
    "First, the numbers start from 0 test takers in 2009, and steadily increase. This is because the current version of the HSK was officially rolled out in late 2009 and early 2010, so as text books and classrooms adapted to the new test, we'd expect the student numbers to increase. \n",
    "\n",
    "Second, lots more students attempt the HSK test outside of China than inside China. HSK tests can be taken internationally, for example UCD and UCC in Ireland offer these tests, and so countries with strong trading relationships with China are likely to have a lot of students taking the HSK outside of China. According to Hanban, the organization which administers the HSK, South Korea, Japan, the Philippines, Thailand, Indonesia, Vietnam, Pakistan, Russia and Kyrgyzstan were among the top sources of HSK takers for 2018[14]. All of these countries are either neighboring China, or have strong relationships with China, and thus likely to have strong Chinese language programs in their own countries.\n",
    "\n",
    "Finally, we can see three of the previously mentioned phenomenoms at play. \n",
    "\n",
    "* The first being that only 63764 of the 328,330 international students in China in 2012[1] attempted a HSK test. \n",
    "* Meanwhile, the number of students attempting the HSK written test far exceeds the numbers attempting the oral test. \n",
    "* Alongside this we also see that the number of students attempting the each level of the HSK written test increases dramatically until HSK5 before dropping off substantially at HSK6. \n",
    "\n",
    "I will discuss these phenomenoms in more detail as I simulate the data for each."
   ]
  },
  {
   "cell_type": "markdown",
   "metadata": {},
   "source": [
    "# Which students sat a HSK written test?\n",
    "\n",
    "In order to work out what probability a student had of taking any HSK test, I will first total the annual number of test takers within China (国内) for HSK1 through HSK6 from 2010-2012. As a reminder, in the table above these tests are written as: \n",
    "* HSK 一级\n",
    "* HSK 二级\n",
    "* HSK 三级\n",
    "* HSK 四级\n",
    "* HSK 五级\n",
    "* HSK 六级"
   ]
  },
  {
   "cell_type": "code",
   "execution_count": 13,
   "metadata": {},
   "outputs": [
    {
     "name": "stdout",
     "output_type": "stream",
     "text": [
      "Total number of students that took a HSK written exam in 2010: 17866\n",
      "Total number of students that took a HSK written exam in 2011: 46161\n",
      "Total number of students that took a HSK written exam in 2012: 60593\n"
     ]
    }
   ],
   "source": [
    "hsk_written_2010 = 146 + 210 + 1171 + 3842 + 6931 + 5566\n",
    "hsk_written_2011 = 274 + 755 + 2504 + 11635 + 18018 + 12975\n",
    "hsk_written_2012 = 658 + 1343 + 4003 + 16158 + 21278 + 17153\n",
    "\n",
    "print(\"Total number of students that took a HSK written exam in 2010: \" + str(hsk_written_2010))\n",
    "print(\"Total number of students that took a HSK written exam in 2011: \" + str(hsk_written_2011))\n",
    "print(\"Total number of students that took a HSK written exam in 2012: \" + str(hsk_written_2012))"
   ]
  },
  {
   "cell_type": "markdown",
   "metadata": {},
   "source": [
    "I can now compare these to the total number of International students studying in China each year[1] in order to find out what percentage of students took a HSK test."
   ]
  },
  {
   "cell_type": "code",
   "execution_count": 14,
   "metadata": {},
   "outputs": [
    {
     "name": "stdout",
     "output_type": "stream",
     "text": [
      "Percentage of international students that took a HSK written exam in 2010: 6.74%\n",
      "Percentage of international students that took a HSK written exam in 2011: 15.78%\n",
      "Percentage of international students that took a HSK written exam in 2012: 18.45%\n"
     ]
    }
   ],
   "source": [
    "total_international_students_2010 = 265090\n",
    "total_international_students_2011 = 292611\n",
    "total_international_students_2012 = 328330\n",
    "\n",
    "print(\"Percentage of international students that took a HSK written exam in 2010: \" + str(round((hsk_written_2010 / total_international_students_2010) * 100, 2)) + '%')\n",
    "print(\"Percentage of international students that took a HSK written exam in 2011: \" + str(round((hsk_written_2011 / total_international_students_2011) * 100, 2)) + '%')\n",
    "print(\"Percentage of international students that took a HSK written exam in 2012: \" + str(round((hsk_written_2012 / total_international_students_2012) * 100, 2)) + '%')"
   ]
  },
  {
   "cell_type": "markdown",
   "metadata": {},
   "source": [
    "Each of these years saw an increase in the percentage of students taking a HSK test. However, as we do not have such breakdowns beyond 2012, I will be making use of the 2012 proportion to extrapolate the number of possible HSK test takers within mainland China in 2018. \n",
    "\n",
    "There were 492,185 international students in 2018[1], and if 18.45% took a HSK test we can expect:"
   ]
  },
  {
   "cell_type": "code",
   "execution_count": 15,
   "metadata": {},
   "outputs": [
    {
     "name": "stdout",
     "output_type": "stream",
     "text": [
      "Estimated total students that took a HSK written exam in 2018: 90808\n"
     ]
    }
   ],
   "source": [
    "hsk_written_total_2018 = 492185 * 0.1845\n",
    "print(\"Estimated total students that took a HSK written exam in 2018: \" + str(int(hsk_written_total_2018)))"
   ]
  },
  {
   "cell_type": "markdown",
   "metadata": {},
   "source": [
    "In order to determine how many of the students in my simulated school attempted a written HSK test, I will again be utilizing Numpy's Binomial() function, with 0.1845 (18.45%) as the probability of success (i.e. they took a HSK test)."
   ]
  },
  {
   "cell_type": "code",
   "execution_count": 16,
   "metadata": {},
   "outputs": [
    {
     "data": {
      "text/plain": [
       "0    388\n",
       "1    112\n",
       "Name: HSK written test?, dtype: int64"
      ]
     },
     "execution_count": 16,
     "metadata": {},
     "output_type": "execute_result"
    }
   ],
   "source": [
    "rng = np.random.default_rng()\n",
    "\n",
    "chinese_class_df['HSK written test?'] = rng.binomial(1, 0.1845, school_size)\n",
    "\n",
    "#Showing how many students sat a HSK written test. 1 = attempt a HSK test.\n",
    "chinese_class_df['HSK written test?'].value_counts()"
   ]
  },
  {
   "cell_type": "markdown",
   "metadata": {},
   "source": [
    "### Which HSK level did they attempt?\n",
    "\n",
    "For those students that did attempt a HSK written test, I will now simulate which level they attempted. Again, I will be using the 2012 figures[13] to guide me on the probability of a student that took a HSK written test taking a particular level."
   ]
  },
  {
   "cell_type": "code",
   "execution_count": 17,
   "metadata": {},
   "outputs": [
    {
     "data": {
      "text/plain": [
       "array([0.01085934, 0.02216428, 0.06606374, 0.26666447, 0.35116268,\n",
       "       0.2830855 ])"
      ]
     },
     "execution_count": 17,
     "metadata": {},
     "output_type": "execute_result"
    }
   ],
   "source": [
    "#Using the 2012 figures to work out what proportion of HSK takers sat each level that year.\n",
    "\n",
    "#Listing the 6 HSK levels for the written exam\n",
    "hsk_written_levels = np.array(['HSK1', 'HSK2', 'HSK3', 'HSK4', 'HSK5', 'HSK6'])\n",
    "\n",
    "#Dividing the 2012 figures for each level by total HSK tests taken that year. These proportions will be my probabilities.\n",
    "hsk_written_levels_proportions = np.array([658, 1343, 4003, 16158, 21278, 17153]) / hsk_written_2012\n",
    "\n",
    "hsk_written_levels_proportions"
   ]
  },
  {
   "cell_type": "markdown",
   "metadata": {},
   "source": [
    "I can now use these proportions to estimate how many of the estimated 90808 HSK written exam takers in mainland China attempted each level in 2018."
   ]
  },
  {
   "cell_type": "code",
   "execution_count": 18,
   "metadata": {
    "scrolled": false
   },
   "outputs": [
    {
     "name": "stdout",
     "output_type": "stream",
     "text": [
      "Estimated HSK1 takers in 2018: 986\n",
      "Estimated HSK2 takers in 2018: 2012\n",
      "Estimated HSK3 takers in 2018: 5999\n",
      "Estimated HSK4 takers in 2018: 24215\n",
      "Estimated HSK5 takers in 2018: 31888\n",
      "Estimated HSK6 takers in 2018: 25706\n"
     ]
    }
   ],
   "source": [
    "print(\"Estimated HSK1 takers in 2018: \" + str(int(hsk_written_levels_proportions[0] * 90808)))\n",
    "print(\"Estimated HSK2 takers in 2018: \" + str(int(hsk_written_levels_proportions[1] * 90808)))\n",
    "print(\"Estimated HSK3 takers in 2018: \" + str(int(hsk_written_levels_proportions[2] * 90808)))\n",
    "print(\"Estimated HSK4 takers in 2018: \" + str(int(hsk_written_levels_proportions[3] * 90808)))\n",
    "print(\"Estimated HSK5 takers in 2018: \" + str(int(hsk_written_levels_proportions[4] * 90808)))\n",
    "print(\"Estimated HSK6 takers in 2018: \" + str(int(hsk_written_levels_proportions[5] * 90808)))\n"
   ]
  },
  {
   "cell_type": "markdown",
   "metadata": {},
   "source": [
    "I can now use Numpy's Choice() function with the hsk_written_levels and hsk_written_levels_proportions arrays to simulate which HSK levels students attempt. As I only want to simulate this for students that actually attempted a HSK written test, I will begin by slicing the dataframe to only include students where 'HSK written test?' equals 1.\n",
    "\n",
    "Also, as the number of students that attempt the HSK written test will change on each simulation, I will need to ensure that the size parameter is not hard coded. As 1 is used to show a student that attempted a HSK written test, I can sum the 'HSK written test?' column, and use that as the size parameter for Choice()."
   ]
  },
  {
   "cell_type": "code",
   "execution_count": 19,
   "metadata": {
    "scrolled": true
   },
   "outputs": [
    {
     "data": {
      "text/plain": [
       "HSK5    42\n",
       "HSK6    29\n",
       "HSK4    29\n",
       "HSK3     8\n",
       "HSK2     3\n",
       "HSK1     1\n",
       "Name: HSK Level, dtype: int64"
      ]
     },
     "execution_count": 19,
     "metadata": {},
     "output_type": "execute_result"
    }
   ],
   "source": [
    "#Only want students that have \"HSK written test?\" set as 1. \n",
    "#Summing the 'HSK written test?' column to determine the size parameter for Choice()\n",
    "chinese_class_df.loc[chinese_class_df['HSK written test?'] == 1, 'HSK Level'] = rng.choice(hsk_written_levels, chinese_class_df['HSK written test?'].sum(), p=hsk_written_levels_proportions) \n",
    "\n",
    "chinese_class_df['HSK Level'].value_counts()"
   ]
  },
  {
   "cell_type": "markdown",
   "metadata": {},
   "source": [
    "## Oral HSK\n",
    "\n",
    "Unlike the written HSK test, the oral test (also known as the HSKK - Hanyu Shuiping Kouyu Kaoshi/汉语水平口语考试) just has 3 levels. Beginner (初级), Intermediate (中级), and Advanced (高级). Similarly to the written HSK test, the difficultly at each stage increases significantly as students at each level are expected to be fluent using[15]:\n",
    "* Beginner - 200 commonly used words\n",
    "* Intermediate - 900 commonly used words\n",
    "* Advanced - 3000 commonly used words\n",
    "\n",
    "Meanwhile, whereas written HSK test certificates are commonly used as entry requirements for degree programs or jobs, the oral certificate is used much less. This is changing in more recent years, as Confucision Institute scholarships do now require both a written HSK and oral HSKK certificate[16]. This recent increase in use of the HSKK does mean that any simulation or projection I make here is likely to be under-estimating the true numbers, but similar to the written HSK, more recent figures are not currently attainable. I am therefore having to use the same table from 2009-2012 for my projections.\n",
    "\n",
    "As before, I will total the number of test takers for each of the three years we have data."
   ]
  },
  {
   "cell_type": "code",
   "execution_count": 48,
   "metadata": {},
   "outputs": [
    {
     "name": "stdout",
     "output_type": "stream",
     "text": [
      "Total students taking HSK oral exam in 2010: 1023\n",
      "Total students taking HSK oral exam in 2011: 1886\n",
      "Total students taking HSK oral exam in 2012: 3171\n"
     ]
    }
   ],
   "source": [
    "hsk_oral_2010 = 51 + 300 + 672\n",
    "hsk_oral_2011 = 67 + 506 + 1313\n",
    "hsk_oral_2012 = 56 + 1708 + 1407\n",
    "\n",
    "print(\"Total students that took a HSK oral exam in 2010: \" + str(hsk_oral_2010))\n",
    "print(\"Total students that took a HSK oral exam in 2011: \" + str(hsk_oral_2011))\n",
    "print(\"Total students that took a HSK oral exam in 2012: \" + str(hsk_oral_2012))"
   ]
  },
  {
   "cell_type": "markdown",
   "metadata": {},
   "source": [
    "I'll now calculate what percentage of International students in mainland China attempted as HSKK oral test in each of these years."
   ]
  },
  {
   "cell_type": "code",
   "execution_count": 52,
   "metadata": {},
   "outputs": [
    {
     "name": "stdout",
     "output_type": "stream",
     "text": [
      "Proportion of international students that took a HSK oral exam in 2010: 0.39%\n",
      "Proportion of international students that took a HSK oral exam in 2011: 0.64%\n",
      "Proportion of international students that took a HSK oral exam in 2012: 0.97%\n"
     ]
    }
   ],
   "source": [
    "total_international_students_2010 = 265090\n",
    "total_international_students_2011 = 292611\n",
    "total_international_students_2012 = 328330\n",
    "\n",
    "print(\"Proportion of international students that took a HSK oral exam in 2010: \" + str(round((hsk_oral_2010 / total_international_students_2010) * 100, 2)) + '%')\n",
    "print(\"Proportion of international students that took a HSK oral exam in 2011: \" + str(round((hsk_oral_2011 / total_international_students_2011) * 100, 2)) + '%')\n",
    "print(\"Proportion of international students that took a HSK oral exam in 2012: \" + str(round((hsk_oral_2012 / total_international_students_2012) * 100, 2)) + '%')"
   ]
  },
  {
   "cell_type": "markdown",
   "metadata": {},
   "source": [
    "Again we see a sharp increase from year to year, however 2012 is still saw under 1% of international students. As we do not have access to more recent data on the number of test takers within mainland China, I will estimate how many test takers there were in 2018 based off of the 0.97% figure we saw in 2012."
   ]
  },
  {
   "cell_type": "code",
   "execution_count": 55,
   "metadata": {},
   "outputs": [
    {
     "name": "stdout",
     "output_type": "stream",
     "text": [
      "Estimated total students that took a HSK oral exam in 2018: 4774\n"
     ]
    }
   ],
   "source": [
    "hsk_oral_total_2018 = 492185 * 0.0097\n",
    "print(\"Estimated total students that took a HSK oral exam in 2018: \" + str(int(hsk_oral_total_2018)))"
   ]
  },
  {
   "cell_type": "markdown",
   "metadata": {},
   "source": [
    "Now to see how many of the students at the simulated school attempted the HSK oral exam in 2018. For this, I will be using the binomial() function again, with the probablity of success set to 0.0097 (0.97%)."
   ]
  },
  {
   "cell_type": "code",
   "execution_count": 22,
   "metadata": {},
   "outputs": [
    {
     "data": {
      "text/plain": [
       "0    497\n",
       "1      3\n",
       "Name: HSK oral test?, dtype: int64"
      ]
     },
     "execution_count": 22,
     "metadata": {},
     "output_type": "execute_result"
    }
   ],
   "source": [
    "rng = np.random.default_rng()\n",
    "\n",
    "#https://numpy.org/doc/stable/reference/random/generated/numpy.random.Generator.binomial.html#numpy.random.Generator.binomial\n",
    "chinese_class_df['HSK oral test?'] = rng.binomial(1, 0.0097, school_size)\n",
    "\n",
    "chinese_class_df['HSK oral test?'].value_counts()"
   ]
  },
  {
   "cell_type": "markdown",
   "metadata": {},
   "source": [
    "### Which HSKK level did they attempt?\n",
    "\n",
    "For those students that did attempt a HSKK test, I will now simulate which level they attempted. Again, I will be using the 2012 figures[13] to guide me on the probability of a student that took a HSKk test taking a particular level."
   ]
  },
  {
   "cell_type": "code",
   "execution_count": 24,
   "metadata": {
    "scrolled": true
   },
   "outputs": [
    {
     "data": {
      "text/plain": [
       "array([0.01766004, 0.53863135, 0.44370861])"
      ]
     },
     "execution_count": 24,
     "metadata": {},
     "output_type": "execute_result"
    }
   ],
   "source": [
    "#Listing the three levels available in an array.\n",
    "hsk_oral_levels = np.array(['Beginner', 'Intermediate', 'Advanced'])\n",
    "\n",
    "#Diving the test takers for each level in 2012 by the total HSKK test takers in 2012 to get their proportions.\n",
    "#These will serve as the probabilities.\n",
    "hsk_oral_level_proportions = np.array([56, 1708, 1407]) / hsk_oral_2012\n",
    "\n",
    "hsk_oral_level_proportions"
   ]
  },
  {
   "cell_type": "markdown",
   "metadata": {},
   "source": [
    "I can now use these probabilities to extrapolate how many students attempted each HSKK level in 2018. Earlier I estimated 4774 total sudents sat a HSKK test."
   ]
  },
  {
   "cell_type": "code",
   "execution_count": 57,
   "metadata": {
    "scrolled": true
   },
   "outputs": [
    {
     "name": "stdout",
     "output_type": "stream",
     "text": [
      "Estimated HSKK Beginner takers in 2018: 84\n",
      "Estimated HSKK Intermediate takers in 2018: 2571\n",
      "Estimated HSKK Advanced takers in 2018: 2118\n"
     ]
    }
   ],
   "source": [
    "print(\"Estimated HSKK Beginner takers in 2018: \" + str(int(hsk_oral_level_proportions[0] * 4774)))\n",
    "print(\"Estimated HSKK Intermediate takers in 2018: \" + str(int(hsk_oral_level_proportions[1] * 4774)))\n",
    "print(\"Estimated HSKK Advanced takers in 2018: \" + str(int(hsk_oral_level_proportions[2] * 4774)))"
   ]
  },
  {
   "cell_type": "markdown",
   "metadata": {},
   "source": [
    "Similar to the written HSK levels, we see very few attempting the beginner level and a clear peak at the intermediate level.\n",
    "\n",
    "I will now use these probabilities along with the Numpy's Choice() function to simulate a HSKK level for each of the students that did attempt the test."
   ]
  },
  {
   "cell_type": "code",
   "execution_count": 64,
   "metadata": {},
   "outputs": [
    {
     "data": {
      "text/plain": [
       "Intermediate    1\n",
       "Advanced        1\n",
       "Name: HSK Oral Level, dtype: int64"
      ]
     },
     "execution_count": 64,
     "metadata": {},
     "output_type": "execute_result"
    }
   ],
   "source": [
    "#Only want students that have \"HSK written test?\" set as 1. \n",
    "#Summing the 'HSK oral test?' column to determine the size parameter for Choice()\n",
    "chinese_class_df.loc[chinese_class_df['HSK oral test?'] == 1, 'HSK Oral Level'] = rng.choice(hsk_oral_levels, chinese_class_df['HSK oral test?'].sum(), p=hsk_oral_level_proportions) \n",
    "\n",
    "chinese_class_df['HSK Oral Level'].value_counts()"
   ]
  },
  {
   "cell_type": "markdown",
   "metadata": {},
   "source": [
    "### Did any student take both HSK tests?\n",
    "\n",
    "The larger the size of the school_size variable, the more likely we are to see a student attempting both the written and oral HSK tests. For curiosity's sake, let's take a look if any in this simulation has attempted both."
   ]
  },
  {
   "cell_type": "code",
   "execution_count": 23,
   "metadata": {
    "scrolled": true
   },
   "outputs": [
    {
     "data": {
      "text/html": [
       "<div>\n",
       "<style scoped>\n",
       "    .dataframe tbody tr th:only-of-type {\n",
       "        vertical-align: middle;\n",
       "    }\n",
       "\n",
       "    .dataframe tbody tr th {\n",
       "        vertical-align: top;\n",
       "    }\n",
       "\n",
       "    .dataframe thead th {\n",
       "        text-align: right;\n",
       "    }\n",
       "</style>\n",
       "<table border=\"1\" class=\"dataframe\">\n",
       "  <thead>\n",
       "    <tr style=\"text-align: right;\">\n",
       "      <th></th>\n",
       "      <th>Nationality</th>\n",
       "      <th>Scholarship</th>\n",
       "      <th>Program</th>\n",
       "      <th>HSK written test?</th>\n",
       "      <th>HSK Level</th>\n",
       "      <th>HSK oral test?</th>\n",
       "    </tr>\n",
       "  </thead>\n",
       "  <tbody>\n",
       "    <tr>\n",
       "      <th>303</th>\n",
       "      <td>Burundi</td>\n",
       "      <td>0</td>\n",
       "      <td>Undergraduate</td>\n",
       "      <td>1</td>\n",
       "      <td>HSK5</td>\n",
       "      <td>1</td>\n",
       "    </tr>\n",
       "  </tbody>\n",
       "</table>\n",
       "</div>"
      ],
      "text/plain": [
       "    Nationality  Scholarship        Program  HSK written test? HSK Level  \\\n",
       "303     Burundi            0  Undergraduate                  1      HSK5   \n",
       "\n",
       "     HSK oral test?  \n",
       "303               1  "
      ]
     },
     "execution_count": 23,
     "metadata": {},
     "output_type": "execute_result"
    }
   ],
   "source": [
    "chinese_class_df.loc[(chinese_class_df['HSK written test?'] == 1) & (chinese_class_df['HSK oral test?'] == 1)]"
   ]
  },
  {
   "cell_type": "markdown",
   "metadata": {},
   "source": [
    "# HSK Results\n",
    "\n",
    "For those students that sat the HSK tests, we can now simulate what their scores might be. Finding data on HSK scores and results has proven to be very difficult (both in Chinese and in English), however there has been a study on 108 American students and their HSK results before and after a semester of study in Beijing[17]. It should be noted that this paper covers just 108 students from the same country, so in reality there's likely to be numerous other variables that may impact the results seen by a particular student or even a whole cohort of students. For example, Chinese textbooks will have grammar and other explanations written in English for HSK 1 through to HSK 3, and the quality of those translations, or how comparable the grammar rules are to the readers native language may influence how well they retain the information and therefore perform on the test. \n",
    "\n",
    "Similarly, all 108 students in this study took the HSK 4 written test and the intermediate HSKK oral test, so we do not have comparable results for all of the other levels. That said, all of the tests follow a similar marking structure, with each section scored out of 100. The only exception is HSK6, as its greater difficulty means the passing grade is 40%, rather than the 60% seen on other levels. I will therefore be utilizing some of Hanban's published data for HSK6 specifically, and the study of American students for HSK1-5 and the HSKK oral results. From the results simulated for each section (reading, writing, listening and speaking), I will also be able to determine which students passed and which failed."
   ]
  },
  {
   "cell_type": "markdown",
   "metadata": {},
   "source": [
    "## HSK Written Test Results\n",
    "\n",
    "https://www.chinaeducenter.com/en/exams.php\n",
    "\n",
    "The HSK written tests follow a similar structure, with each level becoming more difficult. Levels 1 and 2 do not include a writing section, as students at this level are not expected to be able to hand write a large number of characters, and so reading and listening skills are the only areas tested. For levels 3 through to 6; reading, writing and listening are each tested.\n",
    "\n",
    "For levels 1-5, the student must achieve at least 60% in order to pass the test. For HSK level 6, only a score of 40% is required. The HSK tests are a simple pass/fail grading system.\n",
    "\n",
    "As each of the tests includes a reading and listening portion scored out of 100, and as I will be using the mean and standard deviation from the above linked study to simulate the results regardless of level, I can use the same function for all the written HSK takers. For this I will use a normal distribution."
   ]
  },
  {
   "cell_type": "code",
   "execution_count": 27,
   "metadata": {},
   "outputs": [
    {
     "data": {
      "text/plain": [
       "1.0    99\n",
       "0.0     9\n",
       "Name: HSK Pass, dtype: int64"
      ]
     },
     "execution_count": 27,
     "metadata": {},
     "output_type": "execute_result"
    }
   ],
   "source": [
    "#Reading results https://numpy.org/doc/stable/reference/random/generated/numpy.random.Generator.normal.html#numpy.random.Generator.normal\n",
    "\n",
    "reading_mean = 75.39\n",
    "reading_sd = 13.85\n",
    "chinese_class_df.loc[chinese_class_df['HSK written test?'] == 1, 'Reading'] = rng.normal(reading_mean, reading_sd, chinese_class_df['HSK written test?'].sum())\n",
    "\n",
    "#Reducing the HSK6 results by 1/3 to reflect the higher difficulty. The mean and SD for HSK4 is too high for this test.\n",
    "\n",
    "chinese_class_df.loc[chinese_class_df['HSK Level'] == 'HSK6', ['Reading']] = (chinese_class_df['Reading'] / 3) * 2\n",
    "\n",
    "#Normal distribution will pick a few values above 100. This goes beyond the possible score in the section, so I'll cap these at 100.\n",
    "chinese_class_df.loc[chinese_class_df['Reading'] > 100, 'Reading'] = 100\n",
    "\n",
    "\n",
    "#Listening test\n",
    "listening_mean = 70.73\n",
    "listening_sd = 15.22\n",
    "\n",
    "chinese_class_df.loc[chinese_class_df['HSK written test?'] == 1, 'Listening'] = rng.normal(listening_mean, listening_sd, chinese_class_df['HSK written test?'].sum())\n",
    "chinese_class_df.loc[chinese_class_df['HSK Level'] == 'HSK6', ['Listening']] = (chinese_class_df['Listening'] / 3) * 2\n",
    "chinese_class_df.loc[chinese_class_df['Listening'] > 100, 'Listening'] = 100\n",
    "\n",
    "\n",
    "#Only HSK 3 - 6 has a writing section, so I'll make a mask to help me subset those tests.\n",
    "hsk_writing_sections = ['HSK3', 'HSK4', 'HSK5', 'HSK6']\n",
    "\n",
    "writing_mean = 69.67\n",
    "writing_sd = 11.95\n",
    "\n",
    "chinese_class_df.loc[chinese_class_df['HSK Level'].isin(hsk_writing_sections), 'Writing'] = rng.normal(writing_mean, writing_sd, len(chinese_class_df.loc[chinese_class_df['HSK Level'].isin(hsk_writing_sections)]))\n",
    "chinese_class_df.loc[chinese_class_df['HSK Level'] == 'HSK6', ['Writing']] = (chinese_class_df['Writing'] / 3) * 2\n",
    "chinese_class_df.loc[chinese_class_df['Writing'] > 100, 'Writing'] = 100\n",
    "\n",
    "#https://stackoverflow.com/questions/31247763/round-columns-in-pandas-dataframe\n",
    "\n",
    "chinese_class_df[['Reading', 'Listening', 'Writing']] = chinese_class_df[['Reading', 'Listening', 'Writing']].apply(pd.Series.round)\n",
    "\n",
    "#Combined the 3 sections to get the score\n",
    "chinese_class_df['Total Written Score'] = chinese_class_df['Reading'] + chinese_class_df['Listening'] + chinese_class_df['Writing']\n",
    "\n",
    "#HSK 3 - 6 has 3 sections, so final score has to be divided by 3.\n",
    "chinese_class_df.loc[chinese_class_df['HSK Level'].isin(hsk_writing_sections), 'Total Written Score'] = round(chinese_class_df['Total Written Score'] / 3, 2)\n",
    "\n",
    "chinese_class_df.loc[~chinese_class_df['HSK Level'].isin(hsk_writing_sections), 'Total Written Score'] = round(chinese_class_df['Total Written Score'] / 2, 2)\n",
    "\n",
    "hsk_pass_60_tests = ['HSK1','HSK2','HSK3','HSK4','HSK5']\n",
    "\n",
    "chinese_class_df.loc[(chinese_class_df['HSK Level'].isin(hsk_pass_60_tests)) & (chinese_class_df['Total Written Score'] >= 60), 'HSK Pass'] = 1\n",
    "chinese_class_df.loc[(chinese_class_df['HSK Level'].isin(hsk_pass_60_tests)) & (chinese_class_df['Total Written Score'] < 60), 'HSK Pass'] = 0\n",
    "chinese_class_df.loc[(~chinese_class_df['HSK Level'].isin(hsk_pass_60_tests)) & (chinese_class_df['Total Written Score'] >=40), 'HSK Pass'] = 1\n",
    "chinese_class_df.loc[(~chinese_class_df['HSK Level'].isin(hsk_pass_60_tests)) & (chinese_class_df['Total Written Score'] <40), 'HSK Pass'] = 0\n",
    "\n",
    "chinese_class_df['HSK Pass'].value_counts()"
   ]
  },
  {
   "cell_type": "markdown",
   "metadata": {},
   "source": [
    "## HSK Oral Test Results\n",
    "\n",
    "Unlike the written tests which have 2 or 3 distinct sections, the HSK Oral Test just tests spoken language skills, and so just has the 1 speaking section. The passing grade for this is 60% for all three levels of the oral test (beginner, intermiedate, advanced).\n",
    "\n",
    "The previous mentioned study for 108 students from the US also measured the results of the HSK Oral test for those students. One notable difference here is that due to the low participation rate of the HSK Oral test, a sample of 108 measurements is actually fairly sizable. Earlier in my extrapolation of 2012 trends to 2018 international student figures, we saw that only about 1% of students in China attempt the HSK Oral test. While the written HSK 4 is seen as the first valuable HSK certification, and HSK 5 is required for attending a college program in Chinese, the oral certifications have very few applications. "
   ]
  },
  {
   "cell_type": "code",
   "execution_count": 28,
   "metadata": {},
   "outputs": [
    {
     "data": {
      "text/html": [
       "<div>\n",
       "<style scoped>\n",
       "    .dataframe tbody tr th:only-of-type {\n",
       "        vertical-align: middle;\n",
       "    }\n",
       "\n",
       "    .dataframe tbody tr th {\n",
       "        vertical-align: top;\n",
       "    }\n",
       "\n",
       "    .dataframe thead th {\n",
       "        text-align: right;\n",
       "    }\n",
       "</style>\n",
       "<table border=\"1\" class=\"dataframe\">\n",
       "  <thead>\n",
       "    <tr style=\"text-align: right;\">\n",
       "      <th></th>\n",
       "      <th>Scholarship</th>\n",
       "      <th>HSK written test?</th>\n",
       "      <th>HSK oral test?</th>\n",
       "      <th>Reading</th>\n",
       "      <th>Listening</th>\n",
       "      <th>Writing</th>\n",
       "      <th>Total Written Score</th>\n",
       "      <th>HSK Pass</th>\n",
       "      <th>Speaking</th>\n",
       "      <th>HSK Oral Pass</th>\n",
       "    </tr>\n",
       "  </thead>\n",
       "  <tbody>\n",
       "    <tr>\n",
       "      <th>count</th>\n",
       "      <td>500.000000</td>\n",
       "      <td>500.00000</td>\n",
       "      <td>500.000000</td>\n",
       "      <td>112.000000</td>\n",
       "      <td>112.000000</td>\n",
       "      <td>108.000000</td>\n",
       "      <td>108.000000</td>\n",
       "      <td>108.000000</td>\n",
       "      <td>3.000000</td>\n",
       "      <td>3.0</td>\n",
       "    </tr>\n",
       "    <tr>\n",
       "      <th>mean</th>\n",
       "      <td>0.118000</td>\n",
       "      <td>0.22400</td>\n",
       "      <td>0.006000</td>\n",
       "      <td>68.053571</td>\n",
       "      <td>62.973214</td>\n",
       "      <td>63.925926</td>\n",
       "      <td>64.815093</td>\n",
       "      <td>0.916667</td>\n",
       "      <td>77.666667</td>\n",
       "      <td>1.0</td>\n",
       "    </tr>\n",
       "    <tr>\n",
       "      <th>std</th>\n",
       "      <td>0.322931</td>\n",
       "      <td>0.41734</td>\n",
       "      <td>0.077304</td>\n",
       "      <td>15.741630</td>\n",
       "      <td>16.258309</td>\n",
       "      <td>15.544151</td>\n",
       "      <td>12.812428</td>\n",
       "      <td>0.277674</td>\n",
       "      <td>4.932883</td>\n",
       "      <td>0.0</td>\n",
       "    </tr>\n",
       "    <tr>\n",
       "      <th>min</th>\n",
       "      <td>0.000000</td>\n",
       "      <td>0.00000</td>\n",
       "      <td>0.000000</td>\n",
       "      <td>23.000000</td>\n",
       "      <td>22.000000</td>\n",
       "      <td>26.000000</td>\n",
       "      <td>36.000000</td>\n",
       "      <td>0.000000</td>\n",
       "      <td>72.000000</td>\n",
       "      <td>1.0</td>\n",
       "    </tr>\n",
       "    <tr>\n",
       "      <th>25%</th>\n",
       "      <td>0.000000</td>\n",
       "      <td>0.00000</td>\n",
       "      <td>0.000000</td>\n",
       "      <td>57.750000</td>\n",
       "      <td>51.750000</td>\n",
       "      <td>51.000000</td>\n",
       "      <td>54.670000</td>\n",
       "      <td>1.000000</td>\n",
       "      <td>76.000000</td>\n",
       "      <td>1.0</td>\n",
       "    </tr>\n",
       "    <tr>\n",
       "      <th>50%</th>\n",
       "      <td>0.000000</td>\n",
       "      <td>0.00000</td>\n",
       "      <td>0.000000</td>\n",
       "      <td>68.000000</td>\n",
       "      <td>64.000000</td>\n",
       "      <td>65.500000</td>\n",
       "      <td>67.000000</td>\n",
       "      <td>1.000000</td>\n",
       "      <td>80.000000</td>\n",
       "      <td>1.0</td>\n",
       "    </tr>\n",
       "    <tr>\n",
       "      <th>75%</th>\n",
       "      <td>0.000000</td>\n",
       "      <td>0.00000</td>\n",
       "      <td>0.000000</td>\n",
       "      <td>79.000000</td>\n",
       "      <td>75.250000</td>\n",
       "      <td>74.250000</td>\n",
       "      <td>73.250000</td>\n",
       "      <td>1.000000</td>\n",
       "      <td>80.500000</td>\n",
       "      <td>1.0</td>\n",
       "    </tr>\n",
       "    <tr>\n",
       "      <th>max</th>\n",
       "      <td>1.000000</td>\n",
       "      <td>1.00000</td>\n",
       "      <td>1.000000</td>\n",
       "      <td>100.000000</td>\n",
       "      <td>92.000000</td>\n",
       "      <td>100.000000</td>\n",
       "      <td>88.330000</td>\n",
       "      <td>1.000000</td>\n",
       "      <td>81.000000</td>\n",
       "      <td>1.0</td>\n",
       "    </tr>\n",
       "  </tbody>\n",
       "</table>\n",
       "</div>"
      ],
      "text/plain": [
       "       Scholarship  HSK written test?  HSK oral test?     Reading   Listening  \\\n",
       "count   500.000000          500.00000      500.000000  112.000000  112.000000   \n",
       "mean      0.118000            0.22400        0.006000   68.053571   62.973214   \n",
       "std       0.322931            0.41734        0.077304   15.741630   16.258309   \n",
       "min       0.000000            0.00000        0.000000   23.000000   22.000000   \n",
       "25%       0.000000            0.00000        0.000000   57.750000   51.750000   \n",
       "50%       0.000000            0.00000        0.000000   68.000000   64.000000   \n",
       "75%       0.000000            0.00000        0.000000   79.000000   75.250000   \n",
       "max       1.000000            1.00000        1.000000  100.000000   92.000000   \n",
       "\n",
       "          Writing  Total Written Score    HSK Pass   Speaking  HSK Oral Pass  \n",
       "count  108.000000           108.000000  108.000000   3.000000            3.0  \n",
       "mean    63.925926            64.815093    0.916667  77.666667            1.0  \n",
       "std     15.544151            12.812428    0.277674   4.932883            0.0  \n",
       "min     26.000000            36.000000    0.000000  72.000000            1.0  \n",
       "25%     51.000000            54.670000    1.000000  76.000000            1.0  \n",
       "50%     65.500000            67.000000    1.000000  80.000000            1.0  \n",
       "75%     74.250000            73.250000    1.000000  80.500000            1.0  \n",
       "max    100.000000            88.330000    1.000000  81.000000            1.0  "
      ]
     },
     "execution_count": 28,
     "metadata": {},
     "output_type": "execute_result"
    }
   ],
   "source": [
    "hsk_oral_mean = 79\n",
    "hsk_oral_sd = 9.84\n",
    "\n",
    "chinese_class_df.loc[chinese_class_df['HSK oral test?'] == 1, 'Speaking'] = rng.normal(hsk_oral_mean, hsk_oral_sd, chinese_class_df['HSK oral test?'].sum())\n",
    "chinese_class_df.loc[chinese_class_df['Speaking'] > 100, 'Speaking'] = 100\n",
    "\n",
    "chinese_class_df[['Speaking']] = chinese_class_df[['Speaking']].apply(pd.Series.round)\n",
    "\n",
    "\n",
    "chinese_class_df.loc[chinese_class_df['Speaking'] >= 60, 'HSK Oral Pass'] = 1\n",
    "chinese_class_df.loc[chinese_class_df['Speaking'] < 60, 'HSK Oral Pass'] = 0\n",
    "\n",
    "\n",
    "chinese_class_df.describe()"
   ]
  },
  {
   "cell_type": "markdown",
   "metadata": {},
   "source": [
    "HSK6 scores are too high. The mean for the HSK results is around 60, whereas pass for HSK6 is only 40. I will reduce the values by 1/3 to account for this.\n",
    "\n",
    "Also the scores need to be rounded. The normal distribution is a continuous one, so this isn't a surprise, especially as the standard deviation values are floats."
   ]
  },
  {
   "cell_type": "code",
   "execution_count": null,
   "metadata": {},
   "outputs": [],
   "source": [
    "\n"
   ]
  },
  {
   "cell_type": "markdown",
   "metadata": {},
   "source": [
    "## HSK results\n",
    "\n",
    "https://www.researchgate.net/figure/Descriptive-statistics-of-general-proficiency-measured-by-HSK_tbl1_312107625\n",
    "\n",
    "108 participants from the US did the intermedite spoken exam and HSK 4 written exam.\n",
    "\n",
    "These students stayed in the country for 1 semester (about 3 months).\n",
    "\n",
    "We also have the mean, min, max and std from that group.\n",
    "\n",
    "![here](https://screenshot.click/28_19-215cg-skgcm.jpg)\n",
    "\n",
    "I could use this to create a normal distribution of test scores from US students who have been studying in China. As I know what a passing score is, I could calculate if it was a pass or fail.\n",
    "\n",
    "Another source of data on HSK 4 results http://dpi-proceedings.com/index.php/dtem/article/view/30976/29557\n",
    "\n",
    "Shows the mean and std for 30 students from Beijing Language & Culture University\n",
    "\n",
    "![here](https://screenshot.click/28_02-0i7p9-b37me.jpg)\n",
    "\n",
    "\n",
    "\n",
    "Some more results for 2010 including pass rates and average scores for each HSK level http://www.chinesetest.cn/gonewcontent.do?id=5589387 (Note - these are for tests taken outside China)"
   ]
  },
  {
   "cell_type": "markdown",
   "metadata": {},
   "source": [
    "# Generating the dataset in full\n",
    "\n",
    "## 1. Setting up student nationalities"
   ]
  },
  {
   "cell_type": "code",
   "execution_count": 29,
   "metadata": {},
   "outputs": [],
   "source": [
    "import pandas as pd\n",
    "import numpy as np\n",
    "\n",
    "#This can be altered to change the school size.\n",
    "school_size = 500\n",
    "\n",
    "#Using an edited dataset from the world bank. I've removed regional aggregations (e.g. Eurozone, World).\n",
    "#as well as China, Hong Kong and Macau - as these would not be considered International Students.\n",
    "#I will be using the 2018 population data, and will drop any countries that don't have an entry.\n",
    "populations_df = pd.read_csv('world_populations.csv', usecols = ['Country Name', 'Country Code', '2018'])\n",
    "populations_df.dropna(inplace=True)\n",
    "#2018 column is stored as strings, so changing to integers for later calculations.\n",
    "populations_df['2018'] = populations_df['2018'].astype('int')\n",
    "\n",
    "#Stating the African country codes for a slice of the dataframe.\n",
    "african_country_codes =  ['DZA','AGO','BWA','IOT','BDI','CMR','CPV','CAF','TCD','UGA',\n",
    "                     'COM','COG','BEN','GNQ','ETH','ERI','ATF','DJI','GAB','SDN'\n",
    "                     'GMB','GHA','GIN','CIV','KEN','LSO','LBR','LBY','MDG','ESH',\n",
    "                     'MWI','MLI','MRT','MUS','MAR','MOZ','NAM','NER','NGA','TGO',\n",
    "                     'GNB','RWA','SEN','SYC','SLE','SOM','ZAF','ZWE','SSD','TUN',\n",
    "                    'EGY','BFA','ZMB', 'COD']\n",
    "#Stating the country codes of the top 15 sources of students for a slice on the dataframe.\n",
    "top_15_country_codes = ['KOR', 'THA', 'PAK', 'IND', 'USA', 'RUS', 'IDN', 'LAO', \n",
    "                        'JPN', 'KAZ', 'VNM', 'BGD', 'FRA', 'MNG', 'MYS']\n",
    "\n",
    "\n",
    "#Slicing the dataframe to only include countries with the african_country_codes.\n",
    "#Dividing the individual country's population in 2018 by the total for all the African countries to get the proportion to be used as probability later.\n",
    "populations_df.loc[populations_df['Country Code'].isin(african_country_codes), 'Proportion of African Population'] = populations_df['2018'] / populations_df.loc[populations_df['Country Code'].isin(african_country_codes)]['2018'].sum()\n",
    "\n",
    "#Removing the known African and Top 15 countries combined populations from Rest of the World.\n",
    "#Top 15 countries combined population.\n",
    "top_15_total_population = populations_df.loc[populations_df['Country Code'].isin(top_15_country_codes)]['2018'].sum()\n",
    "#African countries combined population.\n",
    "africa_total_population = populations_df.loc[populations_df['Country Code'].isin(african_country_codes)]['2018'].sum()\n",
    "#World Population without China, Hong Kong & Macau, minus the African population, minus the top 15 countries\n",
    "rest_of_world_population = 6267671127 - africa_total_population - top_15_total_population\n",
    "\n",
    "#Removing the African countries and Top 15 countries from the rest_of_world slice.\n",
    "rest_of_world = populations_df.loc[~populations_df['Country Code'].isin(african_country_codes)]\n",
    "rest_of_world = rest_of_world.loc[~rest_of_world['Country Code'].isin(top_15_country_codes)]\n",
    "\n",
    "#Working out the proportions for each country in the Rest of the World.\n",
    "rest_of_world['Proportion of World Population'] = rest_of_world['2018'] / rest_of_world_population\n",
    "\n",
    "#Turning the list of African countries and their probabilities into arrays to use later.\n",
    "african_country = np.array(populations_df.loc[populations_df['Country Code'].isin(african_country_codes)]['Country Name'])\n",
    "african_probabilities = np.array(populations_df.loc[populations_df['Country Code'].isin(african_country_codes)]['Proportion of African Population'])\n",
    "#Turning the list of countries and their probabilities into arrays to use later.\n",
    "rest_of_world_country = np.array(rest_of_world['Country Name'])\n",
    "rest_of_world_probabilities = np.array(rest_of_world['Proportion of World Population'])\n",
    " \n",
    "#At present, the probabilities for rest of the world do not equal 1. I will therefore fill the gap and assign it as \"Other\".\n",
    "other = 1 - sum(rest_of_world_probabilities)\n",
    "#Add \"Other\" into the selection and probabilties\n",
    "rest_of_world_country = np.insert(rest_of_world_country, -1, 'Other')\n",
    "rest_of_world_probabilities = np.insert(rest_of_world_probabilities, -1,  other)\n",
    "\n",
    "\n",
    "#State the list of possible countries or regions to be selected by Choice()\n",
    "student_origins = np.array(['Rest of the World', 'Africa', 'South Korea', 'Thailand', 'Pakistan', 'India', 'United States',\n",
    "                  'Russia', 'Indonesia', 'Laos', 'Japan', 'Kazakhstan', 'Vietnam', 'Bangladesh', 'France', 'Mongolia',\n",
    "                  'Malaysia'])\n",
    "#Count of International Students students from each region in 2018.\n",
    "student_origin_counts = np.array([131884, 81562, 50600, 28608, 28023, 23198, 20996, 19239, 15050, 14645, 14230, 11784,\n",
    "                        11299, 10735, 10695, 10158, 9479])\n",
    "#Work out the probability that a student came from each region by its proportion to the total.\n",
    "student_origin_probabilities = student_origin_counts / sum(student_origin_counts)\n"
   ]
  },
  {
   "cell_type": "markdown",
   "metadata": {},
   "source": [
    "## 2. Generating the dataset"
   ]
  },
  {
   "cell_type": "code",
   "execution_count": 65,
   "metadata": {},
   "outputs": [],
   "source": [
    "#Creating the pseudorandom number generator container.\n",
    "rng = np.random.default_rng()\n",
    "\n",
    "#Creating an index of student IDs to use for the dataframe.\n",
    "index = np.arange(0, school_size)\n",
    "\n",
    "#Creating the dataframe\n",
    "chinese_class_df = pd.DataFrame(index = index, columns = ['Nationality'])\n",
    "\n",
    "#Simulating the first pick of countries and regions.\n",
    "chinese_class_df['Nationality'] = rng.choice(student_origins, school_size, p=student_origin_probabilities)\n",
    "\n",
    "#Students from \"Africa\" or \"Rest of the World\" need a specific country selected.\n",
    "#African students have a country picked for them\n",
    "chinese_class_df.loc[chinese_class_df['Nationality'] == 'Africa', 'Nationality'] = rng.choice(african_country, (chinese_class_df['Nationality'].values == 'Africa').sum(), p=african_probabilities) \n",
    "#Rest of the world students have a country picked for them\n",
    "chinese_class_df.loc[chinese_class_df['Nationality'] == 'Rest of the World', 'Nationality'] = rng.choice(rest_of_world_country, (chinese_class_df['Nationality'].values == 'Rest of the World').sum(), p=rest_of_world_probabilities) \n",
    "\n",
    "\n",
    "\n",
    "#Using 1 to indicate a scholarship, with a probability of 12.81% from the government statistics for 2018.\n",
    "chinese_class_df['Scholarship'] = rng.binomial(1, 0.1281, school_size)\n",
    "\n",
    "#Declaring the 4 types of programs available at the school.\n",
    "program_type = ['Non-degree', 'Undergraduate', \"Master's\", 'Doctoral']\n",
    "#The total number of International students on each program type in China in 2018.\n",
    "program_totals = np.array([234063, 173060, 59444, 25618])\n",
    "#Using those totals and their proportion of the whole to create probabilities.\n",
    "program_probabilities = program_totals / sum(program_totals)\n",
    "#Generating program types for each student.\n",
    "chinese_class_df['Program'] = rng.choice(program_type, school_size, p=program_probabilities)\n",
    "\n",
    "\n",
    "#Simulating the students that sat any HSK written exam, based off the percentage calculated in the HSK section of this notebook.\n",
    "chinese_class_df['HSK written test?'] = rng.binomial(1, 0.185, school_size)\n",
    "\n",
    "#Simulating which written test these students took.\n",
    "#Listing the 6 HSK levels for the written exam\n",
    "hsk_written_levels = np.array(['HSK1', 'HSK2', 'HSK3', 'HSK4', 'HSK5', 'HSK6'])\n",
    "#The total number of students that took these tests in 2012.\n",
    "hsk_written_2012 = np.array([658, 1343, 4003, 16158, 21278, 17153])\n",
    "#Dividing the 2012 figures for each level by total HSK tests taken that year. These proportions will be my probabilities\n",
    "hsk_written_levels_proportions = hsk_written_2012 / sum(hsk_written_2012)\n",
    "\n",
    "#Using Choice() to select a HSK level for each of the students that sat a HSK written test.\n",
    "chinese_class_df.loc[chinese_class_df['HSK written test?'] == 1, 'HSK Level'] = rng.choice(hsk_written_levels, chinese_class_df['HSK written test?'].sum(), p=hsk_written_levels_proportions) \n",
    "\n",
    "#Simulating the results for each section of the written test. \n",
    "#Simulation based off the mean and standard deviation from the study of 108 US students.\n",
    "#Reading section. First stating the mean and standard deviation.\n",
    "reading_mean = 75.39\n",
    "reading_sd = 13.85\n",
    "#Generating the results.\n",
    "chinese_class_df.loc[chinese_class_df['HSK written test?'] == 1, 'Reading'] = rng.normal(reading_mean, reading_sd, chinese_class_df['HSK written test?'].sum())\n",
    "#Reducing the HSK6 results by 1/3 to reflect the higher difficulty. The mean and SD for HSK4 is too high for this test.\n",
    "chinese_class_df.loc[chinese_class_df['HSK Level'] == 'HSK6', ['Reading']] = (chinese_class_df['Reading'] / 3) * 2\n",
    "#Normal distribution will pick a few values above 100. This goes beyond the possible score in the section, so I'll cap these at 100.\n",
    "chinese_class_df.loc[chinese_class_df['Reading'] > 100, 'Reading'] = 100\n",
    "\n",
    "\n",
    "#Listening section - same process as for the Reading test.\n",
    "listening_mean = 70.73\n",
    "listening_sd = 15.22\n",
    "chinese_class_df.loc[chinese_class_df['HSK written test?'] == 1, 'Listening'] = rng.normal(listening_mean, listening_sd, chinese_class_df['HSK written test?'].sum())\n",
    "chinese_class_df.loc[chinese_class_df['HSK Level'] == 'HSK6', ['Listening']] = (chinese_class_df['Listening'] / 3) * 2\n",
    "chinese_class_df.loc[chinese_class_df['Listening'] > 100, 'Listening'] = 100\n",
    "\n",
    "#Writing section.\n",
    "#Only HSK 3 - 6 has a writing section. Creating a mask to subset those tests.\n",
    "hsk_writing_sections = ['HSK3', 'HSK4', 'HSK5', 'HSK6']\n",
    "\n",
    "writing_mean = 69.67\n",
    "writing_sd = 11.95\n",
    "chinese_class_df.loc[chinese_class_df['HSK Level'].isin(hsk_writing_sections), 'Writing'] = rng.normal(writing_mean, writing_sd, len(chinese_class_df.loc[chinese_class_df['HSK Level'].isin(hsk_writing_sections)]))\n",
    "chinese_class_df.loc[chinese_class_df['HSK Level'] == 'HSK6', ['Writing']] = (chinese_class_df['Writing'] / 3) * 2\n",
    "chinese_class_df.loc[chinese_class_df['Writing'] > 100, 'Writing'] = 100\n",
    "\n",
    "#Scores for each section must be rounded to integers.\n",
    "chinese_class_df[['Reading', 'Listening', 'Writing']] = chinese_class_df[['Reading', 'Listening', 'Writing']].apply(pd.Series.round)\n",
    "\n",
    "#HSK Written Results\n",
    "#Sum the 3 sections to get the score.\n",
    "chinese_class_df['Total Written Score'] = chinese_class_df['Reading'] + chinese_class_df['Listening'] + chinese_class_df['Writing']\n",
    "\n",
    "#HSK 3 - 6 has 3 sections, so final score has to be divided by 3.\n",
    "chinese_class_df.loc[chinese_class_df['HSK Level'].isin(hsk_writing_sections), 'Total Written Score'] = round(chinese_class_df['Total Written Score'] / 3, 2)\n",
    "#HSK 1 and 2 have 2 sections, so final score is divided by 2.\n",
    "chinese_class_df.loc[~chinese_class_df['HSK Level'].isin(hsk_writing_sections), 'Total Written Score'] = round(chinese_class_df['Total Written Score'] / 2, 2)\n",
    "\n",
    "#Pass/Fail. HSK 1-5 has a passing grade of 60. HSK has a passing grade of 40.\n",
    "#Creating a mask of the tests that require 60 points.\n",
    "hsk_pass_60_tests = ['HSK1','HSK2','HSK3','HSK4','HSK5']\n",
    "\n",
    "#Pass/Fail for the tests that require 60 points to pass.\n",
    "chinese_class_df.loc[(chinese_class_df['HSK Level'].isin(hsk_pass_60_tests)) & (chinese_class_df['Total Written Score'] >= 60), 'HSK Pass'] = 'Pass'\n",
    "chinese_class_df.loc[(chinese_class_df['HSK Level'].isin(hsk_pass_60_tests)) & (chinese_class_df['Total Written Score'] < 60), 'HSK Pass'] = 'Fail'\n",
    "#Pass/Fail for HSK 6 (40 points to pass)\n",
    "chinese_class_df.loc[(~chinese_class_df['HSK Level'].isin(hsk_pass_60_tests)) & (chinese_class_df['Total Written Score'] >=40), 'HSK Pass'] = 'Pass'\n",
    "chinese_class_df.loc[(~chinese_class_df['HSK Level'].isin(hsk_pass_60_tests)) & (chinese_class_df['Total Written Score'] <40), 'HSK Pass'] = 'Fail'\n",
    "\n",
    "#Simulating students that took the oral test, based off percentage calculated in the HSK section of this notebook.\n",
    "chinese_class_df['HSK oral test?'] = rng.binomial(1, 0.0097, school_size)\n",
    "\n",
    "#Stating the three levels of Oral test, alongside their 2012 totals and probabilities.\n",
    "hsk_oral_levels = np.array(['Beginner', 'Intermediate', 'Advanced'])\n",
    "hsk_oral_2012 = np.array([56, 1708, 1407])\n",
    "hsk_oral_level_proportions = hsk_oral_2012 / sum(hsk_oral_2012)\n",
    "#Selecting the level for each student that took an oral test.\n",
    "chinese_class_df.loc[chinese_class_df['HSK oral test?'] == 1, 'HSK Oral Level'] = rng.choice(hsk_oral_levels, chinese_class_df['HSK oral test?'].sum(), p=hsk_oral_level_proportions) \n",
    "\n",
    "#Generating oral test results - same as the reading, writing and listening sections of written test. \n",
    "hsk_oral_mean = 79\n",
    "hsk_oral_sd = 9.84\n",
    "chinese_class_df.loc[chinese_class_df['HSK oral test?'] == 1, 'Speaking'] = rng.normal(hsk_oral_mean, hsk_oral_sd, chinese_class_df['HSK oral test?'].sum())\n",
    "chinese_class_df.loc[chinese_class_df['Speaking'] > 100, 'Speaking'] = 100\n",
    "chinese_class_df[['Speaking']] = chinese_class_df[['Speaking']].apply(pd.Series.round)\n",
    "\n",
    "#Highlighting who passed and failed.\n",
    "chinese_class_df.loc[chinese_class_df['Speaking'] >= 60, 'HSK Oral Pass'] = 'Pass'\n",
    "chinese_class_df.loc[chinese_class_df['Speaking'] < 60, 'HSK Oral Pass'] = 'Fail'"
   ]
  },
  {
   "cell_type": "code",
   "execution_count": 31,
   "metadata": {},
   "outputs": [
    {
     "data": {
      "text/html": [
       "<div>\n",
       "<style scoped>\n",
       "    .dataframe tbody tr th:only-of-type {\n",
       "        vertical-align: middle;\n",
       "    }\n",
       "\n",
       "    .dataframe tbody tr th {\n",
       "        vertical-align: top;\n",
       "    }\n",
       "\n",
       "    .dataframe thead th {\n",
       "        text-align: right;\n",
       "    }\n",
       "</style>\n",
       "<table border=\"1\" class=\"dataframe\">\n",
       "  <thead>\n",
       "    <tr style=\"text-align: right;\">\n",
       "      <th></th>\n",
       "      <th>Nationality</th>\n",
       "      <th>Scholarship</th>\n",
       "      <th>Program</th>\n",
       "      <th>HSK written test?</th>\n",
       "      <th>HSK Level</th>\n",
       "      <th>Reading</th>\n",
       "      <th>Listening</th>\n",
       "      <th>Writing</th>\n",
       "      <th>Total Written Score</th>\n",
       "      <th>HSK Pass</th>\n",
       "      <th>HSK oral test?</th>\n",
       "      <th>HSK Oral Level</th>\n",
       "      <th>Speaking</th>\n",
       "      <th>HSK Oral Pass</th>\n",
       "    </tr>\n",
       "  </thead>\n",
       "  <tbody>\n",
       "    <tr>\n",
       "      <th>0</th>\n",
       "      <td>Pakistan</td>\n",
       "      <td>1</td>\n",
       "      <td>Non-degree</td>\n",
       "      <td>0</td>\n",
       "      <td>NaN</td>\n",
       "      <td>NaN</td>\n",
       "      <td>NaN</td>\n",
       "      <td>NaN</td>\n",
       "      <td>NaN</td>\n",
       "      <td>NaN</td>\n",
       "      <td>0</td>\n",
       "      <td>NaN</td>\n",
       "      <td>NaN</td>\n",
       "      <td>NaN</td>\n",
       "    </tr>\n",
       "    <tr>\n",
       "      <th>1</th>\n",
       "      <td>Mexico</td>\n",
       "      <td>0</td>\n",
       "      <td>Undergraduate</td>\n",
       "      <td>0</td>\n",
       "      <td>NaN</td>\n",
       "      <td>NaN</td>\n",
       "      <td>NaN</td>\n",
       "      <td>NaN</td>\n",
       "      <td>NaN</td>\n",
       "      <td>NaN</td>\n",
       "      <td>0</td>\n",
       "      <td>NaN</td>\n",
       "      <td>NaN</td>\n",
       "      <td>NaN</td>\n",
       "    </tr>\n",
       "    <tr>\n",
       "      <th>2</th>\n",
       "      <td>Kazakhstan</td>\n",
       "      <td>0</td>\n",
       "      <td>Non-degree</td>\n",
       "      <td>0</td>\n",
       "      <td>NaN</td>\n",
       "      <td>NaN</td>\n",
       "      <td>NaN</td>\n",
       "      <td>NaN</td>\n",
       "      <td>NaN</td>\n",
       "      <td>NaN</td>\n",
       "      <td>0</td>\n",
       "      <td>NaN</td>\n",
       "      <td>NaN</td>\n",
       "      <td>NaN</td>\n",
       "    </tr>\n",
       "    <tr>\n",
       "      <th>3</th>\n",
       "      <td>Iraq</td>\n",
       "      <td>0</td>\n",
       "      <td>Non-degree</td>\n",
       "      <td>1</td>\n",
       "      <td>HSK4</td>\n",
       "      <td>63.0</td>\n",
       "      <td>63.0</td>\n",
       "      <td>62.0</td>\n",
       "      <td>62.67</td>\n",
       "      <td>Pass</td>\n",
       "      <td>0</td>\n",
       "      <td>NaN</td>\n",
       "      <td>NaN</td>\n",
       "      <td>NaN</td>\n",
       "    </tr>\n",
       "    <tr>\n",
       "      <th>4</th>\n",
       "      <td>Ethiopia</td>\n",
       "      <td>0</td>\n",
       "      <td>Non-degree</td>\n",
       "      <td>0</td>\n",
       "      <td>NaN</td>\n",
       "      <td>NaN</td>\n",
       "      <td>NaN</td>\n",
       "      <td>NaN</td>\n",
       "      <td>NaN</td>\n",
       "      <td>NaN</td>\n",
       "      <td>0</td>\n",
       "      <td>NaN</td>\n",
       "      <td>NaN</td>\n",
       "      <td>NaN</td>\n",
       "    </tr>\n",
       "  </tbody>\n",
       "</table>\n",
       "</div>"
      ],
      "text/plain": [
       "  Nationality  Scholarship        Program  HSK written test? HSK Level  \\\n",
       "0    Pakistan            1     Non-degree                  0       NaN   \n",
       "1      Mexico            0  Undergraduate                  0       NaN   \n",
       "2  Kazakhstan            0     Non-degree                  0       NaN   \n",
       "3        Iraq            0     Non-degree                  1      HSK4   \n",
       "4    Ethiopia            0     Non-degree                  0       NaN   \n",
       "\n",
       "   Reading  Listening  Writing  Total Written Score HSK Pass  HSK oral test?  \\\n",
       "0      NaN        NaN      NaN                  NaN      NaN               0   \n",
       "1      NaN        NaN      NaN                  NaN      NaN               0   \n",
       "2      NaN        NaN      NaN                  NaN      NaN               0   \n",
       "3     63.0       63.0     62.0                62.67     Pass               0   \n",
       "4      NaN        NaN      NaN                  NaN      NaN               0   \n",
       "\n",
       "  HSK Oral Level  Speaking HSK Oral Pass  \n",
       "0            NaN       NaN           NaN  \n",
       "1            NaN       NaN           NaN  \n",
       "2            NaN       NaN           NaN  \n",
       "3            NaN       NaN           NaN  \n",
       "4            NaN       NaN           NaN  "
      ]
     },
     "execution_count": 31,
     "metadata": {},
     "output_type": "execute_result"
    }
   ],
   "source": [
    "chinese_class_df.head()"
   ]
  },
  {
   "cell_type": "markdown",
   "metadata": {},
   "source": [
    "## Visualizing the dataset"
   ]
  },
  {
   "cell_type": "code",
   "execution_count": 32,
   "metadata": {},
   "outputs": [],
   "source": [
    "import matplotlib.pyplot as plt\n",
    "import seaborn as sns"
   ]
  },
  {
   "cell_type": "code",
   "execution_count": 33,
   "metadata": {},
   "outputs": [],
   "source": [
    "#Creating a function for general formatting of my plots.\n",
    "def format_plots(ax, title, xlabel, ylabel):\n",
    "    grey = '#808080'\n",
    "        \n",
    "    #Creating objects for the plot for easier customisation.        \n",
    "    fig.suptitle(title, x=0.125, y = 0.95, fontsize = 12, ha='left', color = grey, fontweight = 'bold')\n",
    "\n",
    "    #Using fig.text for the axis laels as it gives more flexibility.\n",
    "    fig.text(0.125, 0.03, xlabel, ha='left', color = grey)\n",
    "    fig.text(0.12, 0.9, ylabel, ha='right', color = grey)\n",
    "        \n",
    "    #Will edit the spines, so that we can highlight the data in the plot itself.\n",
    "    ax.spines['right'].set_visible(False)\n",
    "    ax.spines['top'].set_visible(False)\n",
    "    ax.spines['left'].set_color(grey)\n",
    "    ax.spines['bottom'].set_color(grey)\n",
    "    ax.tick_params(axis='both', colors=grey)\n",
    "    \n",
    "    ax.set_ylabel('')    \n",
    "    ax.set_xlabel('')\n",
    "\n",
    "    return ax"
   ]
  },
  {
   "cell_type": "markdown",
   "metadata": {},
   "source": [
    "### Student Nationalities"
   ]
  },
  {
   "cell_type": "code",
   "execution_count": 34,
   "metadata": {},
   "outputs": [
    {
     "data": {
      "image/png": "[encoded data removed]",
      "text/plain": [
       "<Figure size 432x288 with 1 Axes>"
      ]
     },
     "metadata": {
      "needs_background": "dark"
     },
     "output_type": "display_data"
    }
   ],
   "source": [
    "#https://seaborn.pydata.org/generated/seaborn.countplot.html\n",
    "fig, ax = plt.subplots()\n",
    "ax = sns.countplot(x = chinese_class_df['Nationality'])\n",
    "format_plots(ax, \"Countplot of all student nationalities\", \"Nationality\", \"Count\")\n",
    "ax.set(xticklabels=[])\n",
    "fig.text(0.9, 0.6, \"Students come from \\n{} different countries.\".format(len(chinese_class_df['Nationality'].unique())), ha='left')\n",
    "ax;"
   ]
  },
  {
   "cell_type": "code",
   "execution_count": 35,
   "metadata": {},
   "outputs": [
    {
     "data": {
      "image/png": "[encoded data removed]",
      "text/plain": [
       "<Figure size 432x288 with 1 Axes>"
      ]
     },
     "metadata": {
      "needs_background": "dark"
     },
     "output_type": "display_data"
    }
   ],
   "source": [
    "fig, ax = plt.subplots()\n",
    "ax = sns.countplot(y=\"Nationality\", data=chinese_class_df,\n",
    "              order=chinese_class_df.Nationality.value_counts().iloc[:15].index)\n",
    "format_plots(ax, \"Countplot of the top 15 student nationalities\", \"Count\", \"Nationality\")\n",
    "fig.text(0.9, 0.6, \"South Korea is consistently \\nthe top source of students.\", ha='left');"
   ]
  },
  {
   "cell_type": "code",
   "execution_count": 36,
   "metadata": {},
   "outputs": [
    {
     "data": {
      "image/png": "[encoded data removed]",
      "text/plain": [
       "<Figure size 432x288 with 1 Axes>"
      ]
     },
     "metadata": {
      "needs_background": "dark"
     },
     "output_type": "display_data"
    }
   ],
   "source": [
    "fig, ax = plt.subplots()\n",
    "ax = sns.countplot(y=\"Nationality\", hue=\"Scholarship\", data=chinese_class_df,\n",
    "              order=chinese_class_df.Nationality.value_counts().iloc[:15].index)\n",
    "format_plots(ax, \"Countplot of the top 15 student nationalities and their funding\", \"Count\", \"Nationality\")\n",
    "fig.text(0.9, 0.6, \"The majority of students are self-funded.\", ha='left')\n",
    "plt.legend(['Self-funded', 'Scholarship']);"
   ]
  },
  {
   "cell_type": "code",
   "execution_count": 37,
   "metadata": {},
   "outputs": [
    {
     "data": {
      "image/png": "[encoded data removed]",
      "text/plain": [
       "<Figure size 432x288 with 1 Axes>"
      ]
     },
     "metadata": {
      "needs_background": "dark"
     },
     "output_type": "display_data"
    }
   ],
   "source": [
    "fig, ax = plt.subplots()\n",
    "ax = sns.countplot(y=\"Nationality\", hue=\"Program\", data=chinese_class_df,\n",
    "              order=chinese_class_df.Nationality.value_counts().iloc[:10].index)\n",
    "format_plots(ax, \"Countplot of the top 10 student nationalities and their program tyoe\", \"Count\", \"Nationality\")\n",
    "fig.text(0.9, 0.5, \"The majority of students are are \\nalso on Non-degree programs.\\n\\nThese are typically intesnive language \\nprograms for 1 or 2 semesters.\", ha='left');"
   ]
  },
  {
   "cell_type": "markdown",
   "metadata": {},
   "source": [
    "### HSK test takers and results"
   ]
  },
  {
   "cell_type": "code",
   "execution_count": 38,
   "metadata": {},
   "outputs": [
    {
     "data": {
      "image/png": "[encoded data removed]",
      "text/plain": [
       "<Figure size 432x288 with 1 Axes>"
      ]
     },
     "metadata": {
      "needs_background": "dark"
     },
     "output_type": "display_data"
    }
   ],
   "source": [
    "fig, ax = plt.subplots()\n",
    "ax = sns.countplot(x = chinese_class_df['HSK written test?'])\n",
    "format_plots(ax, \"Countplot students that took a HSK written test\", \"Student's choices\", \"Count\")\n",
    "ax.set(xticklabels=['No HSK test', 'HSK test'])\n",
    "fig.text(0.9, 0.4, \"Around 1 in 5 students \\ntake the formal HSK test. \\n\\nThis is an optional test that \\nrequires to student to opt in\\n and pay a fee.\".format(len(chinese_class_df['Nationality'].unique())), ha='left')\n",
    "ax;"
   ]
  },
  {
   "cell_type": "code",
   "execution_count": 39,
   "metadata": {},
   "outputs": [
    {
     "data": {
      "image/png": "[encoded data removed]",
      "text/plain": [
       "<Figure size 432x288 with 1 Axes>"
      ]
     },
     "metadata": {
      "needs_background": "dark"
     },
     "output_type": "display_data"
    }
   ],
   "source": [
    "fig, ax = plt.subplots()\n",
    "ax = sns.countplot(x = chinese_class_df['HSK written test?'], hue = chinese_class_df['Scholarship'])\n",
    "format_plots(ax, \"Countplot of students that took a HSK written test and their funding\", \"Student's choices\", \"Count\")\n",
    "ax.set(xticklabels=['No HSK test', 'HSK test'])\n",
    "fig.text(0.9, 0.4, \"HSK fees are not normally \\nincluded in scholarships, \\nand do not require the \\nstudent to take the test.\".format(len(chinese_class_df['Nationality'].unique())), ha='left')\n",
    "plt.legend(['Self-funded', 'Scholarship']);\n",
    "ax;"
   ]
  },
  {
   "cell_type": "code",
   "execution_count": 40,
   "metadata": {},
   "outputs": [
    {
     "data": {
      "image/png": "[encoded data removed]",
      "text/plain": [
       "<Figure size 432x288 with 1 Axes>"
      ]
     },
     "metadata": {
      "needs_background": "dark"
     },
     "output_type": "display_data"
    }
   ],
   "source": [
    "fig, ax = plt.subplots()\n",
    "ax = sns.countplot(x = chinese_class_df['HSK written test?'], hue = chinese_class_df['Program'])\n",
    "format_plots(ax, \"Countplot of students that took a HSK written test and their program\", \"Student's choices\", \"Count\")\n",
    "ax.set(xticklabels=['No HSK test', 'HSK test'])\n",
    "fig.text(0.9, 0.4, \"Similarly the HSK test is not included \\nas part of degree programs, but \\nmay be required to start a \\ndegree that is not specifically \\nfor Chinese Language.\".format(len(chinese_class_df['Nationality'].unique())), ha='left')\n",
    "ax;"
   ]
  },
  {
   "cell_type": "code",
   "execution_count": 41,
   "metadata": {},
   "outputs": [
    {
     "data": {
      "image/png": "[encoded data removed]",
      "text/plain": [
       "<Figure size 432x288 with 1 Axes>"
      ]
     },
     "metadata": {
      "needs_background": "dark"
     },
     "output_type": "display_data"
    }
   ],
   "source": [
    "fig, ax = plt.subplots()\n",
    "ax = sns.countplot(x = 'HSK Pass', data = chinese_class_df.loc[chinese_class_df['HSK written test?'] == 1])\n",
    "format_plots(ax, \"Countplot of students that passed or failed a HSK written test\", \"Student's choices\", \"Count\")\n",
    "ax.set(xticklabels=['Pass', 'Fail'])\n",
    "fig.text(0.9, 0.4, \"Due to the opt in nature of the HSK test, \\npass rates are generally high. \\n\\nSchools will often run additional optional \\nHSK preparation classes for an extra fee.\".format(len(chinese_class_df['Nationality'].unique())), ha='left')\n",
    "ax;"
   ]
  },
  {
   "cell_type": "code",
   "execution_count": 42,
   "metadata": {},
   "outputs": [
    {
     "data": {
      "image/png": "[encoded data removed]",
      "text/plain": [
       "<Figure size 432x288 with 1 Axes>"
      ]
     },
     "metadata": {
      "needs_background": "dark"
     },
     "output_type": "display_data"
    }
   ],
   "source": [
    "fig, ax = plt.subplots()\n",
    "ax = sns.countplot(x = 'HSK Level', hue = 'HSK Pass', order = ['HSK1', 'HSK2', 'HSK3', 'HSK4', 'HSK5', 'HSK6'], data = chinese_class_df.loc[chinese_class_df['HSK written test?'] == 1])\n",
    "format_plots(ax, \"Countplot of students that passed or failed a HSK written test\", \"Student's choices\", \"Count\")\n",
    "#ax.set(xticklabels=['Pass', 'Fail'])\n",
    "fig.text(0.9, 0.3, \"Very few students take HSK 1-3.\\n\\nMeanwhile those that do attempt \\nany HSK test have a high pass rate.\\n\\nThis is likely due to the opt in nature of the \\nHSK test. \\n\\nSchools will often run additional optional \\nHSK preparation classes for an extra fee.\".format(len(chinese_class_df['Nationality'].unique())), ha='left')\n",
    "ax;"
   ]
  },
  {
   "cell_type": "code",
   "execution_count": 43,
   "metadata": {},
   "outputs": [
    {
     "data": {
      "image/png": "[encoded data removed]",
      "text/plain": [
       "<Figure size 432x288 with 1 Axes>"
      ]
     },
     "metadata": {
      "needs_background": "dark"
     },
     "output_type": "display_data"
    }
   ],
   "source": [
    "fig, ax = plt.subplots()\n",
    "ax = sns.countplot(y=\"Nationality\", data=chinese_class_df.loc[chinese_class_df['HSK written test?'] == 1],\n",
    "              order=chinese_class_df.loc[chinese_class_df['HSK written test?'] == 1].Nationality.value_counts().iloc[:15].index)\n",
    "format_plots(ax, \"Countplot of the top 15 student nationalities of written HSK test takers\", \"Count\", \"Nationality\")\n",
    "fig.text(0.9, 0.6, \"The large share of South Korean \\nstudents also means they are \\namong the largest share of HSK takers.\", ha='left');"
   ]
  },
  {
   "cell_type": "code",
   "execution_count": 44,
   "metadata": {},
   "outputs": [
    {
     "data": {
      "image/png": "[encoded data removed]",
      "text/plain": [
       "<Figure size 602.625x540 with 9 Axes>"
      ]
     },
     "metadata": {
      "needs_background": "light"
     },
     "output_type": "display_data"
    }
   ],
   "source": [
    "hsk_written_sections = chinese_class_df.loc[chinese_class_df['HSK Level'].isin(hsk_writing_sections),'HSK Level':'Writing'].sort_values('HSK Level')\n",
    "ax = sns.pairplot(hsk_written_sections, dropna=True, hue = 'HSK Level', palette = 'Set2', corner=True)\n",
    "ax.fig.suptitle(\"Pairplot of Listening, Writing and Reading scores for HSK 3-6\", x=0.1, y = 1, fontsize = 12, ha='left', color = '#808080', fontweight = 'bold');"
   ]
  },
  {
   "cell_type": "code",
   "execution_count": 45,
   "metadata": {},
   "outputs": [
    {
     "name": "stderr",
     "output_type": "stream",
     "text": [
      "/Users/Brian/opt/anaconda3/lib/python3.8/site-packages/seaborn/distributions.py:305: UserWarning: Dataset has 0 variance; skipping density estimate.\n",
      "  warnings.warn(msg, UserWarning)\n",
      "/Users/Brian/opt/anaconda3/lib/python3.8/site-packages/seaborn/distributions.py:305: UserWarning: Dataset has 0 variance; skipping density estimate.\n",
      "  warnings.warn(msg, UserWarning)\n"
     ]
    },
    {
     "data": {
      "image/png": "[encoded data removed]",
      "text/plain": [
       "<Figure size 422.625x360 with 5 Axes>"
      ]
     },
     "metadata": {
      "needs_background": "light"
     },
     "output_type": "display_data"
    }
   ],
   "source": [
    "hsk_written_sections = chinese_class_df.loc[~chinese_class_df['HSK Level'].isin(hsk_writing_sections),'HSK Level':'Listening'].sort_values('HSK Level')\n",
    "ax = sns.pairplot(hsk_written_sections, dropna=True, hue = 'HSK Level', palette = 'Set2', corner=True)\n",
    "ax.fig.suptitle(\"Pairplot of Listening and Reading scores for HSK 1 & 2\", x=0.1, y = 1, fontsize = 12, ha='left', color = '#808080', fontweight = 'bold');"
   ]
  },
  {
   "cell_type": "code",
   "execution_count": 46,
   "metadata": {},
   "outputs": [
    {
     "data": {
      "image/png": "[encoded data removed]",
      "text/plain": [
       "<Figure size 432x288 with 1 Axes>"
      ]
     },
     "metadata": {
      "needs_background": "dark"
     },
     "output_type": "display_data"
    }
   ],
   "source": [
    "fig, ax = plt.subplots()\n",
    "ax = sns.countplot(x = chinese_class_df['HSK oral test?'], hue = chinese_class_df['Scholarship'])\n",
    "format_plots(ax, \"Countplot of students that took a HSK oral test and their funding\", \"Student's choices\", \"Count\")\n",
    "ax.set(xticklabels=['No HSK oral test', 'HSK oral test'])\n",
    "fig.text(0.9, 0.4, \"Only 1% of students take the HSK \\noral test regardless of their funding.\".format(len(chinese_class_df['Nationality'].unique())), ha='left')\n",
    "plt.legend(['Self-funded', 'Scholarship']);\n",
    "ax;"
   ]
  },
  {
   "cell_type": "code",
   "execution_count": 47,
   "metadata": {
    "scrolled": true
   },
   "outputs": [
    {
     "data": {
      "image/png": "[encoded data removed]",
      "text/plain": [
       "<Figure size 432x288 with 1 Axes>"
      ]
     },
     "metadata": {
      "needs_background": "dark"
     },
     "output_type": "display_data"
    }
   ],
   "source": [
    "fig, ax = plt.subplots()\n",
    "ax = sns.barplot(x = chinese_class_df.loc[chinese_class_df['HSK oral test?'] == 1].groupby('Nationality').count().reset_index()['Scholarship'], y = chinese_class_df.loc[chinese_class_df['HSK oral test?'] == 1].groupby('Nationality').count().reset_index()['Nationality'], orient=\"h\")\n",
    "format_plots(ax, \"Bar plot of the nationalities of the HSK oral test takers\", \"Count\", \"Nationality\")\n",
    "fig.text(0.9, 0.6, \"With just 1% of students \\ntaking the HSK oral test, \\nthey are more likely to come \\nfrom one of the top 15 coutries.\", ha='left')\n",
    "ax;"
   ]
  },
  {
   "cell_type": "markdown",
   "metadata": {},
   "source": [
    "## Next steps\n",
    "\n",
    "* Alter HSK 6 distributions based on http://www.chinesetest.cn/gonewcontent.do?id=8750514 \n",
    "* Write up each section - Next are the test results.\n",
    "* Tidy up code.\n",
    "* Write up in more detail what each piece means and its implications.\n",
    "* Sort out references throughout.\n",
    "* Write README."
   ]
  },
  {
   "cell_type": "markdown",
   "metadata": {},
   "source": [
    "## Resources\n",
    "\n",
    "[1] https://www.researchcghe.org/perch/resources/publications/to-publish-wp46.pdf\n",
    "[2] http://en.moe.gov.cn/documents/reports/201904/t20190418_378692.html\n",
    "[3] https://www.studyinternational.com/news/african-students-china-alienated/\n",
    "[4] https://numpy.org/doc/stable/reference/random/generated/numpy.random.Generator.choice.html#numpy.random.Generator.choice\n",
    "[5] https://data.worldbank.org/indicator/SP.POP.TOTL\n",
    "[6] https://www.worldometers.info/geography/how-many-countries-in-africa/\n",
    "[7] https://www.china-admissions.com/blog/china-scholarship/\n",
    "[8] https://www.chinesescholarshipcouncil.com/\n",
    "[9] https://scholarshipfellow.com/beijing-government-scholarships-bs-ms-phd-international-students/\n",
    "[10] https://www.cucas.cn/china_scholarships/index/all_scholarship/Beijing/all_universities/all_degrees/all_languages/all_year/all_programs/0_0_1_0_0_0_0/page=1\n",
    "[11] https://numpy.org/doc/stable/reference/random/generated/numpy.random.binomial.html\n",
    "[12] http://english.hanban.org/node_8002.htm\n",
    "[13] http://blog.sina.com.cn/s/blog_53e7c11d0101f02j.html\n",
    "[14] https://thepienews.com/news/hsk-exam-three-new-levels/#:~:text=According%20to%20the%20Hanban%2C%20between,HSK4%20being%20the%20most%20popular.\n",
    "[15] https://www.wm.edu/sites/confuciusinstitute/other-resources/tests/hskk/index.php\n",
    "[16] https://improvemandarin.com/hsk-vs-hskk/\n",
    "[17] https://www.researchgate.net/figure/Descriptive-statistics-of-general-proficiency-measured-by-HSK_tbl1_312107625\n",
    "[18] http://www.chinesetest.cn/gonewcontent.do?id=8750514\n",
    "\n",
    "https://ejournals.bc.edu/index.php/ihe/article/download/10945/9333/\n",
    "\n",
    "Includes some statistics on education background and funding.\n",
    "\n",
    "http://en.moe.gov.cn/documents/reports/201904/t20190418_378692.html\n",
    "\n",
    "More information on funding, origin country, where they studied, education background.\n",
    "\n",
    "https://www.researchgate.net/figure/Descriptive-statistics-of-general-proficiency-measured-by-HSK_tbl1_312107625\n",
    "https://www.researchgate.net/figure/Correlations-among-proficiency-subskills-and-total-scores-of-pre-HSK-and-post-HSK-data_tbl4_325299887\n",
    "\n",
    "109 US students measured on their Chinese proficiency upon returning to the US after 1 year in Beijing.\n",
    "\n",
    "https://www.kaggle.com/kerneler/starter-china-scholarship-data-may-8638c810-6\n",
    "\n",
    "Data on scholarships provided by Chinese universities.\n",
    "\n",
    "http://blog.sina.com.cn/s/blog_53e7c11d0101f02j.html\n",
    "\n",
    "Number of people that took HSK from 2009-2012\n",
    "\n",
    "http://global.chinadaily.com.cn/a/201905/31/WS5cf0b106a3104842260bee25.html\n",
    "6.8 million tests taken in 2018\n",
    "\n",
    "\n",
    "https://forum.duolingo.com/comment/30363109/Percentage-of-users-who-complete-their-tree-for-each-language\n",
    "Duolingo stats from 2019 suggesting 0.0124% complete the content. This covers 1000 characters, so not even HSK 4 level.\n",
    "\n",
    "https://www.statista.com/statistics/430717/china-foreign-students-by-country-of-origin/\n",
    "Foreign students by country of origin 2018.\n",
    "\n",
    "https://www.echinacities.com/china-news/Is-the-HSK-Level-6-Test-Too-Difficult-Foreign-Test-Takers-Seem-to-Think-So\n",
    "Why people don't go above level 4/5.\n",
    "\n",
    "https://educationdata.org/international-student-enrollment-statistics\n",
    "statistics on US students abroad\n",
    "\n",
    "https://stackoverflow.com/questions/49471442/using-pandas-value-counts-to-get-one-value\n",
    "\n",
    "https://numpy.org/doc/stable/reference/random/generated/numpy.random.Generator.binomial.html#numpy.random.Generator.binomial\n",
    "\n",
    "https://numpy.org/doc/stable/reference/random/generated/numpy.random.Generator.normal.html#n\n",
    "\n",
    "https://stackoverflow.com/questions/31247763/round-columns-in-pandas-dataframe\n",
    "\n",
    "https://realpython.com/python-string-formatting/\n",
    "\n",
    "shows distributions of scores - compare to US students \n",
    "http://www.chinesetest.cn/gonewcontent.do?id=8750514 "
   ]
  }
 ],
 "metadata": {
  "kernelspec": {
   "display_name": "Python 3",
   "language": "python",
   "name": "python3"
  },
  "language_info": {
   "codemirror_mode": {
    "name": "ipython",
    "version": 3
   },
   "file_extension": ".py",
   "mimetype": "text/x-python",
   "name": "python",
   "nbconvert_exporter": "python",
   "pygments_lexer": "ipython3",
   "version": "3.8.5"
  }
 },
 "nbformat": 4,
 "nbformat_minor": 4
}
