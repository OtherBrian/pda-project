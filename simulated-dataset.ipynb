{
 "cells": [
  {
   "cell_type": "markdown",
   "metadata": {},
   "source": [
    "# Problem statement\n",
    "For this project you must create a data set by simulating a real-world phenomenon of\n",
    "your choosing. You may pick any phenomenon you wish – you might pick one that is\n",
    "of interest to you in your personal or professional life. Then, rather than collect data\n",
    "related to the phenomenon, you should model and synthesise such data using Python.\n",
    "We suggest you use the numpy.random package for this purpose.\n",
    "Specifically, in this project you should:\n",
    "\n",
    "* Choose a real-world phenomenon that can be measured and for which you could\n",
    "collect at least one-hundred data points across at least four different variables.\n",
    "* Investigate the types of variables involved, their likely distributions, and their\n",
    "relationships with each other.\n",
    "* Synthesise/simulate a data set as closely matching their properties as possible.\n",
    "* Detail your research and implement the simulation in a Jupyter notebook – the\n",
    "data set itself can simply be displayed in an output cell within the notebook.\n",
    "\n",
    "Note that this project is about simulation – you must synthesise a data set. Some\n",
    "students may already have some real-world data sets in their own files. It is okay to\n",
    "base your synthesised data set on these should you wish (please reference it if you do),\n",
    "but the main task in this project is to create a synthesised data set. The next section\n",
    "gives an example project idea."
   ]
  },
  {
   "cell_type": "markdown",
   "metadata": {},
   "source": [
    "Initial thoughts - Only a fraction of International students in China get to the HSK 5 or 6.\n",
    "\n",
    "Option 1 - simulate number of American students that attempt the various HSK levels and their pass rates.\n",
    "\n",
    "Option 2 - simulate a school made up of people from top 15 sources of international students. See who tried what test and pass rates. South Korea makes up the majority of students and each HSK level.\n",
    "\n",
    "## Variables\n",
    "\n",
    "* HSK level (see if I can get statistics on how many are awarded)\n",
    "* Education background\n",
    "* Origin country\n",
    "* Funding of study\n",
    "* Level of program they enroll into\n",
    "* Hours of study\n",
    "* Scores"
   ]
  },
  {
   "cell_type": "markdown",
   "metadata": {},
   "source": [
    "## Country of Origin\n",
    "\n",
    "Turns out I only have access to the top 15 countries from 2018\n",
    "\n",
    "* South Korea\t50,600\n",
    "* Thailand\t28,608\n",
    "* Pakistan\t28,023\n",
    "* India\t23,198\n",
    "* United States\t20,996\n",
    "* Russia\t19,239\n",
    "* Indonesia\t15,050\n",
    "* Laos\t14,645\n",
    "* Japan\t14,230\n",
    "* Kazakhstan\t11,784\n",
    "* Vietnam\t11,299\n",
    "* Bangladesh\t10,735\n",
    "* France\t10,695\n",
    "* Mongolia\t10,158\n",
    "* Malaysia\t9,479"
   ]
  },
  {
   "cell_type": "markdown",
   "metadata": {},
   "source": [
    "https://www.researchcghe.org/perch/resources/publications/to-publish-wp46.pdf\n",
    "\n",
    "Also has top 10 countries 2000-2016, and total international students. As I have HSK test data from 2012, if I follow these proportions I could estimate how many American students took on each of the tests. If I use the normal distribution of scores based on the earlier paper, I could simulate what students took on the HSK, what level and what score.\n",
    "\n",
    "It also has the % of students enrolled in fulltime degrees, etc. I know most degrees require HSK 5 at least in order to enrol, so I could extrapolate this out to make an educated guess on the number % of students in Chinese Language undergraduate degrees, as undergraduate Chinese language degrees would not require a HSK to enroll.\n",
    "\n",
    "It also shows how many students were receiving scholarships until 2013, and what proportion were for non-degree students. If I were to assume it grew at about the same rate as overall international students, and that it's shared proportionally between students from various countries, I could look at who was self-funded versus on scholarship.\n",
    "\n"
   ]
  },
  {
   "cell_type": "markdown",
   "metadata": {},
   "source": [
    "In 2018 there were 492,185 International Students in China (http://global.chinadaily.com.cn/a/201904/12/WS5cb05c3ea3104842260b5eed.html#:~:text=Almost%20500%2C000%20international%20students%20studied,ministry%20said%20in%20a%20statement.)\n",
    "\n",
    "So based off of that number and the above breakdown we know that 278739 came from those 15 countries, therefore 213446 would come from \"Rest of the World\". At present I do not have a way to break these down further. \n",
    "\n",
    "\n",
    "\n",
    "\n",
    "I've since found that there were 81,562 African students in China in 2018 (https://www.studyinternational.com/news/african-students-china-alienated/). There's no breakdown by country though. This would bring rest of the world down to 131884.\n",
    "\n",
    "* Rest of the World 131,884\n",
    "* Africa 81,562\n",
    "* South Korea\t50,600\n",
    "* Thailand\t28,608\n",
    "* Pakistan\t28,023\n",
    "* India\t23,198\n",
    "* United States\t20,996\n",
    "* Russia\t19,239\n",
    "* Indonesia\t15,050\n",
    "* Laos\t14,645\n",
    "* Japan\t14,230\n",
    "* Kazakhstan\t11,784\n",
    "* Vietnam\t11,299\n",
    "* Bangladesh\t10,735\n",
    "* France\t10,695\n",
    "* Mongolia\t10,158\n",
    "* Malaysia\t9,479\n",
    "\n",
    "Going to work out proportions from each country\n",
    "\n",
    "World Population Dataset from https://data.worldbank.org/indicator/SP.POP.TOTL"
   ]
  },
  {
   "cell_type": "markdown",
   "metadata": {},
   "source": [
    "## Selecting African and Rest of the World countries.\n",
    "\n",
    "I'm going to use data from the World Bank to find out what proportion of the African population each country of African has, and I'll use this as the probability of the student coming from that country. This isn't a perfect measure, as in the real world there'd be political and academic exchanges with particular countries, meanwhile some countries are more likely to have a population that can afford to go to China for self-funded study. Nonetheless, I prefer this route as I do not want the 54 countries of African treated as one unit.\n",
    "\n",
    "I will also be doing the same for the Rest of the World. This comes with the same caveats as the African countries in that they do not represent academic or political exchanges. That said, the countries with large populations that are not counted in this top 15 or the African countries do tend to have populations that may afford studying abroad. For example Germany would be one of the remaining countries with a larger population, and so it's probability will be higher than others, however in real life its population is also likely to be more able to afford self-funded study in China."
   ]
  },
  {
   "cell_type": "code",
   "execution_count": 1,
   "metadata": {},
   "outputs": [],
   "source": [
    "import pandas as pd\n",
    "import numpy as np\n",
    "\n",
    "#read_csv documentation https://pandas.pydata.org/pandas-docs/dev/reference/api/pandas.read_csv.html\n",
    "#I've edited this dataset to remove aggregations (e.g. Eurozone, World).\n",
    "#as well as China, Hong Kong and Macau - as these would not be considered International Students.\n",
    "populations_df = pd.read_csv('world_populations.csv', usecols = ['Country Name', 'Country Code', '2019'])\n",
    "\n",
    "#https://pandas.pydata.org/pandas-docs/stable/reference/api/pandas.DataFrame.dropna.html\n",
    "populations_df.dropna(inplace=True)\n",
    "\n",
    "populations_df['2019'] = populations_df['2019'].astype('int')\n"
   ]
  },
  {
   "cell_type": "code",
   "execution_count": 32,
   "metadata": {},
   "outputs": [
    {
     "name": "stderr",
     "output_type": "stream",
     "text": [
      "<ipython-input-32-2b154112fff5>:16: SettingWithCopyWarning: \n",
      "A value is trying to be set on a copy of a slice from a DataFrame.\n",
      "Try using .loc[row_indexer,col_indexer] = value instead\n",
      "\n",
      "See the caveats in the documentation: https://pandas.pydata.org/pandas-docs/stable/user_guide/indexing.html#returning-a-view-versus-a-copy\n",
      "  african_countries['Proportion of African Population'] = african_countries['2019'] / africa_total_population\n"
     ]
    }
   ],
   "source": [
    "#Country Codes\n",
    "african_country_codes = ['DZA','AGO','BWA','IOT','BDI','CMR','CPV','CAF','TCD',\n",
    "                     'COM','MYT','COG','COD','BEN','GNQ','ETH','ERI','ATF',\n",
    "                     'DJI','GAB','GMB','GHA','GIN','CIV','KEN','LSO','LBR',\n",
    "                     'LBY','MDG','MWI','MLI','MRT','MUS','MAR','MOZ','NAM',\n",
    "                     'NER','NGA','GNB','REU','RWA','SHN','STP','SEN','SYC',\n",
    "                     'SLE','SOM','ZAF','ZWE','SSD','SDN','ESH','SWZ','TGO',\n",
    "                     'TUN','UGA','EGY','TZA','BFA','ZMB']\n",
    "\n",
    "#https://pandas.pydata.org/pandas-docs/stable/reference/api/pandas.DataFrame.isin.html\n",
    "african_countries = populations_df.loc[populations_df['Country Code'].isin(african_country_codes)]\n",
    "\n",
    "#Get the sum of african population to work out proportions per country in a moment.\n",
    "africa_total_population = african_countries['2019'].sum()\n",
    "\n",
    "african_countries['Proportion of African Population'] = african_countries['2019'] / africa_total_population\n",
    "\n",
    "african_country = np.array(african_countries['Country Name'])\n",
    "african_probabilities = np.array(african_countries['Proportion of African Population'])"
   ]
  },
  {
   "cell_type": "code",
   "execution_count": 3,
   "metadata": {},
   "outputs": [
    {
     "data": {
      "text/plain": [
       "array([3.30460644e+00, 2.44280173e+00, 9.05816334e-01, 1.76823970e-01,\n",
       "       1.55980007e+00, 8.85048222e-01, 4.22111458e-02, 1.98618318e+00,\n",
       "       3.64224310e-01, 1.22402813e+00, 6.53111241e-02, 6.66174962e+00,\n",
       "       4.12989549e-01, 1.97391471e+00, 7.47271643e-02, 7.70544808e+00,\n",
       "       1.04080887e-01, 8.81265656e-02, 8.60278326e+00, 1.66759797e-01,\n",
       "       1.80201952e-01, 2.33477148e+00, 9.80277537e-01, 1.47443459e-01,\n",
       "       4.03539989e+00, 1.63128365e-01, 3.78976086e-01, 5.20214234e-01,\n",
       "       2.07007255e+00, 1.42987945e+00, 1.50888380e+00, 3.47377079e-01,\n",
       "       9.71516844e-02, 2.79944932e+00, 2.33079395e+00, 1.91471664e-01,\n",
       "       1.78925144e+00, 1.54252844e+01, 9.69201865e-01, 1.65069693e-02,\n",
       "       1.25085364e+00, 7.49336396e-03, 5.99715889e-01, 1.18534502e+00,\n",
       "       4.49473424e+00, 8.49090283e-01, 3.28619897e+00, 4.45230265e+00,\n",
       "       6.20375007e-01, 8.97646975e-01, 3.39798392e+00, 1.37095210e+00,\n",
       "       1.12413646e+00])"
      ]
     },
     "execution_count": 3,
     "metadata": {},
     "output_type": "execute_result"
    }
   ],
   "source": [
    "african_probabilities"
   ]
  },
  {
   "cell_type": "code",
   "execution_count": 4,
   "metadata": {},
   "outputs": [
    {
     "data": {
      "text/plain": [
       "2961247792"
      ]
     },
     "execution_count": 4,
     "metadata": {},
     "output_type": "execute_result"
    }
   ],
   "source": [
    "#Need to remove the top 15 countries from rest of the world too\n",
    "\n",
    "top_15_country_codes = ['KOR', 'THA', 'PAK', 'IND', 'USA', 'RUS', 'IDN', 'LAO', 'JPN', 'KAZ', 'VNM', 'BGD', 'FRA', 'MNG', 'MYS']\n",
    "\n",
    "#https://pandas.pydata.org/pandas-docs/stable/reference/api/pandas.DataFrame.isin.html\n",
    "top_15_countries = populations_df.loc[populations_df['Country Code'].isin(top_15_country_codes)]\n",
    "\n",
    "#Get the sum of african population to work out proportions per country in a moment.\n",
    "top_15_total_population = top_15_countries['2019'].sum()\n",
    "\n",
    "top_15_total_population"
   ]
  },
  {
   "cell_type": "code",
   "execution_count": 33,
   "metadata": {},
   "outputs": [],
   "source": [
    "#Now to work out the rest of the world\n",
    "\n",
    "#World Population without China, Hong Kong & Macau, minus the African population, minus the top 15 countries\n",
    "rest_of_world_population = 6267671127 - africa_total_population - top_15_total_population\n",
    "\n",
    "rest_of_world = populations_df.loc[~populations_df['Country Code'].isin(african_country_codes)]\n",
    "rest_of_world = rest_of_world.loc[~rest_of_world['Country Code'].isin(top_15_country_codes)]\n",
    "\n",
    "\n",
    "rest_of_world['Proportion of World Population'] = rest_of_world['2019'] / rest_of_world_population\n",
    "\n",
    "rest_of_world.head()\n",
    "\n",
    "rest_of_world_country = np.array(rest_of_world['Country Name'])\n",
    "rest_of_world_probabilities = np.array(rest_of_world['Proportion of World Population'])"
   ]
  },
  {
   "cell_type": "markdown",
   "metadata": {},
   "source": [
    "Now that I have the probabilities and country names set up for the African and Rest of the World countries, I can use np.random.choice() to pick a student origin from the 17 regions (top 15 countries, Africa and Rest of the world). If Africa or Rest of the World is selected, it can then pick a country from those subsections.\n",
    "\n",
    "Now I'll need to get the probabilities of each of the 17 regions to be selected."
   ]
  },
  {
   "cell_type": "code",
   "execution_count": 30,
   "metadata": {},
   "outputs": [
    {
     "data": {
      "text/plain": [
       "0.9999999999999999"
      ]
     },
     "execution_count": 30,
     "metadata": {},
     "output_type": "execute_result"
    }
   ],
   "source": [
    "#https://numpy.org/doc/stable/reference/random/generated/numpy.random.Generator.choice.html#numpy.random.Generator.choice\n",
    "\n",
    "student_origins = np.array(['Rest of the World', 'Africa', 'South Korea', 'Thailand', 'Pakistan', 'India', 'United States',\n",
    "                  'Russia', 'Indonesia', 'Laos', 'Japan', 'Kazakhstan', 'Vietnam', 'Bangladesh', 'France', 'Mongolia',\n",
    "                  'Malaysia'])\n",
    "\n",
    "#Count of students from each region in 2018\n",
    "student_origin_counts = np.array([131884, 81562, 50600, 28608, 28023, 23198, 20996, 19239, 15050, 14645, 14230, 11784,\n",
    "                        11299, 10735, 10695, 10158, 9479])\n",
    "\n",
    "\n",
    "#Work out the probability that a student came from each region\n",
    "student_origin_probabilities = student_origin_counts / sum(student_origin_counts)\n",
    "\n",
    "sum(student_origin_probabilities)"
   ]
  },
  {
   "cell_type": "markdown",
   "metadata": {},
   "source": [
    "Now let's try pick a country location for each student."
   ]
  },
  {
   "cell_type": "code",
   "execution_count": 31,
   "metadata": {},
   "outputs": [
    {
     "data": {
      "text/plain": [
       "array(['South Korea', 'Thailand', 'Vietnam', 'Rest of the World',\n",
       "       'Thailand', 'Africa', 'Russia', 'Thailand', 'Rest of the World',\n",
       "       'South Korea', 'Rest of the World', 'Rest of the World',\n",
       "       'Rest of the World', 'Africa', 'Rest of the World', 'Russia',\n",
       "       'Indonesia', 'Rest of the World', 'South Korea', 'Africa',\n",
       "       'Africa', 'Rest of the World', 'France', 'Africa', 'Bangladesh',\n",
       "       'Africa', 'Rest of the World', 'Rest of the World',\n",
       "       'Rest of the World', 'Indonesia', 'Laos', 'Indonesia',\n",
       "       'Rest of the World', 'Africa', 'Thailand', 'United States',\n",
       "       'United States', 'Japan', 'Russia', 'South Korea', 'India',\n",
       "       'Russia', 'Rest of the World', 'Mongolia', 'Thailand', 'Pakistan',\n",
       "       'India', 'United States', 'Rest of the World', 'Rest of the World',\n",
       "       'Africa', 'Rest of the World', 'Russia', 'South Korea',\n",
       "       'Rest of the World', 'Africa', 'Rest of the World', 'Russia',\n",
       "       'Africa', 'Japan', 'United States', 'South Korea', 'Thailand',\n",
       "       'Malaysia', 'United States', 'Africa', 'Africa', 'Japan',\n",
       "       'Pakistan', 'India', 'Rest of the World', 'South Korea',\n",
       "       'Rest of the World', 'South Korea', 'Rest of the World',\n",
       "       'Pakistan', 'Rest of the World', 'Rest of the World',\n",
       "       'Rest of the World', 'Africa', 'South Korea', 'Rest of the World',\n",
       "       'Pakistan', 'Pakistan', 'Rest of the World', 'Africa',\n",
       "       'Bangladesh', 'South Korea', 'Laos', 'India', 'India',\n",
       "       'Kazakhstan', 'Rest of the World', 'Thailand', 'Vietnam',\n",
       "       'Thailand', 'Rest of the World', 'France', 'United States',\n",
       "       'Africa'], dtype='<U17')"
      ]
     },
     "execution_count": 31,
     "metadata": {},
     "output_type": "execute_result"
    }
   ],
   "source": [
    "rng = np.random.default_rng(33)\n",
    "students = rng.choice(student_origins, 100, p=student_origin_probabilities)\n",
    "\n",
    "students\n",
    "\n"
   ]
  },
  {
   "cell_type": "code",
   "execution_count": 27,
   "metadata": {},
   "outputs": [
    {
     "data": {
      "text/plain": [
       "17"
      ]
     },
     "execution_count": 27,
     "metadata": {},
     "output_type": "execute_result"
    }
   ],
   "source": [
    "len(student_origin_probabilities)"
   ]
  },
  {
   "cell_type": "markdown",
   "metadata": {},
   "source": [
    "## HSK results\n",
    "\n",
    "https://www.researchgate.net/figure/Descriptive-statistics-of-general-proficiency-measured-by-HSK_tbl1_312107625\n",
    "\n",
    "108 participants from the US did the intermedite spoken exam and HSK 4 written exam.\n",
    "\n",
    "These students stayed in the country for 1 semester (about 3 months).\n",
    "\n",
    "We also have the mean, min, max and std from that group.\n",
    "\n",
    "![here](https://screenshot.click/28_19-215cg-skgcm.jpg)\n",
    "\n",
    "I could use this to create a normal distribution of test scores from US students who have been studying in China. As I know what a passing score is, I could calculate if it was a pass or fail.\n",
    "\n",
    "Another source of data on HSK 4 results http://dpi-proceedings.com/index.php/dtem/article/view/30976/29557\n",
    "\n",
    "Shows the mean and std for 30 students from Beijing Language & Culture University\n",
    "\n",
    "![here](https://screenshot.click/28_02-0i7p9-b37me.jpg)\n",
    "\n",
    "\n",
    "\n",
    "Some more results for 2010 including pass rates and average scores for each HSK level http://www.chinesetest.cn/gonewcontent.do?id=5589387 (Note - these are for tests taken outside China)"
   ]
  },
  {
   "cell_type": "markdown",
   "metadata": {},
   "source": [
    "## Next steps\n",
    "\n",
    "* Work out what proportion of international students might sit HSK (i.e. remove all degrees except Chinese language bachelors)\n",
    "* Look at how many international students were in China during 2010-2012, and compare to number that sat HSK in China. Extrapolate that number to 2018 figures.\n",
    "* Look at proportion of HSK testers that took each level, and work out their respect probabilities.\n",
    "* Do the same for the speaking/listening.\n",
    "* This will give me the probability that a student in the class took each HSK exam.\n",
    "* I can then simulate their score in each part of the test.\n",
    "* From this I can work out if they passed or failed.\n",
    "\n",
    "\n",
    "## Questions to be decided\n",
    "* Am I just doing US students or shall I simulate international students too? \n",
    "This would give me another area to simulate, and does highlight the trend that most of the class are likely to be from Asian countries. If I use the 2010 results, it may also highlight that the average US student has a higher score than the average Korean student - that is for tests taken outside of China though, so isn't fully comparable.\n",
    "\n",
    "\n",
    "## Potential data points\n",
    "* Country - np.random.choice with probabilities for top 15 countries\n",
    "* Course type - degree vs non-degree - binomial with 1 meaning degree\n",
    "* Self-funded / scholarship - binomial with 1 meaning scholarship\n",
    "* Attempted HSK written - binomial\n",
    "* Level attempted - np.random.choice\n",
    "* Attempt HSK spoken - binomial\n",
    "* Level attempted - np.random.choice\n",
    "* Results for each section - normal distributions for each\n",
    "* Total score - total of the results of each section\n",
    "* Pass/Fail - total compared to required pass score for that level.\n"
   ]
  },
  {
   "cell_type": "markdown",
   "metadata": {},
   "source": [
    "## Resources\n",
    "\n",
    "https://ejournals.bc.edu/index.php/ihe/article/download/10945/9333/\n",
    "\n",
    "Includes some statistics on education background and funding.\n",
    "\n",
    "http://en.moe.gov.cn/documents/reports/201904/t20190418_378692.html\n",
    "\n",
    "More information on funding, origin country, where they studied, education background.\n",
    "\n",
    "https://www.researchgate.net/figure/Descriptive-statistics-of-general-proficiency-measured-by-HSK_tbl1_312107625\n",
    "https://www.researchgate.net/figure/Correlations-among-proficiency-subskills-and-total-scores-of-pre-HSK-and-post-HSK-data_tbl4_325299887\n",
    "\n",
    "109 US students measured on their Chinese proficiency upon returning to the US after 1 year in Beijing.\n",
    "\n",
    "https://www.kaggle.com/kerneler/starter-china-scholarship-data-may-8638c810-6\n",
    "\n",
    "Data on scholarships provided by Chinese universities.\n",
    "\n",
    "http://blog.sina.com.cn/s/blog_53e7c11d0101f02j.html\n",
    "\n",
    "Number of people that took HSK from 2009-2012\n",
    "\n",
    "http://global.chinadaily.com.cn/a/201905/31/WS5cf0b106a3104842260bee25.html\n",
    "6.8 million tests taken in 2018\n",
    "\n",
    "\n",
    "https://forum.duolingo.com/comment/30363109/Percentage-of-users-who-complete-their-tree-for-each-language\n",
    "Duolingo stats from 2019 suggesting 0.0124% complete the content. This covers 1000 characters, so not even HSK 4 level.\n",
    "\n",
    "https://www.statista.com/statistics/430717/china-foreign-students-by-country-of-origin/\n",
    "Foreign students by country of origin 2018.\n",
    "\n",
    "https://www.echinacities.com/china-news/Is-the-HSK-Level-6-Test-Too-Difficult-Foreign-Test-Takers-Seem-to-Think-So\n",
    "Why people don't go above level 4/5.\n",
    "\n",
    "https://educationdata.org/international-student-enrollment-statistics\n",
    "statistics on US students abraod"
   ]
  }
 ],
 "metadata": {
  "kernelspec": {
   "display_name": "Python 3",
   "language": "python",
   "name": "python3"
  },
  "language_info": {
   "codemirror_mode": {
    "name": "ipython",
    "version": 3
   },
   "file_extension": ".py",
   "mimetype": "text/x-python",
   "name": "python",
   "nbconvert_exporter": "python",
   "pygments_lexer": "ipython3",
   "version": "3.8.5"
  }
 },
 "nbformat": 4,
 "nbformat_minor": 4
}
