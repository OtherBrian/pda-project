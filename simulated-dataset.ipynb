{
 "cells": [
  {
   "cell_type": "markdown",
   "metadata": {},
   "source": [
    "# Problem statement\n",
    "For this project you must create a data set by simulating a real-world phenomenon of\n",
    "your choosing. You may pick any phenomenon you wish – you might pick one that is\n",
    "of interest to you in your personal or professional life. Then, rather than collect data\n",
    "related to the phenomenon, you should model and synthesise such data using Python.\n",
    "We suggest you use the numpy.random package for this purpose.\n",
    "Specifically, in this project you should:\n",
    "\n",
    "* Choose a real-world phenomenon that can be measured and for which you could\n",
    "collect at least one-hundred data points across at least four different variables.\n",
    "* Investigate the types of variables involved, their likely distributions, and their\n",
    "relationships with each other.\n",
    "* Synthesise/simulate a data set as closely matching their properties as possible.\n",
    "* Detail your research and implement the simulation in a Jupyter notebook – the\n",
    "data set itself can simply be displayed in an output cell within the notebook.\n",
    "\n",
    "Note that this project is about simulation – you must synthesise a data set. Some\n",
    "students may already have some real-world data sets in their own files. It is okay to\n",
    "base your synthesised data set on these should you wish (please reference it if you do),\n",
    "but the main task in this project is to create a synthesised data set. The next section\n",
    "gives an example project idea."
   ]
  },
  {
   "cell_type": "markdown",
   "metadata": {},
   "source": [
    "Initial thoughts - Only a fraction of International students in China get to the HSK 5 or 6.\n",
    "\n",
    "## Variables\n",
    "\n",
    "* HSK level (see if I can get statistics on how many are awarded)\n",
    "* Education background\n",
    "* Origin country\n",
    "* Funding of study\n",
    "* Level of program they enroll into\n",
    "* Hours of study"
   ]
  },
  {
   "cell_type": "markdown",
   "metadata": {},
   "source": [
    "Resources\n",
    "\n",
    "https://ejournals.bc.edu/index.php/ihe/article/download/10945/9333/\n",
    "\n",
    "Includes some statistics on education background and funding.\n",
    "\n",
    "http://en.moe.gov.cn/documents/reports/201904/t20190418_378692.html\n",
    "\n",
    "More information on funding, origin country, where they studied, education background.\n",
    "\n",
    "https://www.researchgate.net/figure/Descriptive-statistics-of-general-proficiency-measured-by-HSK_tbl1_312107625\n",
    "https://www.researchgate.net/figure/Correlations-among-proficiency-subskills-and-total-scores-of-pre-HSK-and-post-HSK-data_tbl4_325299887\n",
    "\n",
    "109 US students measured on their Chinese proficiency upon returning to the US after 1 year in Beijing.\n",
    "\n",
    "https://www.kaggle.com/kerneler/starter-china-scholarship-data-may-8638c810-6\n",
    "\n",
    "Data on scholarships provided by Chinese universities.\n",
    "\n",
    "http://blog.sina.com.cn/s/blog_53e7c11d0101f02j.html\n",
    "\n",
    "Number of people that took HSK from 2009-2012\n",
    "\n",
    "http://global.chinadaily.com.cn/a/201905/31/WS5cf0b106a3104842260bee25.html\n",
    "6.8 million tests taken in 2018\n",
    "\n",
    "\n",
    "https://forum.duolingo.com/comment/30363109/Percentage-of-users-who-complete-their-tree-for-each-language\n",
    "Duolingo stats from 2019 suggesting 0.0124% complete the content. This covers 1000 characters, so not even HSK 4 level.\n",
    "\n",
    "https://www.statista.com/statistics/430717/china-foreign-students-by-country-of-origin/\n",
    "Foreign students by country of origin 2018.\n",
    "\n",
    "https://www.echinacities.com/china-news/Is-the-HSK-Level-6-Test-Too-Difficult-Foreign-Test-Takers-Seem-to-Think-So\n",
    "Why people don't go above level 4/5.\n",
    "\n",
    "https://educationdata.org/international-student-enrollment-statistics\n",
    "statistics on US students abraod"
   ]
  }
 ],
 "metadata": {
  "kernelspec": {
   "display_name": "Python 3",
   "language": "python",
   "name": "python3"
  },
  "language_info": {
   "codemirror_mode": {
    "name": "ipython",
    "version": 3
   },
   "file_extension": ".py",
   "mimetype": "text/x-python",
   "name": "python",
   "nbconvert_exporter": "python",
   "pygments_lexer": "ipython3",
   "version": "3.8.5"
  }
 },
 "nbformat": 4,
 "nbformat_minor": 4
}
