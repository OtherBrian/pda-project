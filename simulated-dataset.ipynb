{
 "cells": [
  {
   "cell_type": "markdown",
   "metadata": {},
   "source": [
    "# Problem statement\n",
    "For this project you must create a data set by simulating a real-world phenomenon of\n",
    "your choosing. You may pick any phenomenon you wish – you might pick one that is\n",
    "of interest to you in your personal or professional life. Then, rather than collect data\n",
    "related to the phenomenon, you should model and synthesise such data using Python.\n",
    "We suggest you use the numpy.random package for this purpose.\n",
    "Specifically, in this project you should:\n",
    "\n",
    "* Choose a real-world phenomenon that can be measured and for which you could\n",
    "collect at least one-hundred data points across at least four different variables.\n",
    "* Investigate the types of variables involved, their likely distributions, and their\n",
    "relationships with each other.\n",
    "* Synthesise/simulate a data set as closely matching their properties as possible.\n",
    "* Detail your research and implement the simulation in a Jupyter notebook – the\n",
    "data set itself can simply be displayed in an output cell within the notebook.\n",
    "\n",
    "Note that this project is about simulation – you must synthesise a data set. Some\n",
    "students may already have some real-world data sets in their own files. It is okay to\n",
    "base your synthesised data set on these should you wish (please reference it if you do),\n",
    "but the main task in this project is to create a synthesised data set. The next section\n",
    "gives an example project idea."
   ]
  },
  {
   "cell_type": "code",
   "execution_count": 272,
   "metadata": {},
   "outputs": [],
   "source": [
    "import pandas as pd\n",
    "import numpy as np"
   ]
  },
  {
   "cell_type": "markdown",
   "metadata": {},
   "source": [
    "## Layout:\n",
    "\n",
    "* Introduce the dataset I'll be looking at.\n",
    "* Introduce information on International Students in China. \n",
    "* Include algorithms for selecting student country, program type and scholarship with research to support.\n",
    "* Introduce the HSK, and the difference between the levels.\n",
    "* Algorithms and calculations for HSK tests with research to support.\n",
    "* Algorithms and calculations for HSKK tests with research to support.\n",
    "* Bringing it all together.\n",
    "* Visualizations."
   ]
  },
  {
   "cell_type": "markdown",
   "metadata": {},
   "source": [
    "# Introduction\n",
    "\n",
    "This is Brian Doheny's submission for the Programming for Data Analysis 2020 module at Galway-Mayo Institute of Technology. For this project, I will be simulating the student records for a Chinese language school in China in 2018. Every student will have the following data points simulated:\n",
    "* Student nationality\n",
    "* Student funding (Scholarship or Self-Funded)\n",
    "* The type of program the student is enrolled in (Non-degree, Undergraduate, Master's, or Doctoral)\n",
    "* Whether or not the student attempted the written HSK test.\n",
    "* Whether or not the student attempted the oral HSKK test.\n",
    "\n",
    "For those students that did elect to take either a written or oral test, I will then simulate additional data points for them, namely:\n",
    "* Level of HSK test attempted\n",
    "* Reading score\n",
    "* Listening score\n",
    "* Writing score (HSK 3-6 only)\n",
    "* Total score\n",
    "* Pass/Fail result\n",
    "* Level of HSKK test attempted\n",
    "* Speaking score\n",
    "* Pass/Fail result\n",
    "\n",
    "I will begin my introduction the phenomenoms involved in this dataset, alongside a note on my sources of information. I will then be going through the introduction to and simulation of each of the above listed data points. Here you will find my references to my resources, calculations and examples of the simulations for the individual data points, and the final code for that specific that points that will be included into the final algorithm. Next I will bring all the code snippets together into one working algorithm contained in a single Jupyter Notebook cell, and I will then include some visualizations of the data set highlighting the relationships in the data. Finally you will find a complete list of the resources used in this project.\n",
    "\n",
    "## Phenomenoms in this scenario\n",
    "\n",
    "The main phenomenom I will show in this data set is with regards to how few students attempt one of the HSK tests, yet the HSK tests have a fairly high pass rate. I will also be showing that the HSK test is far more popular than the HSKK test, and that as the HSK test increases in levels, more and more students attempt the test. This peaks at HSK level 5, and then decreases for HSK level 6.\n",
    "\n",
    "Alongside this I will also be showing that the largest share of students are this fictional school originate from South Korea, and South Korean students will also be among the largest sources of HSK test takers.\n",
    "\n",
    "\n",
    "## Sources of information\n",
    "\n",
    "As I go through each section of the simulates data set, I will be referencing my sources of information in more depth. In general though, my sources are a mixture of official research carried out by Hanban (the organization that administers the HSK test), government statistics on international students in China, and third party research papers.\n",
    "\n",
    "I have selected 2018 as the year to base my data set on. As 2018 was the year in which neither academic year (2017/18 and 2018/19) was disrupted, it therefore makes for a strong candidate. 2020 saw many disruptions for governments and institutions, and so data and reports regarding international students in China in 2019 lack the detail or simply have not yet been published.\n",
    "\n",
    "That said, many of my sources actually predate 2018, especially with regards to the HSK tests. Finding papers and data on the HSK test has proved to be very difficult, despite searching in English and Simplified Chinese. Therefore some of my sources data from 2012, and so I have extrapolated the relationships and data points out to the 2018 student numbers. This is not a perfect simulation of the student data, however it will allow us to see the effects if the tends up to 2012 had continued through to 2018, and should not be wildly off track. \n",
    "\n",
    "### Determining the size of the school\n",
    "\n",
    "As this data set is randomly generated, we can determine how large we wish the school to be. As will be highlighted later, some of the data points have results that only appear 1% of the time, and so for this reason I have been setting the below school_size variable to 500. You can edit this to any number you wish, and it will be used throughout the simulations in this Jupyter Notebook."
   ]
  },
  {
   "cell_type": "code",
   "execution_count": 273,
   "metadata": {},
   "outputs": [],
   "source": [
    "#Can alter this to change the school size.\n",
    "school_size = 500"
   ]
  },
  {
   "cell_type": "markdown",
   "metadata": {},
   "source": [
    "## Student Country of Origin\n",
    "\n",
    "### International Students in China\n",
    "The total number of International Students studying in China has mirrored the enconomic growth of China, and thus grown rapidly over the last two decades, going from 52,150 students in 2000[1] to 492,185 in 2018[2]. Throughout this radid growth, South Korea[1][2] has been the single largest source of International Students in China, largely due to the geographic proximity and the strong trade flows between the two countries. \n",
    "\n",
    "Japan, the USA and Russia have also been large sources of International Students over the years, however more recently we are seeing developing countries in Asia becoming larger and larger sources. For example, India and Pakistan didn't even rank among the 10 largest sources of International Students until 2006 (5634 and 3308 students respectively)[1] yet by 2018 these two countries were the third and 4th largest sources, both with over 28,000 students enrolled in study programs in Mainland China[2]. This growth in students from developing countries potentially reflects the stronger economic and political ties between the countries, as well as the the economic growth of the source country itself.\n",
    "\n",
    "It was not possible to find a complete country by country breakdown of student nationalities in 2018, however the Ministry of Education have released the top 15 nationalities[2]:\n",
    "* South Korea 50,600\n",
    "* Thailand 28,608\n",
    "* Pakistan 28,023\n",
    "* India 23,198\n",
    "* United States 20,996\n",
    "* Russia 19,239\n",
    "* Indonesia 15,050\n",
    "* Laos 14,645\n",
    "* Japan 14,230\n",
    "* Kazakhstan 11,784\n",
    "* Vietnam 11,299\n",
    "* Bangladesh 10,735\n",
    "* France 10,695\n",
    "* Mongolia 10,158\n",
    "* Malaysia 9,479\n",
    "\n",
    "This accounts for 278,739 of the 492,185 International Students in China in 2018, and so we're lacking detail on the remaining 213,446 students. \n",
    "\n",
    "Through further research, I was able to find that there were 81,562 students from African countries in China in 2018.\n",
    "\n",
    "I've since found that there were 81,562 African students in China in 2018[3]. While I do not have a country by country breakdown for these students, I can at least narrow down these 81,562 students to the 54 countries in Africa in my simulation. This then leaves me with 131,884 with no specified country, and so my sources of students for 2018 looks like:\n",
    "* Rest of the World 131,884\n",
    "* Africa 81,562\n",
    "* South Korea\t50,600\n",
    "* Thailand\t28,608\n",
    "* Pakistan\t28,023\n",
    "* India\t23,198\n",
    "* United States\t20,996\n",
    "* Russia\t19,239\n",
    "* Indonesia\t15,050\n",
    "* Laos\t14,645\n",
    "* Japan\t14,230\n",
    "* Kazakhstan\t11,784\n",
    "* Vietnam\t11,299\n",
    "* Bangladesh\t10,735\n",
    "* France\t10,695\n",
    "* Mongolia\t10,158\n",
    "* Malaysia\t9,479\n"
   ]
  },
  {
   "cell_type": "markdown",
   "metadata": {},
   "source": [
    "### Approach\n",
    "\n",
    "In order to determine which countries my students originated from, I will be utilizing the Choice() function from Numpy.Random[4]. This allows me to specify an array of countries and regions to be selected psuedorandomly, and even allows me to determine the probability of each beign selected. As I want my simulated school to be reflective of the international student population in China, I will be using the proportion of students from each country or region to determine the probability that that location is selected as the source of each of my students."
   ]
  },
  {
   "cell_type": "code",
   "execution_count": 274,
   "metadata": {},
   "outputs": [],
   "source": [
    "#State the list of possible countries to be selected by Choice()\n",
    "student_origins = np.array(['Rest of the World', 'Africa', 'South Korea', 'Thailand', 'Pakistan', 'India', 'United States',\n",
    "                  'Russia', 'Indonesia', 'Laos', 'Japan', 'Kazakhstan', 'Vietnam', 'Bangladesh', 'France', 'Mongolia',\n",
    "                  'Malaysia'])\n",
    "\n",
    "#Count of students from each region in 2018.\n",
    "student_origin_counts = np.array([131884, 81562, 50600, 28608, 28023, 23198, 20996, 19239, 15050, 14645, 14230, 11784,\n",
    "                        11299, 10735, 10695, 10158, 9479])\n",
    "\n",
    "\n",
    "#Work out the probability that a student came from each region by its proportion to the total.\n",
    "student_origin_probabilities = student_origin_counts / sum(student_origin_counts)\n"
   ]
  },
  {
   "cell_type": "markdown",
   "metadata": {},
   "source": [
    "I can now use the student_origins and student_origin_probabilities arrays in the Choice() function to select a country or region for each student. The syntax for this function is:\n",
    "\n",
    "rng.choice(array, size, p=probabilities)\n",
    "\n",
    "So for this student_origins is my array, school_size is the size (the amount to be generated), and student_origin_probabilities are my probabilities."
   ]
  },
  {
   "cell_type": "code",
   "execution_count": 275,
   "metadata": {},
   "outputs": [
    {
     "data": {
      "text/plain": [
       "array(['South Korea', 'Indonesia', 'Russia', 'South Korea',\n",
       "       'Rest of the World', 'Russia', 'Africa', 'Thailand', 'France',\n",
       "       'Rest of the World', 'Thailand', 'Rest of the World', 'Africa',\n",
       "       'Rest of the World', 'Rest of the World', 'Rest of the World',\n",
       "       'Laos', 'Pakistan', 'Rest of the World', 'South Korea',\n",
       "       'South Korea', 'Africa', 'Rest of the World', 'Pakistan', 'Africa',\n",
       "       'Kazakhstan', 'Africa', 'Laos', 'Bangladesh', 'Rest of the World',\n",
       "       'Rest of the World', 'Laos', 'Africa', 'Pakistan', 'Indonesia',\n",
       "       'Indonesia', 'India', 'Russia', 'Laos', 'Bangladesh', 'Laos',\n",
       "       'Pakistan', 'Mongolia', 'Japan', 'Japan', 'Pakistan', 'Africa',\n",
       "       'Russia', 'Pakistan', 'South Korea', 'Rest of the World',\n",
       "       'Rest of the World', 'Rest of the World', 'Pakistan',\n",
       "       'Rest of the World', 'Pakistan', 'South Korea', 'Africa',\n",
       "       'Indonesia', 'India', 'Rest of the World', 'Thailand', 'Africa',\n",
       "       'Rest of the World', 'Africa', 'Africa', 'Thailand',\n",
       "       'Rest of the World', 'South Korea', 'Laos', 'South Korea',\n",
       "       'France', 'Africa', 'Pakistan', 'United States', 'Vietnam',\n",
       "       'Africa', 'Africa', 'Indonesia', 'Russia', 'Rest of the World',\n",
       "       'South Korea', 'Rest of the World', 'Thailand', 'India',\n",
       "       'Indonesia', 'France', 'Thailand', 'Rest of the World', 'Pakistan',\n",
       "       'Africa', 'South Korea', 'Indonesia', 'Rest of the World',\n",
       "       'South Korea', 'Russia', 'Malaysia', 'Africa', 'India', 'Africa',\n",
       "       'Africa', 'Africa', 'United States', 'Rest of the World', 'India',\n",
       "       'South Korea', 'Rest of the World', 'Malaysia', 'Africa',\n",
       "       'Vietnam', 'Rest of the World', 'Rest of the World', 'Laos',\n",
       "       'Vietnam', 'Africa', 'India', 'Bangladesh', 'Pakistan', 'Africa',\n",
       "       'Africa', 'Rest of the World', 'United States', 'South Korea',\n",
       "       'Rest of the World', 'Pakistan', 'Rest of the World', 'Africa',\n",
       "       'Japan', 'South Korea', 'Russia', 'Africa', 'Russia',\n",
       "       'Rest of the World', 'Rest of the World', 'Rest of the World',\n",
       "       'Indonesia', 'Kazakhstan', 'Thailand', 'Bangladesh', 'Laos',\n",
       "       'Pakistan', 'Pakistan', 'Rest of the World', 'Pakistan', 'India',\n",
       "       'India', 'Russia', 'Africa', 'Rest of the World',\n",
       "       'Rest of the World', 'South Korea', 'South Korea', 'South Korea',\n",
       "       'South Korea', 'South Korea', 'Malaysia', 'India', 'Africa',\n",
       "       'Rest of the World', 'Bangladesh', 'South Korea', 'Bangladesh',\n",
       "       'Africa', 'Pakistan', 'Thailand', 'Africa', 'Africa',\n",
       "       'Rest of the World', 'Africa', 'South Korea', 'Russia', 'Pakistan',\n",
       "       'Rest of the World', 'Rest of the World', 'South Korea',\n",
       "       'Rest of the World', 'Rest of the World', 'Russia', 'Japan',\n",
       "       'South Korea', 'Africa', 'Rest of the World', 'Bangladesh',\n",
       "       'Rest of the World', 'Vietnam', 'Africa', 'Rest of the World',\n",
       "       'Rest of the World', 'Laos', 'Indonesia', 'Rest of the World',\n",
       "       'Rest of the World', 'Pakistan', 'Russia', 'Thailand',\n",
       "       'United States', 'Russia', 'Thailand', 'Russia', 'Vietnam',\n",
       "       'Rest of the World', 'Rest of the World', 'South Korea',\n",
       "       'Rest of the World', 'Kazakhstan', 'United States', 'South Korea',\n",
       "       'Rest of the World', 'Africa', 'Africa', 'Rest of the World',\n",
       "       'Africa', 'Rest of the World', 'Pakistan', 'India', 'India',\n",
       "       'Thailand', 'Africa', 'Laos', 'France', 'India',\n",
       "       'Rest of the World', 'Thailand', 'India', 'Rest of the World',\n",
       "       'United States', 'Indonesia', 'Rest of the World', 'Africa',\n",
       "       'Pakistan', 'Thailand', 'Thailand', 'Mongolia', 'India', 'Japan',\n",
       "       'South Korea', 'South Korea', 'Africa', 'Rest of the World',\n",
       "       'South Korea', 'Rest of the World', 'Rest of the World',\n",
       "       'Rest of the World', 'South Korea', 'Vietnam', 'Rest of the World',\n",
       "       'Japan', 'Rest of the World', 'South Korea', 'Africa', 'Africa',\n",
       "       'Africa', 'South Korea', 'Bangladesh', 'Rest of the World',\n",
       "       'South Korea', 'Rest of the World', 'Rest of the World', 'Africa',\n",
       "       'India', 'Laos', 'Rest of the World', 'Rest of the World',\n",
       "       'Rest of the World', 'Laos', 'South Korea', 'Japan',\n",
       "       'Rest of the World', 'Africa', 'Africa', 'Russia',\n",
       "       'Rest of the World', 'Kazakhstan', 'Vietnam', 'Indonesia',\n",
       "       'South Korea', 'India', 'Africa', 'Japan', 'Thailand', 'Vietnam',\n",
       "       'France', 'Africa', 'Rest of the World', 'Rest of the World',\n",
       "       'Vietnam', 'Pakistan', 'South Korea', 'Africa', 'South Korea',\n",
       "       'Africa', 'Africa', 'Rest of the World', 'Russia', 'Africa',\n",
       "       'Kazakhstan', 'Pakistan', 'Malaysia', 'Rest of the World',\n",
       "       'Rest of the World', 'Thailand', 'Japan', 'United States',\n",
       "       'Bangladesh', 'Laos', 'Africa', 'Africa', 'Rest of the World',\n",
       "       'Rest of the World', 'Rest of the World', 'Thailand', 'Vietnam',\n",
       "       'Laos', 'Africa', 'Rest of the World', 'South Korea', 'India',\n",
       "       'Thailand', 'Africa', 'Vietnam', 'Kazakhstan', 'South Korea',\n",
       "       'Rest of the World', 'Thailand', 'Indonesia', 'South Korea',\n",
       "       'Pakistan', 'Thailand', 'South Korea', 'Russia',\n",
       "       'Rest of the World', 'Africa', 'Russia', 'Rest of the World',\n",
       "       'South Korea', 'United States', 'Rest of the World', 'France',\n",
       "       'Indonesia', 'Indonesia', 'Rest of the World', 'Thailand',\n",
       "       'United States', 'Africa', 'Vietnam', 'Bangladesh', 'Mongolia',\n",
       "       'Africa', 'Rest of the World', 'Africa', 'South Korea', 'Thailand',\n",
       "       'United States', 'Thailand', 'Pakistan', 'Kazakhstan', 'India',\n",
       "       'United States', 'South Korea', 'Mongolia', 'Japan',\n",
       "       'Rest of the World', 'Rest of the World', 'Japan', 'United States',\n",
       "       'Russia', 'Africa', 'Africa', 'Africa', 'Rest of the World',\n",
       "       'Thailand', 'Rest of the World', 'Rest of the World', 'Malaysia',\n",
       "       'Africa', 'Rest of the World', 'South Korea', 'South Korea',\n",
       "       'Vietnam', 'Russia', 'United States', 'Kazakhstan', 'Pakistan',\n",
       "       'Rest of the World', 'Rest of the World', 'Thailand', 'Indonesia',\n",
       "       'Africa', 'Mongolia', 'Kazakhstan', 'Africa', 'Africa', 'Thailand',\n",
       "       'Africa', 'Pakistan', 'France', 'India', 'Rest of the World',\n",
       "       'Rest of the World', 'Pakistan', 'Africa', 'Rest of the World',\n",
       "       'Rest of the World', 'India', 'Russia', 'South Korea', 'Russia',\n",
       "       'Africa', 'Africa', 'Rest of the World', 'Rest of the World',\n",
       "       'Thailand', 'United States', 'Rest of the World', 'South Korea',\n",
       "       'Rest of the World', 'Russia', 'United States', 'Africa',\n",
       "       'Thailand', 'Rest of the World', 'Africa', 'Rest of the World',\n",
       "       'Laos', 'Bangladesh', 'Thailand', 'Rest of the World',\n",
       "       'Bangladesh', 'India', 'Vietnam', 'Africa', 'Thailand', 'Pakistan',\n",
       "       'Rest of the World', 'Africa', 'Bangladesh', 'United States',\n",
       "       'Indonesia', 'Rest of the World', 'Indonesia', 'Rest of the World',\n",
       "       'India', 'Africa', 'Kazakhstan', 'South Korea', 'Russia',\n",
       "       'Thailand', 'Russia', 'South Korea', 'Africa', 'Rest of the World',\n",
       "       'Rest of the World', 'Pakistan', 'Rest of the World', 'Pakistan',\n",
       "       'Mongolia', 'Africa', 'South Korea', 'Laos', 'Russia', 'Africa',\n",
       "       'Indonesia', 'Africa', 'Mongolia', 'United States', 'India',\n",
       "       'Thailand', 'South Korea', 'Pakistan', 'South Korea',\n",
       "       'Rest of the World', 'Malaysia', 'Africa', 'Rest of the World',\n",
       "       'India', 'Laos', 'South Korea', 'South Korea', 'Japan',\n",
       "       'Rest of the World', 'Thailand', 'France', 'South Korea',\n",
       "       'Rest of the World', 'Rest of the World', 'Africa',\n",
       "       'United States', 'South Korea', 'Japan', 'Rest of the World',\n",
       "       'South Korea', 'Africa', 'Russia', 'Bangladesh', 'Indonesia',\n",
       "       'Vietnam', 'Rest of the World', 'Rest of the World', 'Vietnam',\n",
       "       'Mongolia'], dtype='<U17')"
      ]
     },
     "execution_count": 275,
     "metadata": {},
     "output_type": "execute_result"
    }
   ],
   "source": [
    "rng = np.random.default_rng()\n",
    "students = rng.choice(student_origins, school_size, p=student_origin_probabilities)\n",
    "\n",
    "students"
   ]
  },
  {
   "cell_type": "markdown",
   "metadata": {},
   "source": [
    "Now that I know which of these 17 countries or regions each student is from, I can get to work on narrowing down exactly which country each of the African and Rest of the World students come from.\n",
    "\n",
    "### Students from Africa and Rest of the World\n",
    "\n",
    "In order to determine these specific countries, I will be using data from the World Bank[5] to find the populations for each country in 2018. I will then use to work out what proportion of the regions population each country makes up, and use this as the probability that a student originated from that specific country.\n",
    "\n",
    "For example, in the case of African students, I will see the proportion of the total African population each country represents, and that will determine the probability that a given student came from that specific country. This isn't a perfect measure, as in the real world there'd be political and academic exchanges with particular countries, meanwhile some countries are more likely to have a population that can afford to go to China for self-funded study. Nonetheless, I prefer this route as I do not want the 54 countries of African treated as one unit.\n",
    "\n",
    "I will also be using this method for Rest of the World. This comes with the same caveats as the African countries in that they do not represent academic or political exchanges. That said, the countries with large populations that are not counted in this top 15 or the African countries do tend to have populations that may afford studying abroad. For example Germany would be one of the remaining countries with a larger population, and so it's probability will be higher than others, however in real life its population is also likely to be more able to afford self-funded study in China.\n",
    "\n",
    "I have uploaded the CSV of World Bank data [5] to this repository (world_populations.csv). However I have already removed China, Hong Kong and Macau from the CSV, as students from these regions would not be counted as International students in mainland China. The original CSV also included aggregations for regopms around the world (e.g. Total Middle Eastern population) which I have also removed, as these would impact my calculations. This could have been done via Pandas, however I elected to hard delete them as they will not be used at all in this project.\n",
    "\n",
    "First I will load the World Bank data into a Pandas Dataframe:"
   ]
  },
  {
   "cell_type": "code",
   "execution_count": 276,
   "metadata": {},
   "outputs": [],
   "source": [
    "#Loading the CSV into a Pandas Dataframe, specifying the three columns I need.\n",
    "populations_df = pd.read_csv('world_populations.csv', usecols = ['Country Name', 'Country Code', '2018'])\n",
    "\n",
    "#Dropping any countries that do not have population data for 2018.\n",
    "populations_df.dropna(inplace=True)\n",
    "\n",
    "#The population is encoded as a string, so I must change these to integers for calculations.\n",
    "populations_df['2018'] = populations_df['2018'].astype('int')"
   ]
  },
  {
   "cell_type": "markdown",
   "metadata": {},
   "source": [
    "With the Dataframe now loaded, I can begin slicing it to find the populations of just African countries. I am basing this on the 54 countriest listed on Worldometer[6]."
   ]
  },
  {
   "cell_type": "code",
   "execution_count": 277,
   "metadata": {},
   "outputs": [],
   "source": [
    "#Specifying the Country Codes of the 54 countries in Africa.\n",
    "african_country_codes = ['DZA','AGO','BWA','IOT','BDI','CMR','CPV','CAF','TCD','UGA',\n",
    "                     'COM','COG','BEN','GNQ','ETH','ERI','ATF','DJI','GAB','SDN'\n",
    "                     'GMB','GHA','GIN','CIV','KEN','LSO','LBR','LBY','MDG','ESH',\n",
    "                     'MWI','MLI','MRT','MUS','MAR','MOZ','NAM','NER','NGA','TGO',\n",
    "                     'GNB','RWA','SEN','SYC','SLE','SOM','ZAF','ZWE','SSD','TUN',\n",
    "                    'EGY','BFA','ZMB', 'COD']\n",
    "                     \n",
    "\n",
    "#Slicing the dataframe to only include countries with the african_country_codes.\n",
    "#Then using the individual country's population in 2018, divided by the total for all the African countries to get the proportion.\n",
    "populations_df.loc[populations_df['Country Code'].isin(african_country_codes), 'Proportion of African Population'] = populations_df['2018'] / populations_df.loc[populations_df['Country Code'].isin(african_country_codes)]['2018'].sum()\n",
    "\n",
    "#Turning the list of African countries into an array to use later.\n",
    "african_country = np.array(populations_df.loc[populations_df['Country Code'].isin(african_country_codes)]['Country Name'])\n",
    "\n",
    "#Doing the same for the 'Proportion of African Population' to use as the probability later.\n",
    "african_probabilities = np.array(populations_df.loc[populations_df['Country Code'].isin(african_country_codes)]['Proportion of African Population'])"
   ]
  },
  {
   "cell_type": "markdown",
   "metadata": {},
   "source": [
    "Now that I have the countries in Africa and their respective probabilities, I must do the same for the rest of the world. First I will need to remove the total populations of the 15 International student countries we do know, and the total African population from the world population (which already has China, Hong Kong and Macau subtracted)."
   ]
  },
  {
   "cell_type": "code",
   "execution_count": 278,
   "metadata": {},
   "outputs": [
    {
     "data": {
      "text/plain": [
       "2163556187"
      ]
     },
     "execution_count": 278,
     "metadata": {},
     "output_type": "execute_result"
    }
   ],
   "source": [
    "#Stating the country codes of the top 15 sources of International Students.\n",
    "top_15_country_codes = ['KOR', 'THA', 'PAK', 'IND', 'USA', 'RUS', 'IDN', 'LAO', 'JPN', 'KAZ', 'VNM', 'BGD', 'FRA', 'MNG', 'MYS']\n",
    "\n",
    "#Top 15 countries combined population.\n",
    "top_15_total_population = populations_df.loc[populations_df['Country Code'].isin(top_15_country_codes)]['2018'].sum()\n",
    "\n",
    "#African countries combined population.\n",
    "africa_total_population = populations_df.loc[populations_df['Country Code'].isin(african_country_codes)]['2018'].sum()\n",
    "\n",
    "#World Population without China, Hong Kong & Macau, minus the African population, minus the top 15 countries\n",
    "rest_of_world_population = 6267671127 - africa_total_population - top_15_total_population\n",
    "\n",
    "rest_of_world_population"
   ]
  },
  {
   "cell_type": "markdown",
   "metadata": {},
   "source": [
    "I can now slice the dataframe, removing the African countries as well as the top 15 sources of International students. This will leave me with the Rest of the World countries and I can calculate their individual proportions of the total population."
   ]
  },
  {
   "cell_type": "code",
   "execution_count": 279,
   "metadata": {},
   "outputs": [],
   "source": [
    "#Removing the African countries and Top 15 countries from the rest_of_world slice.\n",
    "rest_of_world = populations_df.loc[~populations_df['Country Code'].isin(african_country_codes)]\n",
    "rest_of_world = rest_of_world.loc[~rest_of_world['Country Code'].isin(top_15_country_codes)]\n",
    "\n",
    "#Working out the proportions for each country.\n",
    "rest_of_world['Proportion of World Population'] = rest_of_world['2018'] / rest_of_world_population\n",
    "\n",
    "#Turning the list of countries and their probabilities into arrays to use later.\n",
    "rest_of_world_country = np.array(rest_of_world['Country Name'])\n",
    "rest_of_world_probabilities = np.array(rest_of_world['Proportion of World Population'])\n",
    " \n",
    "#At present, the probabilities for rest of the world do not equal 1. I will therefore fill the gap and assign it as \"Other\".\n",
    "other = 1 - sum(rest_of_world_probabilities)\n",
    "\n",
    "#Add \"Other\" into the selection and probabilties\n",
    "rest_of_world_country = np.insert(rest_of_world_country, -1, 'Other')\n",
    "rest_of_world_probabilities = np.insert(rest_of_world_probabilities, -1,  other)"
   ]
  },
  {
   "cell_type": "markdown",
   "metadata": {},
   "source": [
    "Now that I have the African and Rest of the World countries and their respective probabilities defined, I can then do another round of Choice() for students that were initially selected as being from Africa or Rest of the World. This will give them a specific country of origin.\n",
    "\n",
    "To show this in action, I'll generate a quick Dataframe as this will allow me to use the value_counts() method."
   ]
  },
  {
   "cell_type": "code",
   "execution_count": 280,
   "metadata": {},
   "outputs": [
    {
     "data": {
      "text/plain": [
       "Nationality    \n",
       "South Korea        41\n",
       "India              31\n",
       "Pakistan           27\n",
       "Thailand           27\n",
       "United States      21\n",
       "                   ..\n",
       "Finland             1\n",
       "Ecuador             1\n",
       "Slovak Republic     1\n",
       "Madagascar          1\n",
       "Afghanistan         1\n",
       "Length: 96, dtype: int64"
      ]
     },
     "execution_count": 280,
     "metadata": {},
     "output_type": "execute_result"
    }
   ],
   "source": [
    "#Creating the psuedorandom number generator container.\n",
    "rng = np.random.default_rng()\n",
    "\n",
    "#Creating an index of student IDs to use for this\n",
    "index = np.arange(0,school_size)\n",
    "\n",
    "#Create the dataframe\n",
    "chinese_class_df = pd.DataFrame(index = index, columns = ['Nationality'])\n",
    "\n",
    "#Generate the initial origins from the original 17 countries and regions.\n",
    "chinese_class_df['Nationality'] = rng.choice(student_origins, school_size, p=student_origin_probabilities)\n",
    "\n",
    "#Select a specific country for the African students.\n",
    "chinese_class_df.loc[chinese_class_df['Nationality'] == 'Africa', 'Nationality'] = rng.choice(african_country, (chinese_class_df['Nationality'].values == 'Africa').sum(), p=african_probabilities) \n",
    "\n",
    "#Do the same for the Rest of the World students.\n",
    "chinese_class_df.loc[chinese_class_df['Nationality'] == 'Rest of the World', 'Nationality'] = rng.choice(rest_of_world_country, (chinese_class_df['Nationality'].values == 'Rest of the World').sum(), p=rest_of_world_probabilities) \n",
    "\n",
    "#A peak at some of the student nationalities we now have in the dataframe.\n",
    "chinese_class_df.value_counts()"
   ]
  },
  {
   "cell_type": "markdown",
   "metadata": {},
   "source": [
    "This method will now decide the nationalities of my school's students in the final algorithm later in this Jupyter Notebook."
   ]
  },
  {
   "cell_type": "markdown",
   "metadata": {},
   "source": [
    "## Student Funding\n",
    "\n",
    "Like other countries the Chinese government, as well as individual Chinese language schools and other organizations, offer scholarships to attract students to study in China[7]. The eligibility requirements for applying, and criteria for selecting the successful candidates, differ depending on the provider of the scholarship and the type of scholarship applied to. Similarly the level of support can vary from partial tuition fee support through to full tuition, accomodation and allowance. \n",
    "\n",
    "While some of these scholarships will be for specific higher education programs in China, many are geared towards International students wishing to learn Chinese languge (Mandarin and Simplified Chinese) and these generally have less rigorous requirements. By supporting students wishing to learn Mandarin and Simplified Chinese, the Chinese government, and various other insitutions, are not only looking to build the language skills of these students, but also to aid in the cultural understanding of China, and potentially building last connections. These Chinese language scholarships are fairly common, with local provinces and municipalities offering their own scholarships alongside the central government scholarships. For example, a student wishing to study in Beijing has the option of applying for a scholarship from the central government (known as CSC)[8], a Beijing Government Scholarship (known as BGS)[9], and scholarships provided by local institutions. For example, looking at the scholarships available in Beijing for 2021, I can see that there are 355 different types of scholarship available.\n",
    "\n",
    "I would therefore expect that some of the students in this simulated school would be on a scholarship of some sort. According to the Ministery of Education[2], in 2018 12.81% of Internatioanl students were on a scholarship, totally 63,041 students.\n",
    "\n",
    "As I am assuming that my simulate school is representative of the international student population in China, I use a Bernoulli distribution to simulate this, with 12.81% being used as the probability of success (or scholarship in this case). I can therefore use Numpy's Binomial() function[11], with the number of trials set to 1, to simulate which students are on a scholarship. The syntax for this function is:\n",
    "\n",
    "numpy.random.binomial(n, p, size=None)\n",
    "\n",
    "In this case as I wish to simulate a Bernoulli distribution I can set \"n\" to 1, the probability of success is 0.1281 (12.81%), and the size is the school_size variable."
   ]
  },
  {
   "cell_type": "code",
   "execution_count": 281,
   "metadata": {},
   "outputs": [
    {
     "data": {
      "text/plain": [
       "0    438\n",
       "1     62\n",
       "Name: Scholarship, dtype: int64"
      ]
     },
     "execution_count": 281,
     "metadata": {},
     "output_type": "execute_result"
    }
   ],
   "source": [
    "#Using 1 to indicate a scholarship, and using the 12.81% figure from the government statistics.\n",
    "chinese_class_df['Scholarship'] = rng.binomial(1, 0.1281, school_size)\n",
    "\n",
    "#Show how many students received a scholarship.\n",
    "chinese_class_df['Scholarship'].value_counts()"
   ]
  },
  {
   "cell_type": "markdown",
   "metadata": {},
   "source": [
    "## Student's enrolled programs\n",
    "\n",
    "Chinese language schools will typically have a range of program types available, with some involving multiple years of full-time study, whereas others may only be for a semester at a time, or possibly even for part-time study. The entry requirements for these programs will vary, for example one would expect a Master's program to require an undergraduate degree of some sort, whereas a non-degree program may have very basic requirements. For students that wish to study a degree program other than Chinese language in Chinese (for example studying Computer Science in China), they must have at least passed HSK 5 in order to be eligible, as this helps ensure their language skills are sufficient. As my simulated school is a language school, I will not be taking pre-existing HSK results into account. There will be more information on the HSK tests and their impact in the next section.\n",
    "\n",
    "Typically, exchange students will be enrolled into non-degree programs at their host university, as they will only be in China for 1 or 2 semesters. Nonetheless, as everyone is studying Chinese language, they will still likely find themselves in language classrooms with students on degree programs. A non-degree student will likely take some form of skills test and then be allocated to a class based on their results, whereas degree students will progress based on their test scores from the previous semester's exams.\n",
    "\n",
    "Again, we turn to the Ministry of Education's[2] data from 2018, where we are provided with a breakdown of the four main program types - non-degree, undergraduate, master's and doctoral. Non-degree students make up the largest share at 234,063 and many of these will be students on exchange programs, study holidays or residents looking to improve their language skills.\n",
    "\n",
    "Meanwhile 258,122 students were on a degree program of some type, with 173,060 on undergraduate degrees, 59,444 on Master's and 25,618 on doctoral degree programs. The types of programs included here will vary from Chinese language programs or programs based on improving Chinese language skills (e.g. a Master's in Classical Chinese) all the way through to general degrees that are not related to Chinese language itself (the aforementioned Computer Science degrees in China).\n",
    "\n",
    "Unforunately we do not have a breakdown on what types of subjects these student's programs are in, and so I am unable to account for just language degrees. I will therefore be using these proportions as they stand. For this, I will be using Numpy's Choice() function again[4]."
   ]
  },
  {
   "cell_type": "code",
   "execution_count": 282,
   "metadata": {},
   "outputs": [],
   "source": [
    "#Declare the 4 types of programs available at the school.\n",
    "program_type = ['Non-degree', 'Undergraduate', \"Master's\", 'Doctoral']\n",
    "\n",
    "#Declare the total students on each program type in 2018.\n",
    "program_totals = np.array([234063, 173060, 59444, 25618])\n",
    "\n",
    "#Divide each program by the total students in 2018 to get its proportion. This will serve as the probability.\n",
    "program_probabilities = program_totals / sum(program_totals)\n",
    "\n",
    "#Use Choice() to select the program type for each student.\n",
    "chinese_class_df['Program'] = rng.choice(program_type, school_size, p=program_probabilities)"
   ]
  },
  {
   "cell_type": "code",
   "execution_count": 283,
   "metadata": {},
   "outputs": [
    {
     "data": {
      "text/plain": [
       "Non-degree       249\n",
       "Undergraduate    175\n",
       "Master's          54\n",
       "Doctoral          22\n",
       "Name: Program, dtype: int64"
      ]
     },
     "execution_count": 283,
     "metadata": {},
     "output_type": "execute_result"
    }
   ],
   "source": [
    "chinese_class_df['Program'].value_counts()"
   ]
  },
  {
   "cell_type": "markdown",
   "metadata": {},
   "source": [
    "## HSK\n",
    "\n",
    "The Hanyu Shuiping Kaoshi (汉语水平考试, HSK) are a series of standardized tests to assess the Mandarin and Simplified Chinese language skills of non-native Chinese speaking students[12]. A HSK certificate is the most widely accepted certification of Chinese language skills in mainland China, and higher HSK levels are often requirements for studying full time degrees in Chinese for subjects other than Chinese language study itself. HSK certificates may also be used in job applications, as higher HSK levels suggest stronger communication skills for non-native Chinese speakers.\n",
    "\n",
    "The HSK tests come in two formats, written (HSK) and oral (HSKK), with each format having numerous levels of difficulty. To begin with, I'll be taking a look at the written HSK.\n",
    "\n",
    "### Written HSK\n",
    "\n",
    "The written HSK test has 6 levels (known as HSK1 through to HSK6), with each level requiring the candidate to be able to read and/or write exponentially more characters: \n",
    "* HSK1 - 150 characters\n",
    "* HSK2 - 300 characters\n",
    "* HSK3 - 600 characters\n",
    "* HSK4 - 1200 characters\n",
    "* HSK5 - 2500 characters\n",
    "* HSK6 - over 5000 characters\n",
    "\n",
    "Once a student reaches HSK4, they are expected to be able to go beyond basic communication, and can express opinions and thoughts on a wider range of topics. Students at HSK5 should be able to read Chinese newspapers, and prepare speeches or presentation, and so HSK5 is usually the requirement for full time degree programs. HSK6 expects the student to be able to comprehend most content they encounter easily, and to be able to confidently talk about such subjects. HSK6 therefore may be required for some postgraduate programs, or programs that go deeper into Chinese language, such as literature or classical Chinese. \n",
    "\n",
    "As mentioned previously, finding up to date data on how many students sat a HSK test is very difficult indeed. However, I was able to find breakdowns for each HSK level from the years 2009 to 2012 via a Sina Weibo post in 2013[13] as shown below.\n",
    "\n",
    "![here](https://screenshot.click/01_14-ryey4-tgwud.jpg)\n",
    "\n",
    "On the left hand side, we have the 6 HSK levels (一，二，三，四，五 and 六), as well as the 3 HSKK levels (初， 中 and 高) which I will be discussing later. For each year we can see how many students sat the test in mainland China (国内), and how many students sat the test outside of mainland China (海外). It's important to note that this data does not specify if the same student attempted a HSK test multiple times, or attempted multiple HSK tests. For the purposes of this simulation, I am making the assumption that each student attempted just one test once in the given years.\n",
    "\n",
    "There's a few things that initially stick out here. \n",
    "\n",
    "First, the numbers start from 0 test takers in 2009, and steadily increase. This is because the current version of the HSK was officially rolled out in late 2009 and early 2010, so as text books and classrooms adapted to the new test, we'd expect the student numbers to increase. \n",
    "\n",
    "Second, lots more students attempt the HSK test outside of China than inside China. HSK tests can be taken internationally, for example UCD and UCC in Ireland offer these tests, and so countries with strong trading relationships with China are likely to have a lot of students taking the HSK outside of China. According to Hanban, the organization which administers the HSK, South Korea, Japan, the Philippines, Thailand, Indonesia, Vietnam, Pakistan, Russia and Kyrgyzstan were among the top sources of HSK takers for 2018[14]. All of these countries are either neighboring China, or have strong relationships with China, and thus likely to have strong Chinese language programs in their own countries.\n",
    "\n",
    "Finally, we can see three of the previously mentioned phenomenoms at play. \n",
    "\n",
    "* The first being that only 63764 of the 328,330 international students in China in 2012[1] attempted a HSK test. \n",
    "* Meanwhile, the number of students attempting the HSK test far exceeds the numbers attempting the HSKK test. \n",
    "* Alongside this we also see that the number of students attempting the each level of the HSK test increases dramatically until HSK5 before dropping off substantially at HSK6. \n",
    "\n",
    "I will discuss these phenomenoms in more detail as I simulate the data for each."
   ]
  },
  {
   "cell_type": "markdown",
   "metadata": {},
   "source": [
    "# Which students sat a HSK test?\n",
    "\n",
    "In order to work out what probability a student had of taking any HSK test, I will first total the annual number of test takers within China (国内) for HSK1 through HSK6 from 2010-2012. As a reminder, in the table above these tests are written as: \n",
    "* HSK 一级\n",
    "* HSK 二级\n",
    "* HSK 三级\n",
    "* HSK 四级\n",
    "* HSK 五级\n",
    "* HSK 六级"
   ]
  },
  {
   "cell_type": "code",
   "execution_count": 284,
   "metadata": {},
   "outputs": [
    {
     "name": "stdout",
     "output_type": "stream",
     "text": [
      "Total number of students that took a HSK exam in 2010: 17866\n",
      "Total number of students that took a HSK exam in 2011: 46161\n",
      "Total number of students that took a HSK exam in 2012: 60593\n"
     ]
    }
   ],
   "source": [
    "hsk_2010 = 146 + 210 + 1171 + 3842 + 6931 + 5566\n",
    "hsk_2011 = 274 + 755 + 2504 + 11635 + 18018 + 12975\n",
    "hsk_2012 = 658 + 1343 + 4003 + 16158 + 21278 + 17153\n",
    "\n",
    "print(\"Total number of students that took a HSK exam in 2010: \" + str(hsk_2010))\n",
    "print(\"Total number of students that took a HSK exam in 2011: \" + str(hsk_2011))\n",
    "print(\"Total number of students that took a HSK exam in 2012: \" + str(hsk_2012))"
   ]
  },
  {
   "cell_type": "markdown",
   "metadata": {},
   "source": [
    "I can now compare these to the total number of International students studying in China each year[1] in order to find out what percentage of students took a HSK test."
   ]
  },
  {
   "cell_type": "code",
   "execution_count": 285,
   "metadata": {},
   "outputs": [
    {
     "name": "stdout",
     "output_type": "stream",
     "text": [
      "Percentage of international students that took a HSK exam in 2010: 6.74%\n",
      "Percentage of international students that took a HSK exam in 2011: 15.78%\n",
      "Percentage of international students that took a HSK exam in 2012: 18.45%\n"
     ]
    }
   ],
   "source": [
    "total_international_students_2010 = 265090\n",
    "total_international_students_2011 = 292611\n",
    "total_international_students_2012 = 328330\n",
    "\n",
    "print(\"Percentage of international students that took a HSK exam in 2010: \" + str(round((hsk_2010 / total_international_students_2010) * 100, 2)) + '%')\n",
    "print(\"Percentage of international students that took a HSK exam in 2011: \" + str(round((hsk_2011 / total_international_students_2011) * 100, 2)) + '%')\n",
    "print(\"Percentage of international students that took a HSK exam in 2012: \" + str(round((hsk_2012 / total_international_students_2012) * 100, 2)) + '%')"
   ]
  },
  {
   "cell_type": "markdown",
   "metadata": {},
   "source": [
    "Each of these years saw an increase in the percentage of students taking a HSK test. However, as we do not have such breakdowns beyond 2012, I will be making use of the 2012 proportion to extrapolate the number of possible HSK test takers within mainland China in 2018. \n",
    "\n",
    "There were 492,185 international students in 2018[1], and if 18.45% took a HSK test we can expect:"
   ]
  },
  {
   "cell_type": "code",
   "execution_count": 286,
   "metadata": {},
   "outputs": [
    {
     "name": "stdout",
     "output_type": "stream",
     "text": [
      "Estimated total students that took a HSK exam in 2018: 90808\n"
     ]
    }
   ],
   "source": [
    "hsk_total_2018 = 492185 * 0.1845\n",
    "print(\"Estimated total students that took a HSK exam in 2018: \" + str(int(hsk_total_2018)))"
   ]
  },
  {
   "cell_type": "markdown",
   "metadata": {},
   "source": [
    "In order to determine how many of the students in my simulated school attempted a written HSK test, I will again be utilizing Numpy's Binomial() function, with 0.1845 (18.45%) as the probability of success (i.e. they took a HSK test)."
   ]
  },
  {
   "cell_type": "code",
   "execution_count": 287,
   "metadata": {},
   "outputs": [
    {
     "data": {
      "text/plain": [
       "0    419\n",
       "1     81\n",
       "Name: HSK test?, dtype: int64"
      ]
     },
     "execution_count": 287,
     "metadata": {},
     "output_type": "execute_result"
    }
   ],
   "source": [
    "rng = np.random.default_rng()\n",
    "\n",
    "chinese_class_df['HSK test?'] = rng.binomial(1, 0.1845, school_size)\n",
    "\n",
    "#Showing how many students sat a HSK test. 1 = attempt a HSK test.\n",
    "chinese_class_df['HSK test?'].value_counts()"
   ]
  },
  {
   "cell_type": "markdown",
   "metadata": {},
   "source": [
    "### Which HSK level did they attempt?\n",
    "\n",
    "For those students that did attempt a HSK test, I will now simulate which level they attempted. Again, I will be using the 2012 figures[13] to guide me on the probability of a student that took a HSK test taking a particular level."
   ]
  },
  {
   "cell_type": "code",
   "execution_count": 288,
   "metadata": {},
   "outputs": [
    {
     "data": {
      "text/plain": [
       "array([0.01085934, 0.02216428, 0.06606374, 0.26666447, 0.35116268,\n",
       "       0.2830855 ])"
      ]
     },
     "execution_count": 288,
     "metadata": {},
     "output_type": "execute_result"
    }
   ],
   "source": [
    "#Using the 2012 figures to work out what proportion of HSK takers sat each level that year.\n",
    "\n",
    "#Listing the 6 HSK levels for the written exam\n",
    "hsk_levels = np.array(['HSK1', 'HSK2', 'HSK3', 'HSK4', 'HSK5', 'HSK6'])\n",
    "\n",
    "#Dividing the 2012 figures for each level by total HSK tests taken that year. These proportions will be my probabilities.\n",
    "hsk_levels_proportions = np.array([658, 1343, 4003, 16158, 21278, 17153]) / hsk_2012\n",
    "\n",
    "hsk_levels_proportions"
   ]
  },
  {
   "cell_type": "markdown",
   "metadata": {},
   "source": [
    "I can now use these proportions to estimate how many of the estimated 90808 HSK exam takers in mainland China attempted each level in 2018."
   ]
  },
  {
   "cell_type": "code",
   "execution_count": 289,
   "metadata": {
    "scrolled": false
   },
   "outputs": [
    {
     "name": "stdout",
     "output_type": "stream",
     "text": [
      "Estimated HSK1 takers in 2018: 986\n",
      "Estimated HSK2 takers in 2018: 2012\n",
      "Estimated HSK3 takers in 2018: 5999\n",
      "Estimated HSK4 takers in 2018: 24215\n",
      "Estimated HSK5 takers in 2018: 31888\n",
      "Estimated HSK6 takers in 2018: 25706\n"
     ]
    }
   ],
   "source": [
    "print(\"Estimated HSK1 takers in 2018: \" + str(int(hsk_levels_proportions[0] * 90808)))\n",
    "print(\"Estimated HSK2 takers in 2018: \" + str(int(hsk_levels_proportions[1] * 90808)))\n",
    "print(\"Estimated HSK3 takers in 2018: \" + str(int(hsk_levels_proportions[2] * 90808)))\n",
    "print(\"Estimated HSK4 takers in 2018: \" + str(int(hsk_levels_proportions[3] * 90808)))\n",
    "print(\"Estimated HSK5 takers in 2018: \" + str(int(hsk_levels_proportions[4] * 90808)))\n",
    "print(\"Estimated HSK6 takers in 2018: \" + str(int(hsk_levels_proportions[5] * 90808)))\n"
   ]
  },
  {
   "cell_type": "markdown",
   "metadata": {},
   "source": [
    "I can now use Numpy's Choice() function with the hsk_written_levels and hsk_written_levels_proportions arrays to simulate which HSK levels students attempt. As I only want to simulate this for students that actually attempted a HSK test, I will begin by slicing the dataframe to only include students where 'HSK test?' equals 1.\n",
    "\n",
    "Also, as the number of students that attempt the HSK test will change on each simulation, I will need to ensure that the size parameter is not hard coded. As 1 is used to show a student that attempted a HSK test, I can sum the 'HSK test?' column, and use that as the size parameter for Choice()."
   ]
  },
  {
   "cell_type": "code",
   "execution_count": 290,
   "metadata": {
    "scrolled": true
   },
   "outputs": [
    {
     "data": {
      "text/plain": [
       "HSK5    33\n",
       "HSK4    28\n",
       "HSK6    15\n",
       "HSK2     3\n",
       "HSK3     2\n",
       "Name: HSK Level, dtype: int64"
      ]
     },
     "execution_count": 290,
     "metadata": {},
     "output_type": "execute_result"
    }
   ],
   "source": [
    "#Only want students that have \"HSK test?\" set as 1. \n",
    "#Summing the 'HSK test?' column to determine the size parameter for Choice()\n",
    "chinese_class_df.loc[chinese_class_df['HSK test?'] == 1, 'HSK Level'] = rng.choice(hsk_levels, chinese_class_df['HSK test?'].sum(), p=hsk_levels_proportions) \n",
    "\n",
    "chinese_class_df['HSK Level'].value_counts()"
   ]
  },
  {
   "cell_type": "markdown",
   "metadata": {},
   "source": [
    "## HSKK Oral test\n",
    "\n",
    "Unlike the written HSK test, the oral test (also known as the HSKK - Hanyu Shuiping Kouyu Kaoshi/汉语水平口语考试) just has 3 levels. Beginner (初级), Intermediate (中级), and Advanced (高级). Similarly to the written HSK test, the difficultly at each stage increases significantly as students at each level are expected to be fluent using[15]:\n",
    "* Beginner - 200 commonly used words\n",
    "* Intermediate - 900 commonly used words\n",
    "* Advanced - 3000 commonly used words\n",
    "\n",
    "Meanwhile, whereas HSK test certificates are commonly used as entry requirements for degree programs or jobs, the HSKK certificate is used much less. This is changing in more recent years, as Confucius Institute scholarships do now require both a written HSK and oral HSKK certificate[16]. This recent increase in use of the HSKK does mean that any simulation or projection I make here is likely to be under-estimating the true numbers, but similar to the written HSK, more recent figures are not currently attainable. I am therefore having to use the same table from 2009-2012 for my projections.\n",
    "\n",
    "As before, I will total the number of test takers for each of the three years we have data."
   ]
  },
  {
   "cell_type": "code",
   "execution_count": 291,
   "metadata": {},
   "outputs": [
    {
     "name": "stdout",
     "output_type": "stream",
     "text": [
      "Total students that took a HSKK exam in 2010: 1023\n",
      "Total students that took a HSKK exam in 2011: 1886\n",
      "Total students that took a HSKK exam in 2012: 3171\n"
     ]
    }
   ],
   "source": [
    "hskk_2010 = 51 + 300 + 672\n",
    "hskk_2011 = 67 + 506 + 1313\n",
    "hskk_2012 = 56 + 1708 + 1407\n",
    "\n",
    "print(\"Total students that took a HSKK exam in 2010: \" + str(hskk_2010))\n",
    "print(\"Total students that took a HSKK exam in 2011: \" + str(hskk_2011))\n",
    "print(\"Total students that took a HSKK exam in 2012: \" + str(hskk_2012))"
   ]
  },
  {
   "cell_type": "markdown",
   "metadata": {},
   "source": [
    "I'll now calculate what percentage of International students in mainland China attempted as HSKK test in each of these years."
   ]
  },
  {
   "cell_type": "code",
   "execution_count": 292,
   "metadata": {},
   "outputs": [
    {
     "name": "stdout",
     "output_type": "stream",
     "text": [
      "Proportion of international students that took a HSKK exam in 2010: 0.39%\n",
      "Proportion of international students that took a HSKK exam in 2011: 0.64%\n",
      "Proportion of international students that took a HSKK exam in 2012: 0.97%\n"
     ]
    }
   ],
   "source": [
    "total_international_students_2010 = 265090\n",
    "total_international_students_2011 = 292611\n",
    "total_international_students_2012 = 328330\n",
    "\n",
    "print(\"Proportion of international students that took a HSKK exam in 2010: \" + str(round((hskk_2010 / total_international_students_2010) * 100, 2)) + '%')\n",
    "print(\"Proportion of international students that took a HSKK exam in 2011: \" + str(round((hskk_2011 / total_international_students_2011) * 100, 2)) + '%')\n",
    "print(\"Proportion of international students that took a HSKK exam in 2012: \" + str(round((hskk_2012 / total_international_students_2012) * 100, 2)) + '%')"
   ]
  },
  {
   "cell_type": "markdown",
   "metadata": {},
   "source": [
    "Again we see a sharp increase from year to year, however 2012 is still saw under 1% of international students. As we do not have access to more recent data on the number of test takers within mainland China, I will estimate how many test takers there were in 2018 based off of the 0.97% figure we saw in 2012."
   ]
  },
  {
   "cell_type": "code",
   "execution_count": 293,
   "metadata": {},
   "outputs": [
    {
     "name": "stdout",
     "output_type": "stream",
     "text": [
      "Estimated total students that took a HSKK exam in 2018: 4774\n"
     ]
    }
   ],
   "source": [
    "hsk_total_2018 = 492185 * 0.0097\n",
    "print(\"Estimated total students that took a HSKK exam in 2018: \" + str(int(hsk_total_2018)))"
   ]
  },
  {
   "cell_type": "markdown",
   "metadata": {},
   "source": [
    "Now to see how many of the students at the simulated school attempted the HSKK exam in 2018. For this, I will be using the binomial() function again, with the probablity of success set to 0.0097 (0.97%)."
   ]
  },
  {
   "cell_type": "code",
   "execution_count": 294,
   "metadata": {},
   "outputs": [
    {
     "data": {
      "text/plain": [
       "0    495\n",
       "1      5\n",
       "Name: HSKK test?, dtype: int64"
      ]
     },
     "execution_count": 294,
     "metadata": {},
     "output_type": "execute_result"
    }
   ],
   "source": [
    "rng = np.random.default_rng()\n",
    "\n",
    "#https://numpy.org/doc/stable/reference/random/generated/numpy.random.Generator.binomial.html#numpy.random.Generator.binomial\n",
    "chinese_class_df['HSKK test?'] = rng.binomial(1, 0.0097, school_size)\n",
    "\n",
    "chinese_class_df['HSKK test?'].value_counts()"
   ]
  },
  {
   "cell_type": "markdown",
   "metadata": {},
   "source": [
    "### Which HSKK level did they attempt?\n",
    "\n",
    "For those students that did attempt a HSKK test, I will now simulate which level they attempted. Again, I will be using the 2012 figures[13] to guide me on the probability of a student that took a HSKk test taking a particular level."
   ]
  },
  {
   "cell_type": "code",
   "execution_count": 295,
   "metadata": {
    "scrolled": true
   },
   "outputs": [
    {
     "data": {
      "text/plain": [
       "array([0.01766004, 0.53863135, 0.44370861])"
      ]
     },
     "execution_count": 295,
     "metadata": {},
     "output_type": "execute_result"
    }
   ],
   "source": [
    "#Listing the three levels available in an array.\n",
    "hskk_levels = np.array(['Beginner', 'Intermediate', 'Advanced'])\n",
    "\n",
    "#Diving the test takers for each level in 2012 by the total HSKK test takers in 2012 to get their proportions.\n",
    "#These will serve as the probabilities.\n",
    "hskk_level_proportions = np.array([56, 1708, 1407]) / hskk_2012\n",
    "\n",
    "hskk_level_proportions"
   ]
  },
  {
   "cell_type": "markdown",
   "metadata": {},
   "source": [
    "I can now use these probabilities to extrapolate how many students attempted each HSKK level in 2018. Earlier I estimated 4774 total sudents sat a HSKK test."
   ]
  },
  {
   "cell_type": "code",
   "execution_count": 296,
   "metadata": {
    "scrolled": true
   },
   "outputs": [
    {
     "name": "stdout",
     "output_type": "stream",
     "text": [
      "Estimated HSKK Beginner takers in 2018: 84\n",
      "Estimated HSKK Intermediate takers in 2018: 2571\n",
      "Estimated HSKK Advanced takers in 2018: 2118\n"
     ]
    }
   ],
   "source": [
    "print(\"Estimated HSKK Beginner takers in 2018: \" + str(int(hskk_level_proportions[0] * 4774)))\n",
    "print(\"Estimated HSKK Intermediate takers in 2018: \" + str(int(hskk_level_proportions[1] * 4774)))\n",
    "print(\"Estimated HSKK Advanced takers in 2018: \" + str(int(hskk_level_proportions[2] * 4774)))"
   ]
  },
  {
   "cell_type": "markdown",
   "metadata": {},
   "source": [
    "Similar to the written HSK levels, we see very few attempting the beginner level and a clear peak at the intermediate level.\n",
    "\n",
    "I will now use these probabilities along with the Numpy's Choice() function to simulate a HSKK level for each of the students that did attempt the test."
   ]
  },
  {
   "cell_type": "code",
   "execution_count": 297,
   "metadata": {},
   "outputs": [
    {
     "data": {
      "text/plain": [
       "Intermediate    3\n",
       "Advanced        2\n",
       "Name: HSKK Level, dtype: int64"
      ]
     },
     "execution_count": 297,
     "metadata": {},
     "output_type": "execute_result"
    }
   ],
   "source": [
    "#Only want students that have \"HSK test?\" set as 1. \n",
    "#Summing the 'HSKK test?' column to determine the size parameter for Choice()\n",
    "chinese_class_df.loc[chinese_class_df['HSKK test?'] == 1, 'HSKK Level'] = rng.choice(hskk_levels, chinese_class_df['HSKK test?'].sum(), p=hskk_level_proportions) \n",
    "\n",
    "chinese_class_df['HSKK Level'].value_counts()"
   ]
  },
  {
   "cell_type": "markdown",
   "metadata": {},
   "source": [
    "### Did any student take both HSK tests?\n",
    "\n",
    "The larger the size of the school_size variable, the more likely we are to see a student attempting both the written and oral tests. For curiosity's sake, let's take a look if any in this simulation has attempted both."
   ]
  },
  {
   "cell_type": "code",
   "execution_count": 298,
   "metadata": {
    "scrolled": true
   },
   "outputs": [
    {
     "data": {
      "text/html": [
       "<div>\n",
       "<style scoped>\n",
       "    .dataframe tbody tr th:only-of-type {\n",
       "        vertical-align: middle;\n",
       "    }\n",
       "\n",
       "    .dataframe tbody tr th {\n",
       "        vertical-align: top;\n",
       "    }\n",
       "\n",
       "    .dataframe thead th {\n",
       "        text-align: right;\n",
       "    }\n",
       "</style>\n",
       "<table border=\"1\" class=\"dataframe\">\n",
       "  <thead>\n",
       "    <tr style=\"text-align: right;\">\n",
       "      <th></th>\n",
       "      <th>Nationality</th>\n",
       "      <th>Scholarship</th>\n",
       "      <th>Program</th>\n",
       "      <th>HSK test?</th>\n",
       "      <th>HSK Level</th>\n",
       "      <th>HSKK test?</th>\n",
       "      <th>HSKK Level</th>\n",
       "    </tr>\n",
       "  </thead>\n",
       "  <tbody>\n",
       "  </tbody>\n",
       "</table>\n",
       "</div>"
      ],
      "text/plain": [
       "Empty DataFrame\n",
       "Columns: [Nationality, Scholarship, Program, HSK test?, HSK Level, HSKK test?, HSKK Level]\n",
       "Index: []"
      ]
     },
     "execution_count": 298,
     "metadata": {},
     "output_type": "execute_result"
    }
   ],
   "source": [
    "chinese_class_df.loc[(chinese_class_df['HSK test?'] == 1) & (chinese_class_df['HSKK test?'] == 1)]"
   ]
  },
  {
   "cell_type": "markdown",
   "metadata": {},
   "source": [
    "# HSK Results\n",
    "\n",
    "For those students that sat the HSK tests, we can now simulate what their scores would be. Finding data on HSK scores and results has proven to be very difficult (both in Chinese and in English), however there has been a study on 109 American students and their HSK results before and after a semester of study in Beijing[17]. It should be noted that this paper covers just 109 students from the same country, so in reality there's likely to be numerous other variables that may impact the results seen by a particular student or even a whole cohort of students. For example, Chinese textbooks will have grammar and other explanations written in English for HSK 1 through to HSK 3, and the quality of those translations, or how comparable the grammar rules are to the readers native language may influence how well they retain the information and therefore perform on the test. \n",
    "\n",
    "Similarly, all 109 students in this study took the HSK 4 written test and the intermediate HSKK oral test, so we do not have comparable results for all of the other levels. That said, all of the tests follow a similar marking structure, with each section scored out of 100. The only exception is HSK6, as its greater difficulty means the passing grade is 40%, rather than the 60% seen on other levels. I will therefore be utilizing some of Hanban's published data for HSK6 specifically, and the study of American students for HSK1-5 and the HSKK results. From the results simulated for each section (reading, writing, listening and speaking), I will also be able to determine which students passed and which failed.\n",
    "\n",
    "## What sections are included in each test?\n",
    "\n",
    "The HSK exam is centered around listening, reading and writing skills, however as Chinese characters are difficult to learn, the writing sections are not present on HSK1 and HSK2. Meanwhile the HSKK test only has the one section - speaking. Therefore the sections included in each test are[19]:\n",
    "\n",
    "* HSK1 & HSK2 - Listening and Reading (passing score 60%)\n",
    "* HSK3 to HSK5 - Listening, Reading and Writing (passing score 60%)\n",
    "* HSK6 - Listening, Reading and Writing (passing score 40%)\n",
    "* HSKK Beginner/Intermediate/Advanced - Speaking (passing score 60%)"
   ]
  },
  {
   "cell_type": "markdown",
   "metadata": {},
   "source": [
    "## HSK1 to HSK5 Test Results\n",
    "\n",
    "The best breakdown of HSK test data I've been able to find comes from a study of 109 American students before and after a semester studying Chinese in Beijing[17]. Each of these students took the HSK4 exam and the HSKK Intermediate on their first few days in Beijing, and after having completed a semester. These were all college students with an average age of 20.4, so while they may be representative of the majority of international students in China, we are missing any significant outliers. For example in my own experience studying in Beijing, the age of the students in my classes ranged from 14 to 67, and one might expect that students at various stages of life might perform differently on standardized tests such as the HSK should they choose to attempt them.\n",
    "\n",
    "The paper itself looks at the impacts of cross-cultural adaptabilty and its effects on learning a foreign language, but its the test results before and after the semester in Beijing that most interests me for the purpose of this project. Unsurprisingly, the average scores across the 109 students increased substantially after the single semester in Beijing, and it is these higher scores that I will be using for the students at this simulated school.\n",
    "\n",
    "While it is possible for someone to arrive in mainland China and attempt a HSK test straight away (test dates permitting), language schools will often encourage students to take extra classes for a few weeks so as to adequately prepare for the HSK test and its format. I am therefore assuming that the students at the simulated school have already been studying at the school for at least a number of weeks, and have been exposed to Mandarin and Simplified Chinese daily, as one would expect when living in mainland China. Therefore the post-study HSK results make the most sense for my simulation.\n",
    "\n",
    "As this is the clearest breakdown I can find for any level other than HSK6, which has a different passing grade, I will therefore be using the measures from this paper for HSK1-HSK5 and all three of the HSKK levels.\n",
    "\n",
    "I will begin by simulating the reading scores. For this I will be using Numpy's Normal()[20] function, with the mean and standard deviations referenced in the study[17] (75.39 and 13.85 respectively)."
   ]
  },
  {
   "cell_type": "code",
   "execution_count": 299,
   "metadata": {
    "scrolled": true
   },
   "outputs": [
    {
     "data": {
      "text/html": [
       "<div>\n",
       "<style scoped>\n",
       "    .dataframe tbody tr th:only-of-type {\n",
       "        vertical-align: middle;\n",
       "    }\n",
       "\n",
       "    .dataframe tbody tr th {\n",
       "        vertical-align: top;\n",
       "    }\n",
       "\n",
       "    .dataframe thead th {\n",
       "        text-align: right;\n",
       "    }\n",
       "</style>\n",
       "<table border=\"1\" class=\"dataframe\">\n",
       "  <thead>\n",
       "    <tr style=\"text-align: right;\">\n",
       "      <th></th>\n",
       "      <th>Nationality</th>\n",
       "      <th>Scholarship</th>\n",
       "      <th>Program</th>\n",
       "      <th>HSK test?</th>\n",
       "      <th>HSK Level</th>\n",
       "      <th>HSKK test?</th>\n",
       "      <th>HSKK Level</th>\n",
       "      <th>Reading</th>\n",
       "    </tr>\n",
       "  </thead>\n",
       "  <tbody>\n",
       "    <tr>\n",
       "      <th>10</th>\n",
       "      <td>India</td>\n",
       "      <td>0</td>\n",
       "      <td>Non-degree</td>\n",
       "      <td>1</td>\n",
       "      <td>HSK5</td>\n",
       "      <td>0</td>\n",
       "      <td>NaN</td>\n",
       "      <td>75.394282</td>\n",
       "    </tr>\n",
       "    <tr>\n",
       "      <th>12</th>\n",
       "      <td>Other</td>\n",
       "      <td>0</td>\n",
       "      <td>Non-degree</td>\n",
       "      <td>1</td>\n",
       "      <td>HSK4</td>\n",
       "      <td>0</td>\n",
       "      <td>NaN</td>\n",
       "      <td>88.223995</td>\n",
       "    </tr>\n",
       "    <tr>\n",
       "      <th>23</th>\n",
       "      <td>Romania</td>\n",
       "      <td>0</td>\n",
       "      <td>Non-degree</td>\n",
       "      <td>1</td>\n",
       "      <td>HSK5</td>\n",
       "      <td>0</td>\n",
       "      <td>NaN</td>\n",
       "      <td>76.020105</td>\n",
       "    </tr>\n",
       "    <tr>\n",
       "      <th>41</th>\n",
       "      <td>Hungary</td>\n",
       "      <td>0</td>\n",
       "      <td>Non-degree</td>\n",
       "      <td>1</td>\n",
       "      <td>HSK5</td>\n",
       "      <td>0</td>\n",
       "      <td>NaN</td>\n",
       "      <td>57.762281</td>\n",
       "    </tr>\n",
       "    <tr>\n",
       "      <th>47</th>\n",
       "      <td>Philippines</td>\n",
       "      <td>0</td>\n",
       "      <td>Non-degree</td>\n",
       "      <td>1</td>\n",
       "      <td>HSK4</td>\n",
       "      <td>0</td>\n",
       "      <td>NaN</td>\n",
       "      <td>74.127057</td>\n",
       "    </tr>\n",
       "  </tbody>\n",
       "</table>\n",
       "</div>"
      ],
      "text/plain": [
       "    Nationality  Scholarship     Program  HSK test? HSK Level  HSKK test?  \\\n",
       "10        India            0  Non-degree          1      HSK5           0   \n",
       "12        Other            0  Non-degree          1      HSK4           0   \n",
       "23      Romania            0  Non-degree          1      HSK5           0   \n",
       "41      Hungary            0  Non-degree          1      HSK5           0   \n",
       "47  Philippines            0  Non-degree          1      HSK4           0   \n",
       "\n",
       "   HSKK Level    Reading  \n",
       "10        NaN  75.394282  \n",
       "12        NaN  88.223995  \n",
       "23        NaN  76.020105  \n",
       "41        NaN  57.762281  \n",
       "47        NaN  74.127057  "
      ]
     },
     "execution_count": 299,
     "metadata": {},
     "output_type": "execute_result"
    }
   ],
   "source": [
    "#Stating the mean and standard deviation\n",
    "reading_mean = 75.39\n",
    "reading_sd = 13.85\n",
    "\n",
    "#Slicing the dataframe to include students that sat a HSK that wasn't HSK6.\n",
    "#And simulating the results via a Normal distribution.\n",
    "chinese_class_df.loc[(chinese_class_df['HSK test?'] == 1) & ~(chinese_class_df['HSK Level'] == 'HSK6'), 'Reading'] = rng.normal(reading_mean, reading_sd, len(chinese_class_df.loc[(chinese_class_df['HSK test?'] == 1) & ~(chinese_class_df['HSK Level'] == 'HSK6')]))\n",
    "\n",
    "\n",
    "#The Normal distribution will pick a few values above 100. \n",
    "#This goes beyond the possible score in the section, so I'll cap these at 100.\n",
    "chinese_class_df.loc[chinese_class_df['Reading'] > 100, 'Reading'] = 100\n",
    "\n",
    "#Showin the first 5 scores.\n",
    "chinese_class_df.loc[(chinese_class_df['HSK test?'] == 1) & ~(chinese_class_df['HSK Level'] == 'HSK6')].head()"
   ]
  },
  {
   "cell_type": "markdown",
   "metadata": {},
   "source": [
    "The normal() function generates discrete numbers, whereas the scores for each section of the test will be an integer between 0 and 100. Once I have generated the other sections of these exams, I will round the scores.\n",
    "\n",
    "Next I'll simulate the listening scores by using the same function, with the listening mean of 70.73, and the standard deviating of 15.22."
   ]
  },
  {
   "cell_type": "code",
   "execution_count": 300,
   "metadata": {
    "scrolled": true
   },
   "outputs": [
    {
     "data": {
      "text/html": [
       "<div>\n",
       "<style scoped>\n",
       "    .dataframe tbody tr th:only-of-type {\n",
       "        vertical-align: middle;\n",
       "    }\n",
       "\n",
       "    .dataframe tbody tr th {\n",
       "        vertical-align: top;\n",
       "    }\n",
       "\n",
       "    .dataframe thead th {\n",
       "        text-align: right;\n",
       "    }\n",
       "</style>\n",
       "<table border=\"1\" class=\"dataframe\">\n",
       "  <thead>\n",
       "    <tr style=\"text-align: right;\">\n",
       "      <th></th>\n",
       "      <th>Nationality</th>\n",
       "      <th>Scholarship</th>\n",
       "      <th>Program</th>\n",
       "      <th>HSK test?</th>\n",
       "      <th>HSK Level</th>\n",
       "      <th>HSKK test?</th>\n",
       "      <th>HSKK Level</th>\n",
       "      <th>Reading</th>\n",
       "      <th>Listening</th>\n",
       "    </tr>\n",
       "  </thead>\n",
       "  <tbody>\n",
       "    <tr>\n",
       "      <th>10</th>\n",
       "      <td>India</td>\n",
       "      <td>0</td>\n",
       "      <td>Non-degree</td>\n",
       "      <td>1</td>\n",
       "      <td>HSK5</td>\n",
       "      <td>0</td>\n",
       "      <td>NaN</td>\n",
       "      <td>75.394282</td>\n",
       "      <td>72.458114</td>\n",
       "    </tr>\n",
       "    <tr>\n",
       "      <th>12</th>\n",
       "      <td>Other</td>\n",
       "      <td>0</td>\n",
       "      <td>Non-degree</td>\n",
       "      <td>1</td>\n",
       "      <td>HSK4</td>\n",
       "      <td>0</td>\n",
       "      <td>NaN</td>\n",
       "      <td>88.223995</td>\n",
       "      <td>48.925839</td>\n",
       "    </tr>\n",
       "    <tr>\n",
       "      <th>23</th>\n",
       "      <td>Romania</td>\n",
       "      <td>0</td>\n",
       "      <td>Non-degree</td>\n",
       "      <td>1</td>\n",
       "      <td>HSK5</td>\n",
       "      <td>0</td>\n",
       "      <td>NaN</td>\n",
       "      <td>76.020105</td>\n",
       "      <td>68.736228</td>\n",
       "    </tr>\n",
       "    <tr>\n",
       "      <th>41</th>\n",
       "      <td>Hungary</td>\n",
       "      <td>0</td>\n",
       "      <td>Non-degree</td>\n",
       "      <td>1</td>\n",
       "      <td>HSK5</td>\n",
       "      <td>0</td>\n",
       "      <td>NaN</td>\n",
       "      <td>57.762281</td>\n",
       "      <td>66.125054</td>\n",
       "    </tr>\n",
       "    <tr>\n",
       "      <th>47</th>\n",
       "      <td>Philippines</td>\n",
       "      <td>0</td>\n",
       "      <td>Non-degree</td>\n",
       "      <td>1</td>\n",
       "      <td>HSK4</td>\n",
       "      <td>0</td>\n",
       "      <td>NaN</td>\n",
       "      <td>74.127057</td>\n",
       "      <td>48.900690</td>\n",
       "    </tr>\n",
       "  </tbody>\n",
       "</table>\n",
       "</div>"
      ],
      "text/plain": [
       "    Nationality  Scholarship     Program  HSK test? HSK Level  HSKK test?  \\\n",
       "10        India            0  Non-degree          1      HSK5           0   \n",
       "12        Other            0  Non-degree          1      HSK4           0   \n",
       "23      Romania            0  Non-degree          1      HSK5           0   \n",
       "41      Hungary            0  Non-degree          1      HSK5           0   \n",
       "47  Philippines            0  Non-degree          1      HSK4           0   \n",
       "\n",
       "   HSKK Level    Reading  Listening  \n",
       "10        NaN  75.394282  72.458114  \n",
       "12        NaN  88.223995  48.925839  \n",
       "23        NaN  76.020105  68.736228  \n",
       "41        NaN  57.762281  66.125054  \n",
       "47        NaN  74.127057  48.900690  "
      ]
     },
     "execution_count": 300,
     "metadata": {},
     "output_type": "execute_result"
    }
   ],
   "source": [
    "#Stating the mean and standard deviation\n",
    "listening_mean = 70.73\n",
    "listening_sd = 15.22\n",
    "\n",
    "#Slicing the dataframe to include students that sat a HSK that wasn't HSK6.\n",
    "#And simulating the results via a Normal distribution.\n",
    "chinese_class_df.loc[(chinese_class_df['HSK test?'] == 1) & ~(chinese_class_df['HSK Level'] == 'HSK6'), 'Listening'] = rng.normal(listening_mean, listening_sd, len(chinese_class_df.loc[(chinese_class_df['HSK test?'] == 1) & ~(chinese_class_df['HSK Level'] == 'HSK6')]))\n",
    "\n",
    "#Any scores above 100 are brought down to 100 as that is the maximum.\n",
    "chinese_class_df.loc[chinese_class_df['Listening'] > 100, 'Listening'] = 100\n",
    "\n",
    "#Showing the first 5 records.\n",
    "chinese_class_df.loc[(chinese_class_df['HSK test?'] == 1) & ~(chinese_class_df['HSK Level'] == 'HSK6')].head()"
   ]
  },
  {
   "cell_type": "markdown",
   "metadata": {},
   "source": [
    "For students that sat HSK 1 or 2, that is now both of their sections complete. For students that say the higher levels, they will also have taken a writing section. I will initially simulate this for just HSK3 to HSK5, as HSK6 will be done seperately afterwards. \n",
    "\n",
    "The mean and standard deviation here are 69.67 and 11.95 respectively."
   ]
  },
  {
   "cell_type": "code",
   "execution_count": 301,
   "metadata": {},
   "outputs": [
    {
     "data": {
      "text/html": [
       "<div>\n",
       "<style scoped>\n",
       "    .dataframe tbody tr th:only-of-type {\n",
       "        vertical-align: middle;\n",
       "    }\n",
       "\n",
       "    .dataframe tbody tr th {\n",
       "        vertical-align: top;\n",
       "    }\n",
       "\n",
       "    .dataframe thead th {\n",
       "        text-align: right;\n",
       "    }\n",
       "</style>\n",
       "<table border=\"1\" class=\"dataframe\">\n",
       "  <thead>\n",
       "    <tr style=\"text-align: right;\">\n",
       "      <th></th>\n",
       "      <th>Nationality</th>\n",
       "      <th>Scholarship</th>\n",
       "      <th>Program</th>\n",
       "      <th>HSK test?</th>\n",
       "      <th>HSK Level</th>\n",
       "      <th>HSKK test?</th>\n",
       "      <th>HSKK Level</th>\n",
       "      <th>Reading</th>\n",
       "      <th>Listening</th>\n",
       "      <th>Writing</th>\n",
       "    </tr>\n",
       "  </thead>\n",
       "  <tbody>\n",
       "    <tr>\n",
       "      <th>10</th>\n",
       "      <td>India</td>\n",
       "      <td>0</td>\n",
       "      <td>Non-degree</td>\n",
       "      <td>1</td>\n",
       "      <td>HSK5</td>\n",
       "      <td>0</td>\n",
       "      <td>NaN</td>\n",
       "      <td>75.394282</td>\n",
       "      <td>72.458114</td>\n",
       "      <td>59.922864</td>\n",
       "    </tr>\n",
       "    <tr>\n",
       "      <th>12</th>\n",
       "      <td>Other</td>\n",
       "      <td>0</td>\n",
       "      <td>Non-degree</td>\n",
       "      <td>1</td>\n",
       "      <td>HSK4</td>\n",
       "      <td>0</td>\n",
       "      <td>NaN</td>\n",
       "      <td>88.223995</td>\n",
       "      <td>48.925839</td>\n",
       "      <td>75.398896</td>\n",
       "    </tr>\n",
       "    <tr>\n",
       "      <th>23</th>\n",
       "      <td>Romania</td>\n",
       "      <td>0</td>\n",
       "      <td>Non-degree</td>\n",
       "      <td>1</td>\n",
       "      <td>HSK5</td>\n",
       "      <td>0</td>\n",
       "      <td>NaN</td>\n",
       "      <td>76.020105</td>\n",
       "      <td>68.736228</td>\n",
       "      <td>57.017585</td>\n",
       "    </tr>\n",
       "    <tr>\n",
       "      <th>41</th>\n",
       "      <td>Hungary</td>\n",
       "      <td>0</td>\n",
       "      <td>Non-degree</td>\n",
       "      <td>1</td>\n",
       "      <td>HSK5</td>\n",
       "      <td>0</td>\n",
       "      <td>NaN</td>\n",
       "      <td>57.762281</td>\n",
       "      <td>66.125054</td>\n",
       "      <td>75.533504</td>\n",
       "    </tr>\n",
       "    <tr>\n",
       "      <th>47</th>\n",
       "      <td>Philippines</td>\n",
       "      <td>0</td>\n",
       "      <td>Non-degree</td>\n",
       "      <td>1</td>\n",
       "      <td>HSK4</td>\n",
       "      <td>0</td>\n",
       "      <td>NaN</td>\n",
       "      <td>74.127057</td>\n",
       "      <td>48.900690</td>\n",
       "      <td>74.959858</td>\n",
       "    </tr>\n",
       "  </tbody>\n",
       "</table>\n",
       "</div>"
      ],
      "text/plain": [
       "    Nationality  Scholarship     Program  HSK test? HSK Level  HSKK test?  \\\n",
       "10        India            0  Non-degree          1      HSK5           0   \n",
       "12        Other            0  Non-degree          1      HSK4           0   \n",
       "23      Romania            0  Non-degree          1      HSK5           0   \n",
       "41      Hungary            0  Non-degree          1      HSK5           0   \n",
       "47  Philippines            0  Non-degree          1      HSK4           0   \n",
       "\n",
       "   HSKK Level    Reading  Listening    Writing  \n",
       "10        NaN  75.394282  72.458114  59.922864  \n",
       "12        NaN  88.223995  48.925839  75.398896  \n",
       "23        NaN  76.020105  68.736228  57.017585  \n",
       "41        NaN  57.762281  66.125054  75.533504  \n",
       "47        NaN  74.127057  48.900690  74.959858  "
      ]
     },
     "execution_count": 301,
     "metadata": {},
     "output_type": "execute_result"
    }
   ],
   "source": [
    "#Creating a mask to ensure I only simulate results for HSK3-HSK5\n",
    "hsk_writing_sections = ['HSK3', 'HSK4', 'HSK5']\n",
    "\n",
    "#Stating the mean and standard deviation\n",
    "writing_mean = 69.67\n",
    "writing_sd = 11.95\n",
    "\n",
    "#Slicing the dataframe to include students that sat a HSK that wasn't HSK6.\n",
    "#And simulating the results via a Normal distribution.\n",
    "chinese_class_df.loc[chinese_class_df['HSK Level'].isin(hsk_writing_sections), 'Writing'] = rng.normal(writing_mean, writing_sd, len(chinese_class_df.loc[chinese_class_df['HSK Level'].isin(hsk_writing_sections)]))\n",
    "\n",
    "#Any scores above 100 are brought down to 100 as that is the maximum.\n",
    "chinese_class_df.loc[chinese_class_df['Writing'] > 100, 'Writing'] = 100\n",
    "\n",
    "#Showing the first 5 records.\n",
    "\n",
    "chinese_class_df.loc[chinese_class_df['HSK Level'].isin(hsk_writing_sections)].head()"
   ]
  },
  {
   "cell_type": "markdown",
   "metadata": {},
   "source": [
    "### HSK6 results\n",
    "\n",
    "As mentioned previously, the HSK6 is the toughest of the written HSK tests as it requires knowledge of at least 5000 Chinese characters. Students taking this test are expected to be confident expressing their thoughts and opinions on most topics, both in writing and in speaking. As it is the highest HSK level available (at least until the new HSK testing system starts in 2021[21]), the test was significantly more difficult compared to prior levels, and thus the passing grade was just 40%, rather then the usual 60%. \n",
    "\n",
    "In 2013, Hanban released a series of reports assessing the effectiveness of what was then the new HSK format. Among these reports we can see the scores and distributions for HSK6 from 2010 to 2012[18]. Although these results include all test takers, regardless of where they took the test, they are specifically for HSK6 at least. I'll therefore be using the figures from this paper for the HSK simulations.\n",
    "\n",
    "Reading\n",
    "* Mean - 64.52\n",
    "* Standard Deviation - 16.78\n",
    "\n",
    "Listening\n",
    "* Mean - 73.35\n",
    "* Standard Deviation - 15.55\n",
    "\n",
    "Writing\n",
    "* Mean - 58.81\n",
    "* Standard Deviation - 14.74\n",
    "\n",
    "Just as I did for HSK1 to HSK5, I can now simulate these scores specifically for HSK6 students."
   ]
  },
  {
   "cell_type": "code",
   "execution_count": 302,
   "metadata": {},
   "outputs": [
    {
     "data": {
      "text/html": [
       "<div>\n",
       "<style scoped>\n",
       "    .dataframe tbody tr th:only-of-type {\n",
       "        vertical-align: middle;\n",
       "    }\n",
       "\n",
       "    .dataframe tbody tr th {\n",
       "        vertical-align: top;\n",
       "    }\n",
       "\n",
       "    .dataframe thead th {\n",
       "        text-align: right;\n",
       "    }\n",
       "</style>\n",
       "<table border=\"1\" class=\"dataframe\">\n",
       "  <thead>\n",
       "    <tr style=\"text-align: right;\">\n",
       "      <th></th>\n",
       "      <th>Nationality</th>\n",
       "      <th>Scholarship</th>\n",
       "      <th>Program</th>\n",
       "      <th>HSK test?</th>\n",
       "      <th>HSK Level</th>\n",
       "      <th>HSKK test?</th>\n",
       "      <th>HSKK Level</th>\n",
       "      <th>Reading</th>\n",
       "      <th>Listening</th>\n",
       "      <th>Writing</th>\n",
       "    </tr>\n",
       "  </thead>\n",
       "  <tbody>\n",
       "    <tr>\n",
       "      <th>0</th>\n",
       "      <td>United States</td>\n",
       "      <td>0</td>\n",
       "      <td>Undergraduate</td>\n",
       "      <td>1</td>\n",
       "      <td>HSK6</td>\n",
       "      <td>0</td>\n",
       "      <td>NaN</td>\n",
       "      <td>76.424876</td>\n",
       "      <td>85.217432</td>\n",
       "      <td>63.541668</td>\n",
       "    </tr>\n",
       "    <tr>\n",
       "      <th>2</th>\n",
       "      <td>Laos</td>\n",
       "      <td>0</td>\n",
       "      <td>Undergraduate</td>\n",
       "      <td>1</td>\n",
       "      <td>HSK6</td>\n",
       "      <td>0</td>\n",
       "      <td>NaN</td>\n",
       "      <td>82.040674</td>\n",
       "      <td>71.202790</td>\n",
       "      <td>65.887731</td>\n",
       "    </tr>\n",
       "    <tr>\n",
       "      <th>26</th>\n",
       "      <td>Japan</td>\n",
       "      <td>0</td>\n",
       "      <td>Non-degree</td>\n",
       "      <td>1</td>\n",
       "      <td>HSK6</td>\n",
       "      <td>0</td>\n",
       "      <td>NaN</td>\n",
       "      <td>59.992940</td>\n",
       "      <td>97.676718</td>\n",
       "      <td>46.414528</td>\n",
       "    </tr>\n",
       "    <tr>\n",
       "      <th>61</th>\n",
       "      <td>Pakistan</td>\n",
       "      <td>0</td>\n",
       "      <td>Non-degree</td>\n",
       "      <td>1</td>\n",
       "      <td>HSK6</td>\n",
       "      <td>0</td>\n",
       "      <td>NaN</td>\n",
       "      <td>53.249134</td>\n",
       "      <td>81.088491</td>\n",
       "      <td>50.614714</td>\n",
       "    </tr>\n",
       "    <tr>\n",
       "      <th>69</th>\n",
       "      <td>Thailand</td>\n",
       "      <td>0</td>\n",
       "      <td>Undergraduate</td>\n",
       "      <td>1</td>\n",
       "      <td>HSK6</td>\n",
       "      <td>0</td>\n",
       "      <td>NaN</td>\n",
       "      <td>78.081022</td>\n",
       "      <td>95.717062</td>\n",
       "      <td>32.076869</td>\n",
       "    </tr>\n",
       "  </tbody>\n",
       "</table>\n",
       "</div>"
      ],
      "text/plain": [
       "      Nationality  Scholarship        Program  HSK test? HSK Level  \\\n",
       "0   United States            0  Undergraduate          1      HSK6   \n",
       "2            Laos            0  Undergraduate          1      HSK6   \n",
       "26          Japan            0     Non-degree          1      HSK6   \n",
       "61       Pakistan            0     Non-degree          1      HSK6   \n",
       "69       Thailand            0  Undergraduate          1      HSK6   \n",
       "\n",
       "    HSKK test? HSKK Level    Reading  Listening    Writing  \n",
       "0            0        NaN  76.424876  85.217432  63.541668  \n",
       "2            0        NaN  82.040674  71.202790  65.887731  \n",
       "26           0        NaN  59.992940  97.676718  46.414528  \n",
       "61           0        NaN  53.249134  81.088491  50.614714  \n",
       "69           0        NaN  78.081022  95.717062  32.076869  "
      ]
     },
     "execution_count": 302,
     "metadata": {},
     "output_type": "execute_result"
    }
   ],
   "source": [
    "#Stating the mean and standard deviation\n",
    "hsk6_reading_mean = 64.52\n",
    "hsk6_reading_sd = 16.78\n",
    "hsk6_listening_mean = 73.35\n",
    "hsk6_listening_sd = 15.55\n",
    "hsk6_writing_mean = 58.81\n",
    "hsk6_writing_sd = 14.74\n",
    "\n",
    "#Slicing the dataframe to include students that sat a HSK that wasn HSK6.\n",
    "#And simulating the results via a Normal distribution.\n",
    "chinese_class_df.loc[(chinese_class_df['HSK test?'] == 1) & (chinese_class_df['HSK Level'] == 'HSK6'), 'Reading'] = rng.normal(hsk6_reading_mean, hsk6_reading_sd, len(chinese_class_df.loc[(chinese_class_df['HSK test?'] == 1) & (chinese_class_df['HSK Level'] == 'HSK6')]))\n",
    "chinese_class_df.loc[(chinese_class_df['HSK test?'] == 1) & (chinese_class_df['HSK Level'] == 'HSK6'), 'Listening'] = rng.normal(hsk6_listening_mean, hsk6_listening_sd, len(chinese_class_df.loc[(chinese_class_df['HSK test?'] == 1) & (chinese_class_df['HSK Level'] == 'HSK6')]))\n",
    "chinese_class_df.loc[(chinese_class_df['HSK test?'] == 1) & (chinese_class_df['HSK Level'] == 'HSK6'), 'Writing'] = rng.normal(hsk6_writing_mean, hsk6_listening_sd, len(chinese_class_df.loc[(chinese_class_df['HSK test?'] == 1) & (chinese_class_df['HSK Level'] == 'HSK6')]))\n",
    "\n",
    "#Any scores above 100 are brought down to 100 as that is the maximum.\n",
    "chinese_class_df.loc[chinese_class_df['Reading'] > 100, 'Reading'] = 100\n",
    "chinese_class_df.loc[chinese_class_df['Listening'] > 100, 'Listening'] = 100\n",
    "chinese_class_df.loc[chinese_class_df['Writing'] > 100, 'Writing'] = 100\n",
    "\n",
    "#Showing the first 5 records.\n",
    "chinese_class_df.loc[(chinese_class_df['HSK test?'] == 1) & (chinese_class_df['HSK Level'] == 'HSK6')].head()"
   ]
  },
  {
   "cell_type": "markdown",
   "metadata": {},
   "source": [
    "## Who passed their HSK test?\n",
    "\n",
    "Now that we have each section simulated for each of the students that sat the HSK tests, we can now round the numbers and work out which students passed or failed. It's also important to remember here that HSK1 through to HSK5 has 60% as a passing grade, whereas HSK6 just required 40%."
   ]
  },
  {
   "cell_type": "code",
   "execution_count": 303,
   "metadata": {},
   "outputs": [],
   "source": [
    "#Rounding the Reading, Listening and Writing results so that they are integers, as suggested by StackOverflow[23].\n",
    "chinese_class_df[['Reading', 'Listening', 'Writing']] = chinese_class_df[['Reading', 'Listening', 'Writing']].apply(pd.Series.round)\n",
    "\n",
    "#Combining the scores of all 3 sections to get the final score.\n",
    "chinese_class_df['Total HSK Score'] = chinese_class_df['Reading'] + chinese_class_df['Listening'] + chinese_class_df['Writing']\n",
    "\n",
    "#HSK 3 - 6 has 3 sections, so final score has to be divided by 3. Need to add HSK6 into the hsk_writing_sections array\n",
    "hsk_writing_sections.append('HSK6')\n",
    "\n",
    "#Dividing the total score by 3 and rounding to 2 decimal places for HSK3-6.\n",
    "chinese_class_df.loc[chinese_class_df['HSK Level'].isin(hsk_writing_sections), 'Total HSK Score'] = round(chinese_class_df['Total HSK Score'] / 3, 2)\n",
    "\n",
    "#Dividing the total score by 2 and rounding to 2 decimal places for HSK1 & HSK2.\n",
    "chinese_class_df.loc[~chinese_class_df['HSK Level'].isin(hsk_writing_sections), 'Total HSK Score'] = round(chinese_class_df['Total HSK Score'] / 2, 2)"
   ]
  },
  {
   "cell_type": "markdown",
   "metadata": {},
   "source": [
    "We can now see the final scores for each of the students."
   ]
  },
  {
   "cell_type": "code",
   "execution_count": 304,
   "metadata": {},
   "outputs": [
    {
     "data": {
      "text/html": [
       "<div>\n",
       "<style scoped>\n",
       "    .dataframe tbody tr th:only-of-type {\n",
       "        vertical-align: middle;\n",
       "    }\n",
       "\n",
       "    .dataframe tbody tr th {\n",
       "        vertical-align: top;\n",
       "    }\n",
       "\n",
       "    .dataframe thead th {\n",
       "        text-align: right;\n",
       "    }\n",
       "</style>\n",
       "<table border=\"1\" class=\"dataframe\">\n",
       "  <thead>\n",
       "    <tr style=\"text-align: right;\">\n",
       "      <th></th>\n",
       "      <th>Nationality</th>\n",
       "      <th>Scholarship</th>\n",
       "      <th>Program</th>\n",
       "      <th>HSK test?</th>\n",
       "      <th>HSK Level</th>\n",
       "      <th>HSKK test?</th>\n",
       "      <th>HSKK Level</th>\n",
       "      <th>Reading</th>\n",
       "      <th>Listening</th>\n",
       "      <th>Writing</th>\n",
       "      <th>Total HSK Score</th>\n",
       "    </tr>\n",
       "  </thead>\n",
       "  <tbody>\n",
       "    <tr>\n",
       "      <th>0</th>\n",
       "      <td>United States</td>\n",
       "      <td>0</td>\n",
       "      <td>Undergraduate</td>\n",
       "      <td>1</td>\n",
       "      <td>HSK6</td>\n",
       "      <td>0</td>\n",
       "      <td>NaN</td>\n",
       "      <td>76.0</td>\n",
       "      <td>85.0</td>\n",
       "      <td>64.0</td>\n",
       "      <td>75.00</td>\n",
       "    </tr>\n",
       "    <tr>\n",
       "      <th>2</th>\n",
       "      <td>Laos</td>\n",
       "      <td>0</td>\n",
       "      <td>Undergraduate</td>\n",
       "      <td>1</td>\n",
       "      <td>HSK6</td>\n",
       "      <td>0</td>\n",
       "      <td>NaN</td>\n",
       "      <td>82.0</td>\n",
       "      <td>71.0</td>\n",
       "      <td>66.0</td>\n",
       "      <td>73.00</td>\n",
       "    </tr>\n",
       "    <tr>\n",
       "      <th>10</th>\n",
       "      <td>India</td>\n",
       "      <td>0</td>\n",
       "      <td>Non-degree</td>\n",
       "      <td>1</td>\n",
       "      <td>HSK5</td>\n",
       "      <td>0</td>\n",
       "      <td>NaN</td>\n",
       "      <td>75.0</td>\n",
       "      <td>72.0</td>\n",
       "      <td>60.0</td>\n",
       "      <td>69.00</td>\n",
       "    </tr>\n",
       "    <tr>\n",
       "      <th>12</th>\n",
       "      <td>Other</td>\n",
       "      <td>0</td>\n",
       "      <td>Non-degree</td>\n",
       "      <td>1</td>\n",
       "      <td>HSK4</td>\n",
       "      <td>0</td>\n",
       "      <td>NaN</td>\n",
       "      <td>88.0</td>\n",
       "      <td>49.0</td>\n",
       "      <td>75.0</td>\n",
       "      <td>70.67</td>\n",
       "    </tr>\n",
       "    <tr>\n",
       "      <th>23</th>\n",
       "      <td>Romania</td>\n",
       "      <td>0</td>\n",
       "      <td>Non-degree</td>\n",
       "      <td>1</td>\n",
       "      <td>HSK5</td>\n",
       "      <td>0</td>\n",
       "      <td>NaN</td>\n",
       "      <td>76.0</td>\n",
       "      <td>69.0</td>\n",
       "      <td>57.0</td>\n",
       "      <td>67.33</td>\n",
       "    </tr>\n",
       "  </tbody>\n",
       "</table>\n",
       "</div>"
      ],
      "text/plain": [
       "      Nationality  Scholarship        Program  HSK test? HSK Level  \\\n",
       "0   United States            0  Undergraduate          1      HSK6   \n",
       "2            Laos            0  Undergraduate          1      HSK6   \n",
       "10          India            0     Non-degree          1      HSK5   \n",
       "12          Other            0     Non-degree          1      HSK4   \n",
       "23        Romania            0     Non-degree          1      HSK5   \n",
       "\n",
       "    HSKK test? HSKK Level  Reading  Listening  Writing  Total HSK Score  \n",
       "0            0        NaN     76.0       85.0     64.0            75.00  \n",
       "2            0        NaN     82.0       71.0     66.0            73.00  \n",
       "10           0        NaN     75.0       72.0     60.0            69.00  \n",
       "12           0        NaN     88.0       49.0     75.0            70.67  \n",
       "23           0        NaN     76.0       69.0     57.0            67.33  "
      ]
     },
     "execution_count": 304,
     "metadata": {},
     "output_type": "execute_result"
    }
   ],
   "source": [
    "chinese_class_df.loc[chinese_class_df['HSK test?'] == 1].head()"
   ]
  },
  {
   "cell_type": "markdown",
   "metadata": {},
   "source": [
    "From here, I just need to compare the students final score to the passing grade for their test. 1 will indicate a pass, and 0 a fail."
   ]
  },
  {
   "cell_type": "code",
   "execution_count": 305,
   "metadata": {},
   "outputs": [],
   "source": [
    "#Creating a mask for the HSK tests that have a 60% passing grade.\n",
    "hsk_pass_60_tests = ['HSK1','HSK2','HSK3','HSK4','HSK5']\n",
    "\n",
    "#Setting 'HSK Pass' to 1 if the total score is above 60, otherwise it'll be set to 0.\n",
    "chinese_class_df.loc[(chinese_class_df['HSK Level'].isin(hsk_pass_60_tests)) & (chinese_class_df['Total HSK Score'] >= 60), 'HSK Pass'] = 1\n",
    "chinese_class_df.loc[(chinese_class_df['HSK Level'].isin(hsk_pass_60_tests)) & (chinese_class_df['Total HSK Score'] < 60), 'HSK Pass'] = 0\n",
    "\n",
    "#For HSK6 I'm setting 'HSK Pass' to 1 if the total score is above 40, otherwise it'll be set to 0.\n",
    "chinese_class_df.loc[(~chinese_class_df['HSK Level'].isin(hsk_pass_60_tests)) & (chinese_class_df['Total HSK Score'] >=40), 'HSK Pass'] = 1\n",
    "chinese_class_df.loc[(~chinese_class_df['HSK Level'].isin(hsk_pass_60_tests)) & (chinese_class_df['Total HSK Score'] <40), 'HSK Pass'] = 0"
   ]
  },
  {
   "cell_type": "markdown",
   "metadata": {},
   "source": [
    "We can now see how many students passed their HSK tests (1), and how many failed (0)."
   ]
  },
  {
   "cell_type": "code",
   "execution_count": 306,
   "metadata": {},
   "outputs": [
    {
     "data": {
      "text/plain": [
       "1.0    74\n",
       "0.0     4\n",
       "Name: HSK Pass, dtype: int64"
      ]
     },
     "execution_count": 306,
     "metadata": {},
     "output_type": "execute_result"
    }
   ],
   "source": [
    "chinese_class_df['HSK Pass'].value_counts()"
   ]
  },
  {
   "cell_type": "markdown",
   "metadata": {},
   "source": [
    "## HSKK Oral Test Results\n",
    "\n",
    "Unlike the written tests which have multiple distinct sections, the HSKK test just tests spoken language skills, and so just has the one speaking section. The passing grade for this test is 60% for all three levels of the test (beginner, intermediate and advanced).\n",
    "\n",
    "The previous mentioned study of 109 students from the US[17] also measured the results of the intermediate HSKK test for those students. One notable difference here is that due to the low participation rate of the HSKK test, a sample of 109 measurements is actually fairly sizable. Earlier in my extrapolation of 2012 trends to 2018 international student figures, we saw that only about 0.97% of students in China attempt the HSKK test. \n",
    "\n",
    "As with the HSK test simulations, I will be using the normal distribution again, with the mean and standard deviation referenced in the above mentioned study[17] of 79 and 9.84 respecxtively."
   ]
  },
  {
   "cell_type": "code",
   "execution_count": 307,
   "metadata": {},
   "outputs": [
    {
     "data": {
      "text/html": [
       "<div>\n",
       "<style scoped>\n",
       "    .dataframe tbody tr th:only-of-type {\n",
       "        vertical-align: middle;\n",
       "    }\n",
       "\n",
       "    .dataframe tbody tr th {\n",
       "        vertical-align: top;\n",
       "    }\n",
       "\n",
       "    .dataframe thead th {\n",
       "        text-align: right;\n",
       "    }\n",
       "</style>\n",
       "<table border=\"1\" class=\"dataframe\">\n",
       "  <thead>\n",
       "    <tr style=\"text-align: right;\">\n",
       "      <th></th>\n",
       "      <th>Nationality</th>\n",
       "      <th>Scholarship</th>\n",
       "      <th>Program</th>\n",
       "      <th>HSK test?</th>\n",
       "      <th>HSK Level</th>\n",
       "      <th>HSKK test?</th>\n",
       "      <th>HSKK Level</th>\n",
       "      <th>Reading</th>\n",
       "      <th>Listening</th>\n",
       "      <th>Writing</th>\n",
       "      <th>Total HSK Score</th>\n",
       "      <th>HSK Pass</th>\n",
       "      <th>Speaking</th>\n",
       "      <th>HSKK Pass</th>\n",
       "    </tr>\n",
       "  </thead>\n",
       "  <tbody>\n",
       "    <tr>\n",
       "      <th>6</th>\n",
       "      <td>South Africa</td>\n",
       "      <td>0</td>\n",
       "      <td>Undergraduate</td>\n",
       "      <td>0</td>\n",
       "      <td>NaN</td>\n",
       "      <td>1</td>\n",
       "      <td>Intermediate</td>\n",
       "      <td>NaN</td>\n",
       "      <td>NaN</td>\n",
       "      <td>NaN</td>\n",
       "      <td>NaN</td>\n",
       "      <td>NaN</td>\n",
       "      <td>59.0</td>\n",
       "      <td>0.0</td>\n",
       "    </tr>\n",
       "    <tr>\n",
       "      <th>82</th>\n",
       "      <td>Tanzania</td>\n",
       "      <td>0</td>\n",
       "      <td>Master's</td>\n",
       "      <td>0</td>\n",
       "      <td>NaN</td>\n",
       "      <td>1</td>\n",
       "      <td>Intermediate</td>\n",
       "      <td>NaN</td>\n",
       "      <td>NaN</td>\n",
       "      <td>NaN</td>\n",
       "      <td>NaN</td>\n",
       "      <td>NaN</td>\n",
       "      <td>77.0</td>\n",
       "      <td>1.0</td>\n",
       "    </tr>\n",
       "    <tr>\n",
       "      <th>169</th>\n",
       "      <td>Niger</td>\n",
       "      <td>0</td>\n",
       "      <td>Undergraduate</td>\n",
       "      <td>0</td>\n",
       "      <td>NaN</td>\n",
       "      <td>1</td>\n",
       "      <td>Advanced</td>\n",
       "      <td>NaN</td>\n",
       "      <td>NaN</td>\n",
       "      <td>NaN</td>\n",
       "      <td>NaN</td>\n",
       "      <td>NaN</td>\n",
       "      <td>88.0</td>\n",
       "      <td>1.0</td>\n",
       "    </tr>\n",
       "    <tr>\n",
       "      <th>246</th>\n",
       "      <td>Ghana</td>\n",
       "      <td>0</td>\n",
       "      <td>Non-degree</td>\n",
       "      <td>0</td>\n",
       "      <td>NaN</td>\n",
       "      <td>1</td>\n",
       "      <td>Advanced</td>\n",
       "      <td>NaN</td>\n",
       "      <td>NaN</td>\n",
       "      <td>NaN</td>\n",
       "      <td>NaN</td>\n",
       "      <td>NaN</td>\n",
       "      <td>77.0</td>\n",
       "      <td>1.0</td>\n",
       "    </tr>\n",
       "    <tr>\n",
       "      <th>296</th>\n",
       "      <td>Uzbekistan</td>\n",
       "      <td>0</td>\n",
       "      <td>Non-degree</td>\n",
       "      <td>0</td>\n",
       "      <td>NaN</td>\n",
       "      <td>1</td>\n",
       "      <td>Intermediate</td>\n",
       "      <td>NaN</td>\n",
       "      <td>NaN</td>\n",
       "      <td>NaN</td>\n",
       "      <td>NaN</td>\n",
       "      <td>NaN</td>\n",
       "      <td>88.0</td>\n",
       "      <td>1.0</td>\n",
       "    </tr>\n",
       "  </tbody>\n",
       "</table>\n",
       "</div>"
      ],
      "text/plain": [
       "      Nationality  Scholarship        Program  HSK test? HSK Level  \\\n",
       "6    South Africa            0  Undergraduate          0       NaN   \n",
       "82       Tanzania            0       Master's          0       NaN   \n",
       "169         Niger            0  Undergraduate          0       NaN   \n",
       "246         Ghana            0     Non-degree          0       NaN   \n",
       "296    Uzbekistan            0     Non-degree          0       NaN   \n",
       "\n",
       "     HSKK test?    HSKK Level  Reading  Listening  Writing  Total HSK Score  \\\n",
       "6             1  Intermediate      NaN        NaN      NaN              NaN   \n",
       "82            1  Intermediate      NaN        NaN      NaN              NaN   \n",
       "169           1      Advanced      NaN        NaN      NaN              NaN   \n",
       "246           1      Advanced      NaN        NaN      NaN              NaN   \n",
       "296           1  Intermediate      NaN        NaN      NaN              NaN   \n",
       "\n",
       "     HSK Pass  Speaking  HSKK Pass  \n",
       "6         NaN      59.0        0.0  \n",
       "82        NaN      77.0        1.0  \n",
       "169       NaN      88.0        1.0  \n",
       "246       NaN      77.0        1.0  \n",
       "296       NaN      88.0        1.0  "
      ]
     },
     "execution_count": 307,
     "metadata": {},
     "output_type": "execute_result"
    }
   ],
   "source": [
    "#Stating the mean and standard deviation.\n",
    "hskk_mean = 79\n",
    "hskk_sd = 9.84\n",
    "\n",
    "#Simulating the Speaking scores via a Normal distribution.\n",
    "chinese_class_df.loc[chinese_class_df['HSKK test?'] == 1, 'Speaking'] = rng.normal(hskk_mean, hskk_sd, chinese_class_df['HSKK test?'].sum())\n",
    "\n",
    "#Ensuring no scores are above 100.\n",
    "chinese_class_df.loc[chinese_class_df['Speaking'] > 100, 'Speaking'] = 100\n",
    "\n",
    "#Rounding the scores to integers.\n",
    "chinese_class_df[['Speaking']] = chinese_class_df[['Speaking']].apply(pd.Series.round)\n",
    "\n",
    "#Comparing the scores to the passing grade, and labelling passes as \"1\" and fails as \"0\"\n",
    "chinese_class_df.loc[chinese_class_df['Speaking'] >= 60, 'HSKK Pass'] = 1\n",
    "chinese_class_df.loc[chinese_class_df['Speaking'] < 60, 'HSKK Pass'] = 0\n",
    "\n",
    "#Showing the results of the students that attemptd the HSKK test.\n",
    "chinese_class_df.loc[chinese_class_df['HSKK test?'] == 1]"
   ]
  },
  {
   "cell_type": "markdown",
   "metadata": {},
   "source": [
    "We now have the full results for all of the HSK and HSKK exams taken by students at the simulated school.\n"
   ]
  },
  {
   "cell_type": "markdown",
   "metadata": {},
   "source": [
    "# Generating the dataset in full\n",
    "\n",
    "## 1. Setting up student nationalities"
   ]
  },
  {
   "cell_type": "code",
   "execution_count": 308,
   "metadata": {},
   "outputs": [],
   "source": [
    "import pandas as pd\n",
    "import numpy as np\n",
    "\n",
    "#This can be altered to change the school size.\n",
    "school_size = 500\n",
    "\n",
    "#Using an edited dataset from the world bank. I've removed regional aggregations (e.g. Eurozone, World).\n",
    "#as well as China, Hong Kong and Macau - as these would not be considered International Students.\n",
    "#I will be using the 2018 population data, and will drop any countries that don't have an entry.\n",
    "populations_df = pd.read_csv('world_populations.csv', usecols = ['Country Name', 'Country Code', '2018'])\n",
    "populations_df.dropna(inplace=True)\n",
    "#2018 column is stored as strings, so changing to integers for later calculations.\n",
    "populations_df['2018'] = populations_df['2018'].astype('int')\n",
    "\n",
    "#Stating the African country codes for a slice of the dataframe.\n",
    "african_country_codes =  ['DZA','AGO','BWA','IOT','BDI','CMR','CPV','CAF','TCD','UGA',\n",
    "                     'COM','COG','BEN','GNQ','ETH','ERI','ATF','DJI','GAB','SDN'\n",
    "                     'GMB','GHA','GIN','CIV','KEN','LSO','LBR','LBY','MDG','ESH',\n",
    "                     'MWI','MLI','MRT','MUS','MAR','MOZ','NAM','NER','NGA','TGO',\n",
    "                     'GNB','RWA','SEN','SYC','SLE','SOM','ZAF','ZWE','SSD','TUN',\n",
    "                    'EGY','BFA','ZMB', 'COD']\n",
    "#Stating the country codes of the top 15 sources of students for a slice on the dataframe.\n",
    "top_15_country_codes = ['KOR', 'THA', 'PAK', 'IND', 'USA', 'RUS', 'IDN', 'LAO', \n",
    "                        'JPN', 'KAZ', 'VNM', 'BGD', 'FRA', 'MNG', 'MYS']\n",
    "\n",
    "\n",
    "#Slicing the dataframe to only include countries with the african_country_codes.\n",
    "#Dividing the individual country's population in 2018 by the total for all the African countries to get the proportion to be used as probability later.\n",
    "populations_df.loc[populations_df['Country Code'].isin(african_country_codes), 'Proportion of African Population'] = populations_df['2018'] / populations_df.loc[populations_df['Country Code'].isin(african_country_codes)]['2018'].sum()\n",
    "\n",
    "#Removing the known African and Top 15 countries combined populations from Rest of the World.\n",
    "#Top 15 countries combined population.\n",
    "top_15_total_population = populations_df.loc[populations_df['Country Code'].isin(top_15_country_codes)]['2018'].sum()\n",
    "#African countries combined population.\n",
    "africa_total_population = populations_df.loc[populations_df['Country Code'].isin(african_country_codes)]['2018'].sum()\n",
    "#World Population without China, Hong Kong & Macau, minus the African population, minus the top 15 countries\n",
    "rest_of_world_population = 6267671127 - africa_total_population - top_15_total_population\n",
    "\n",
    "#Removing the African countries and Top 15 countries from the rest_of_world slice.\n",
    "rest_of_world = populations_df.loc[~populations_df['Country Code'].isin(african_country_codes)]\n",
    "rest_of_world = rest_of_world.loc[~rest_of_world['Country Code'].isin(top_15_country_codes)]\n",
    "\n",
    "#Working out the proportions for each country in the Rest of the World.\n",
    "rest_of_world['Proportion of World Population'] = rest_of_world['2018'] / rest_of_world_population\n",
    "\n",
    "#Turning the list of African countries and their probabilities into arrays to use later.\n",
    "african_country = np.array(populations_df.loc[populations_df['Country Code'].isin(african_country_codes)]['Country Name'])\n",
    "african_probabilities = np.array(populations_df.loc[populations_df['Country Code'].isin(african_country_codes)]['Proportion of African Population'])\n",
    "#Turning the list of countries and their probabilities into arrays to use later.\n",
    "rest_of_world_country = np.array(rest_of_world['Country Name'])\n",
    "rest_of_world_probabilities = np.array(rest_of_world['Proportion of World Population'])\n",
    " \n",
    "#At present, the probabilities for rest of the world do not equal 1. I will therefore fill the gap and assign it as \"Other\".\n",
    "other = 1 - sum(rest_of_world_probabilities)\n",
    "#Add \"Other\" into the selection and probabilties\n",
    "rest_of_world_country = np.insert(rest_of_world_country, -1, 'Other')\n",
    "rest_of_world_probabilities = np.insert(rest_of_world_probabilities, -1,  other)\n",
    "\n",
    "\n",
    "#State the list of possible countries or regions to be selected by Choice()\n",
    "student_origins = np.array(['Rest of the World', 'Africa', 'South Korea', 'Thailand', 'Pakistan', 'India', 'United States',\n",
    "                  'Russia', 'Indonesia', 'Laos', 'Japan', 'Kazakhstan', 'Vietnam', 'Bangladesh', 'France', 'Mongolia',\n",
    "                  'Malaysia'])\n",
    "#Count of International Students students from each region in 2018.\n",
    "student_origin_counts = np.array([131884, 81562, 50600, 28608, 28023, 23198, 20996, 19239, 15050, 14645, 14230, 11784,\n",
    "                        11299, 10735, 10695, 10158, 9479])\n",
    "#Work out the probability that a student came from each region by its proportion to the total.\n",
    "student_origin_probabilities = student_origin_counts / sum(student_origin_counts)\n"
   ]
  },
  {
   "cell_type": "markdown",
   "metadata": {},
   "source": [
    "## 2. Generating the dataset"
   ]
  },
  {
   "cell_type": "code",
   "execution_count": 309,
   "metadata": {},
   "outputs": [],
   "source": [
    "#Creating the pseudorandom number generator container.\n",
    "rng = np.random.default_rng()\n",
    "\n",
    "#Creating an index of student IDs to use for the dataframe.\n",
    "index = np.arange(0, school_size)\n",
    "\n",
    "#Creating the dataframe\n",
    "chinese_class_df = pd.DataFrame(index = index, columns = ['Nationality'])\n",
    "\n",
    "#Simulating the first pick of countries and regions.\n",
    "chinese_class_df['Nationality'] = rng.choice(student_origins, school_size, p=student_origin_probabilities)\n",
    "\n",
    "#Students from \"Africa\" or \"Rest of the World\" need a specific country selected.\n",
    "#African students have a country picked for them\n",
    "chinese_class_df.loc[chinese_class_df['Nationality'] == 'Africa', 'Nationality'] = rng.choice(african_country, (chinese_class_df['Nationality'].values == 'Africa').sum(), p=african_probabilities) \n",
    "#Rest of the world students have a country picked for them\n",
    "chinese_class_df.loc[chinese_class_df['Nationality'] == 'Rest of the World', 'Nationality'] = rng.choice(rest_of_world_country, (chinese_class_df['Nationality'].values == 'Rest of the World').sum(), p=rest_of_world_probabilities) \n",
    "\n",
    "\n",
    "\n",
    "#Using 1 to indicate a scholarship, with a probability of 12.81% from the government statistics for 2018.\n",
    "chinese_class_df['Scholarship'] = rng.binomial(1, 0.1281, school_size)\n",
    "\n",
    "#Declaring the 4 types of programs available at the school.\n",
    "program_type = ['Non-degree', 'Undergraduate', \"Master's\", 'Doctoral']\n",
    "#The total number of International students on each program type in China in 2018.\n",
    "program_totals = np.array([234063, 173060, 59444, 25618])\n",
    "#Using those totals and their proportion of the whole to create probabilities.\n",
    "program_probabilities = program_totals / sum(program_totals)\n",
    "#Generating program types for each student.\n",
    "chinese_class_df['Program'] = rng.choice(program_type, school_size, p=program_probabilities)\n",
    "\n",
    "\n",
    "#Simulating the students that sat any HSK exam, based off the percentage calculated in the HSK section of this notebook.\n",
    "chinese_class_df['HSK test?'] = rng.binomial(1, 0.185, school_size)\n",
    "\n",
    "#Simulating which written test these students took.\n",
    "#Listing the 6 HSK levels for the written exam\n",
    "hsk_levels = np.array(['HSK1', 'HSK2', 'HSK3', 'HSK4', 'HSK5', 'HSK6'])\n",
    "#The total number of students that took these tests in 2012.\n",
    "hsk_2012 = np.array([658, 1343, 4003, 16158, 21278, 17153])\n",
    "#Dividing the 2012 figures for each level by total HSK tests taken that year. These proportions will be my probabilities\n",
    "hsk_levels_proportions = hsk_2012 / sum(hsk_2012)\n",
    "\n",
    "#Using Choice() to select a HSK level for each of the students that sat a HSK test.\n",
    "chinese_class_df.loc[chinese_class_df['HSK test?'] == 1, 'HSK Level'] = rng.choice(hsk_levels, chinese_class_df['HSK test?'].sum(), p=hsk_levels_proportions) \n",
    "\n",
    "#Simulating the results for each section of the written test. \n",
    "#Simulation based off the mean and standard deviation from the study of 109 US students.\n",
    "#Reading section. First stating the mean and standard deviation.\n",
    "reading_mean = 75.39\n",
    "reading_sd = 13.85\n",
    "#Generating the results.\n",
    "chinese_class_df.loc[chinese_class_df['HSK test?'] == 1, 'Reading'] = rng.normal(reading_mean, reading_sd, chinese_class_df['HSK test?'].sum())\n",
    "#Reducing the HSK6 results by 1/3 to reflect the higher difficulty. The mean and SD for HSK4 is too high for this test.\n",
    "chinese_class_df.loc[chinese_class_df['HSK Level'] == 'HSK6', ['Reading']] = (chinese_class_df['Reading'] / 3) * 2\n",
    "#Normal distribution will pick a few values above 100. This goes beyond the possible score in the section, so I'll cap these at 100.\n",
    "chinese_class_df.loc[chinese_class_df['Reading'] > 100, 'Reading'] = 100\n",
    "\n",
    "\n",
    "#Listening section - same process as for the Reading test.\n",
    "listening_mean = 70.73\n",
    "listening_sd = 15.22\n",
    "chinese_class_df.loc[chinese_class_df['HSK test?'] == 1, 'Listening'] = rng.normal(listening_mean, listening_sd, chinese_class_df['HSK test?'].sum())\n",
    "chinese_class_df.loc[chinese_class_df['HSK Level'] == 'HSK6', ['Listening']] = (chinese_class_df['Listening'] / 3) * 2\n",
    "chinese_class_df.loc[chinese_class_df['Listening'] > 100, 'Listening'] = 100\n",
    "\n",
    "#Writing section.\n",
    "#Only HSK 3 - 6 has a writing section. Creating a mask to subset those tests.\n",
    "hsk_writing_sections = ['HSK3', 'HSK4', 'HSK5', 'HSK6']\n",
    "\n",
    "writing_mean = 69.67\n",
    "writing_sd = 11.95\n",
    "chinese_class_df.loc[chinese_class_df['HSK Level'].isin(hsk_writing_sections), 'Writing'] = rng.normal(writing_mean, writing_sd, len(chinese_class_df.loc[chinese_class_df['HSK Level'].isin(hsk_writing_sections)]))\n",
    "chinese_class_df.loc[chinese_class_df['HSK Level'] == 'HSK6', ['Writing']] = (chinese_class_df['Writing'] / 3) * 2\n",
    "chinese_class_df.loc[chinese_class_df['Writing'] > 100, 'Writing'] = 100\n",
    "\n",
    "#Scores for each section must be rounded to integers.\n",
    "chinese_class_df[['Reading', 'Listening', 'Writing']] = chinese_class_df[['Reading', 'Listening', 'Writing']].apply(pd.Series.round)\n",
    "\n",
    "#HSK Results\n",
    "#Sum the 3 sections to get the score.\n",
    "chinese_class_df['Total HSK Score'] = chinese_class_df['Reading'] + chinese_class_df['Listening'] + chinese_class_df['Writing']\n",
    "\n",
    "#HSK 3 - 6 has 3 sections, so final score has to be divided by 3.\n",
    "chinese_class_df.loc[chinese_class_df['HSK Level'].isin(hsk_writing_sections), 'Total HSK Score'] = round(chinese_class_df['Total HSK Score'] / 3, 2)\n",
    "#HSK 1 and 2 have 2 sections, so final score is divided by 2.\n",
    "chinese_class_df.loc[~chinese_class_df['HSK Level'].isin(hsk_writing_sections), 'Total HSK Score'] = round(chinese_class_df['Total HSK Score'] / 2, 2)\n",
    "\n",
    "#Pass/Fail. HSK 1-5 has a passing grade of 60. HSK has a passing grade of 40.\n",
    "#Creating a mask of the tests that require 60 points.\n",
    "hsk_pass_60_tests = ['HSK1','HSK2','HSK3','HSK4','HSK5']\n",
    "\n",
    "#Pass/Fail for the tests that require 60 points to pass.\n",
    "chinese_class_df.loc[(chinese_class_df['HSK Level'].isin(hsk_pass_60_tests)) & (chinese_class_df['Total HSK Score'] >= 60), 'HSK Pass'] = 'Pass'\n",
    "chinese_class_df.loc[(chinese_class_df['HSK Level'].isin(hsk_pass_60_tests)) & (chinese_class_df['Total HSK Score'] < 60), 'HSK Pass'] = 'Fail'\n",
    "#Pass/Fail for HSK 6 (40 points to pass)\n",
    "chinese_class_df.loc[(~chinese_class_df['HSK Level'].isin(hsk_pass_60_tests)) & (chinese_class_df['Total HSK Score'] >=40), 'HSK Pass'] = 'Pass'\n",
    "chinese_class_df.loc[(~chinese_class_df['HSK Level'].isin(hsk_pass_60_tests)) & (chinese_class_df['Total HSK Score'] <40), 'HSK Pass'] = 'Fail'\n",
    "\n",
    "#Simulating students that took the HSKK test, based off percentage calculated in the HSK section of this notebook.\n",
    "chinese_class_df['HSKK test?'] = rng.binomial(1, 0.0097, school_size)\n",
    "\n",
    "#Stating the three levels of HSKK test, alongside their 2012 totals and probabilities.\n",
    "hskk_levels = np.array(['Beginner', 'Intermediate', 'Advanced'])\n",
    "hskk_2012 = np.array([56, 1708, 1407])\n",
    "hskk_level_proportions = hskk_2012 / sum(hskk_2012)\n",
    "#Selecting the level for each student that took a HSKK test.\n",
    "chinese_class_df.loc[chinese_class_df['HSKK test?'] == 1, 'HSKK Level'] = rng.choice(hskk_levels, chinese_class_df['HSKK test?'].sum(), p=hskk_level_proportions) \n",
    "\n",
    "#Generating HSKK test results - same as the reading, writing and listening sections of written test. \n",
    "hskk_mean = 79\n",
    "hskk_sd = 9.84\n",
    "chinese_class_df.loc[chinese_class_df['HSKK test?'] == 1, 'Speaking'] = rng.normal(hskk_mean, hskk_sd, chinese_class_df['HSKK test?'].sum())\n",
    "chinese_class_df.loc[chinese_class_df['Speaking'] > 100, 'Speaking'] = 100\n",
    "chinese_class_df[['Speaking']] = chinese_class_df[['Speaking']].apply(pd.Series.round)\n",
    "\n",
    "#Highlighting who passed and failed.\n",
    "chinese_class_df.loc[chinese_class_df['Speaking'] >= 60, 'HSKK Pass'] = 'Pass'\n",
    "chinese_class_df.loc[chinese_class_df['Speaking'] < 60, 'HSKK Pass'] = 'Fail'"
   ]
  },
  {
   "cell_type": "code",
   "execution_count": 310,
   "metadata": {},
   "outputs": [
    {
     "data": {
      "text/html": [
       "<div>\n",
       "<style scoped>\n",
       "    .dataframe tbody tr th:only-of-type {\n",
       "        vertical-align: middle;\n",
       "    }\n",
       "\n",
       "    .dataframe tbody tr th {\n",
       "        vertical-align: top;\n",
       "    }\n",
       "\n",
       "    .dataframe thead th {\n",
       "        text-align: right;\n",
       "    }\n",
       "</style>\n",
       "<table border=\"1\" class=\"dataframe\">\n",
       "  <thead>\n",
       "    <tr style=\"text-align: right;\">\n",
       "      <th></th>\n",
       "      <th>Nationality</th>\n",
       "      <th>Scholarship</th>\n",
       "      <th>Program</th>\n",
       "      <th>HSK test?</th>\n",
       "      <th>HSK Level</th>\n",
       "      <th>Reading</th>\n",
       "      <th>Listening</th>\n",
       "      <th>Writing</th>\n",
       "      <th>Total HSK Score</th>\n",
       "      <th>HSK Pass</th>\n",
       "      <th>HSKK test?</th>\n",
       "      <th>HSKK Level</th>\n",
       "      <th>Speaking</th>\n",
       "      <th>HSKK Pass</th>\n",
       "    </tr>\n",
       "  </thead>\n",
       "  <tbody>\n",
       "    <tr>\n",
       "      <th>0</th>\n",
       "      <td>Senegal</td>\n",
       "      <td>0</td>\n",
       "      <td>Undergraduate</td>\n",
       "      <td>0</td>\n",
       "      <td>NaN</td>\n",
       "      <td>NaN</td>\n",
       "      <td>NaN</td>\n",
       "      <td>NaN</td>\n",
       "      <td>NaN</td>\n",
       "      <td>NaN</td>\n",
       "      <td>0</td>\n",
       "      <td>NaN</td>\n",
       "      <td>NaN</td>\n",
       "      <td>NaN</td>\n",
       "    </tr>\n",
       "    <tr>\n",
       "      <th>1</th>\n",
       "      <td>Venezuela, RB</td>\n",
       "      <td>0</td>\n",
       "      <td>Non-degree</td>\n",
       "      <td>0</td>\n",
       "      <td>NaN</td>\n",
       "      <td>NaN</td>\n",
       "      <td>NaN</td>\n",
       "      <td>NaN</td>\n",
       "      <td>NaN</td>\n",
       "      <td>NaN</td>\n",
       "      <td>0</td>\n",
       "      <td>NaN</td>\n",
       "      <td>NaN</td>\n",
       "      <td>NaN</td>\n",
       "    </tr>\n",
       "    <tr>\n",
       "      <th>2</th>\n",
       "      <td>India</td>\n",
       "      <td>0</td>\n",
       "      <td>Non-degree</td>\n",
       "      <td>0</td>\n",
       "      <td>NaN</td>\n",
       "      <td>NaN</td>\n",
       "      <td>NaN</td>\n",
       "      <td>NaN</td>\n",
       "      <td>NaN</td>\n",
       "      <td>NaN</td>\n",
       "      <td>0</td>\n",
       "      <td>NaN</td>\n",
       "      <td>NaN</td>\n",
       "      <td>NaN</td>\n",
       "    </tr>\n",
       "    <tr>\n",
       "      <th>3</th>\n",
       "      <td>United States</td>\n",
       "      <td>0</td>\n",
       "      <td>Master's</td>\n",
       "      <td>0</td>\n",
       "      <td>NaN</td>\n",
       "      <td>NaN</td>\n",
       "      <td>NaN</td>\n",
       "      <td>NaN</td>\n",
       "      <td>NaN</td>\n",
       "      <td>NaN</td>\n",
       "      <td>0</td>\n",
       "      <td>NaN</td>\n",
       "      <td>NaN</td>\n",
       "      <td>NaN</td>\n",
       "    </tr>\n",
       "    <tr>\n",
       "      <th>4</th>\n",
       "      <td>France</td>\n",
       "      <td>0</td>\n",
       "      <td>Non-degree</td>\n",
       "      <td>0</td>\n",
       "      <td>NaN</td>\n",
       "      <td>NaN</td>\n",
       "      <td>NaN</td>\n",
       "      <td>NaN</td>\n",
       "      <td>NaN</td>\n",
       "      <td>NaN</td>\n",
       "      <td>0</td>\n",
       "      <td>NaN</td>\n",
       "      <td>NaN</td>\n",
       "      <td>NaN</td>\n",
       "    </tr>\n",
       "  </tbody>\n",
       "</table>\n",
       "</div>"
      ],
      "text/plain": [
       "     Nationality  Scholarship        Program  HSK test? HSK Level  Reading  \\\n",
       "0        Senegal            0  Undergraduate          0       NaN      NaN   \n",
       "1  Venezuela, RB            0     Non-degree          0       NaN      NaN   \n",
       "2          India            0     Non-degree          0       NaN      NaN   \n",
       "3  United States            0       Master's          0       NaN      NaN   \n",
       "4         France            0     Non-degree          0       NaN      NaN   \n",
       "\n",
       "   Listening  Writing  Total HSK Score HSK Pass  HSKK test? HSKK Level  \\\n",
       "0        NaN      NaN              NaN      NaN           0        NaN   \n",
       "1        NaN      NaN              NaN      NaN           0        NaN   \n",
       "2        NaN      NaN              NaN      NaN           0        NaN   \n",
       "3        NaN      NaN              NaN      NaN           0        NaN   \n",
       "4        NaN      NaN              NaN      NaN           0        NaN   \n",
       "\n",
       "   Speaking HSKK Pass  \n",
       "0       NaN       NaN  \n",
       "1       NaN       NaN  \n",
       "2       NaN       NaN  \n",
       "3       NaN       NaN  \n",
       "4       NaN       NaN  "
      ]
     },
     "execution_count": 310,
     "metadata": {},
     "output_type": "execute_result"
    }
   ],
   "source": [
    "chinese_class_df.head()"
   ]
  },
  {
   "cell_type": "markdown",
   "metadata": {},
   "source": [
    "## Visualizing the dataset"
   ]
  },
  {
   "cell_type": "code",
   "execution_count": 311,
   "metadata": {},
   "outputs": [],
   "source": [
    "import matplotlib.pyplot as plt\n",
    "import seaborn as sns"
   ]
  },
  {
   "cell_type": "code",
   "execution_count": 312,
   "metadata": {},
   "outputs": [],
   "source": [
    "#Creating a function for general formatting of my plots.\n",
    "def format_plots(ax, title, xlabel, ylabel):\n",
    "    grey = '#808080'\n",
    "        \n",
    "    #Creating objects for the plot for easier customisation.        \n",
    "    fig.suptitle(title, x=0.125, y = 0.95, fontsize = 12, ha='left', color = grey, fontweight = 'bold')\n",
    "\n",
    "    #Using fig.text for the axis laels as it gives more flexibility.\n",
    "    fig.text(0.125, 0.03, xlabel, ha='left', color = grey)\n",
    "    fig.text(0.12, 0.9, ylabel, ha='right', color = grey)\n",
    "        \n",
    "    #Will edit the spines, so that we can highlight the data in the plot itself.\n",
    "    ax.spines['right'].set_visible(False)\n",
    "    ax.spines['top'].set_visible(False)\n",
    "    ax.spines['left'].set_color(grey)\n",
    "    ax.spines['bottom'].set_color(grey)\n",
    "    ax.tick_params(axis='both', colors=grey)\n",
    "    \n",
    "    ax.set_ylabel('')    \n",
    "    ax.set_xlabel('')\n",
    "\n",
    "    return ax"
   ]
  },
  {
   "cell_type": "markdown",
   "metadata": {},
   "source": [
    "### Student Nationalities"
   ]
  },
  {
   "cell_type": "code",
   "execution_count": 313,
   "metadata": {},
   "outputs": [
    {
     "data": {
      "image/png": "[encoded data removed]",
      "text/plain": [
       "<Figure size 432x288 with 1 Axes>"
      ]
     },
     "metadata": {
      "needs_background": "dark"
     },
     "output_type": "display_data"
    }
   ],
   "source": [
    "#https://seaborn.pydata.org/generated/seaborn.countplot.html\n",
    "fig, ax = plt.subplots()\n",
    "ax = sns.countplot(x = chinese_class_df['Nationality'])\n",
    "format_plots(ax, \"Countplot of all student nationalities\", \"Nationality\", \"Count\")\n",
    "ax.set(xticklabels=[])\n",
    "fig.text(0.9, 0.6, \"Students come from \\n{} different countries.\".format(len(chinese_class_df['Nationality'].unique())), ha='left')\n",
    "ax;"
   ]
  },
  {
   "cell_type": "code",
   "execution_count": 314,
   "metadata": {},
   "outputs": [
    {
     "data": {
      "image/png": "[encoded data removed]",
      "text/plain": [
       "<Figure size 432x288 with 1 Axes>"
      ]
     },
     "metadata": {
      "needs_background": "dark"
     },
     "output_type": "display_data"
    }
   ],
   "source": [
    "fig, ax = plt.subplots()\n",
    "ax = sns.countplot(y=\"Nationality\", data=chinese_class_df,\n",
    "              order=chinese_class_df.Nationality.value_counts().iloc[:15].index)\n",
    "format_plots(ax, \"Countplot of the top 15 student nationalities\", \"Count\", \"Nationality\")\n",
    "fig.text(0.9, 0.6, \"South Korea is consistently \\nthe top source of students.\", ha='left');"
   ]
  },
  {
   "cell_type": "code",
   "execution_count": 315,
   "metadata": {},
   "outputs": [
    {
     "data": {
      "image/png": "[encoded data removed]",
      "text/plain": [
       "<Figure size 432x288 with 1 Axes>"
      ]
     },
     "metadata": {
      "needs_background": "dark"
     },
     "output_type": "display_data"
    }
   ],
   "source": [
    "fig, ax = plt.subplots()\n",
    "ax = sns.countplot(y=\"Nationality\", hue=\"Scholarship\", data=chinese_class_df,\n",
    "              order=chinese_class_df.Nationality.value_counts().iloc[:15].index)\n",
    "format_plots(ax, \"Countplot of the top 15 student nationalities and their funding\", \"Count\", \"Nationality\")\n",
    "fig.text(0.9, 0.6, \"The majority of students are self-funded.\", ha='left')\n",
    "plt.legend(['Self-funded', 'Scholarship']);"
   ]
  },
  {
   "cell_type": "code",
   "execution_count": 316,
   "metadata": {},
   "outputs": [
    {
     "data": {
      "image/png": "[encoded data removed]",
      "text/plain": [
       "<Figure size 432x288 with 1 Axes>"
      ]
     },
     "metadata": {
      "needs_background": "dark"
     },
     "output_type": "display_data"
    }
   ],
   "source": [
    "fig, ax = plt.subplots()\n",
    "ax = sns.countplot(y=\"Nationality\", hue=\"Program\", data=chinese_class_df,\n",
    "              order=chinese_class_df.Nationality.value_counts().iloc[:10].index)\n",
    "format_plots(ax, \"Countplot of the top 10 student nationalities and their program tyoe\", \"Count\", \"Nationality\")\n",
    "fig.text(0.9, 0.5, \"The majority of students are are \\nalso on Non-degree programs.\\n\\nThese are typically intesnive language \\nprograms for 1 or 2 semesters.\", ha='left');"
   ]
  },
  {
   "cell_type": "markdown",
   "metadata": {},
   "source": [
    "### HSK test takers and results"
   ]
  },
  {
   "cell_type": "code",
   "execution_count": 317,
   "metadata": {},
   "outputs": [
    {
     "data": {
      "image/png": "[encoded data removed]",
      "text/plain": [
       "<Figure size 432x288 with 1 Axes>"
      ]
     },
     "metadata": {
      "needs_background": "dark"
     },
     "output_type": "display_data"
    }
   ],
   "source": [
    "fig, ax = plt.subplots()\n",
    "ax = sns.countplot(x = chinese_class_df['HSK test?'])\n",
    "format_plots(ax, \"Countplot students that took a HSK test\", \"Student's choices\", \"Count\")\n",
    "ax.set(xticklabels=['No HSK test', 'HSK test'])\n",
    "fig.text(0.9, 0.4, \"Around 1 in 5 students \\ntake the formal HSK test. \\n\\nThis is an optional test that \\nrequires to student to opt in\\n and pay a fee.\".format(len(chinese_class_df['Nationality'].unique())), ha='left')\n",
    "ax;"
   ]
  },
  {
   "cell_type": "code",
   "execution_count": 318,
   "metadata": {},
   "outputs": [
    {
     "data": {
      "image/png": "[encoded data removed]",
      "text/plain": [
       "<Figure size 432x288 with 1 Axes>"
      ]
     },
     "metadata": {
      "needs_background": "dark"
     },
     "output_type": "display_data"
    }
   ],
   "source": [
    "fig, ax = plt.subplots()\n",
    "ax = sns.countplot(x = chinese_class_df['HSK test?'], hue = chinese_class_df['Scholarship'])\n",
    "format_plots(ax, \"Countplot of students that took a HSK test and their funding\", \"Student's choices\", \"Count\")\n",
    "ax.set(xticklabels=['No HSK test', 'HSK test'])\n",
    "fig.text(0.9, 0.4, \"HSK fees are not normally \\nincluded in scholarships, \\nand do not require the \\nstudent to take the test.\".format(len(chinese_class_df['Nationality'].unique())), ha='left')\n",
    "plt.legend(['Self-funded', 'Scholarship']);\n",
    "ax;"
   ]
  },
  {
   "cell_type": "code",
   "execution_count": 319,
   "metadata": {},
   "outputs": [
    {
     "data": {
      "image/png": "[encoded data removed]",
      "text/plain": [
       "<Figure size 432x288 with 1 Axes>"
      ]
     },
     "metadata": {
      "needs_background": "dark"
     },
     "output_type": "display_data"
    }
   ],
   "source": [
    "fig, ax = plt.subplots()\n",
    "ax = sns.countplot(x = chinese_class_df['HSK test?'], hue = chinese_class_df['Program'])\n",
    "format_plots(ax, \"Countplot of students that took a HSK test and their program\", \"Student's choices\", \"Count\")\n",
    "ax.set(xticklabels=['No HSK test', 'HSK test'])\n",
    "fig.text(0.9, 0.4, \"Similarly the HSK test is not included \\nas part of degree programs, but \\nmay be required to start a \\ndegree that is not specifically \\nfor Chinese Language.\".format(len(chinese_class_df['Nationality'].unique())), ha='left')\n",
    "ax;"
   ]
  },
  {
   "cell_type": "code",
   "execution_count": 320,
   "metadata": {},
   "outputs": [
    {
     "data": {
      "image/png": "[encoded data removed]",
      "text/plain": [
       "<Figure size 432x288 with 1 Axes>"
      ]
     },
     "metadata": {
      "needs_background": "dark"
     },
     "output_type": "display_data"
    }
   ],
   "source": [
    "fig, ax = plt.subplots()\n",
    "ax = sns.countplot(x = 'HSK Pass', data = chinese_class_df.loc[chinese_class_df['HSK test?'] == 1])\n",
    "format_plots(ax, \"Countplot of students that passed or failed a HSK test\", \"Student's choices\", \"Count\")\n",
    "ax.set(xticklabels=['Pass', 'Fail'])\n",
    "fig.text(0.9, 0.4, \"Due to the opt in nature of the HSK test, \\npass rates are generally high. \\n\\nSchools will often run additional optional \\nHSK preparation classes for an extra fee.\".format(len(chinese_class_df['Nationality'].unique())), ha='left')\n",
    "ax;"
   ]
  },
  {
   "cell_type": "code",
   "execution_count": 321,
   "metadata": {},
   "outputs": [
    {
     "data": {
      "image/png": "[encoded data removed]",
      "text/plain": [
       "<Figure size 432x288 with 1 Axes>"
      ]
     },
     "metadata": {
      "needs_background": "dark"
     },
     "output_type": "display_data"
    }
   ],
   "source": [
    "fig, ax = plt.subplots()\n",
    "ax = sns.countplot(x = 'HSK Level', hue = 'HSK Pass', order = ['HSK1', 'HSK2', 'HSK3', 'HSK4', 'HSK5', 'HSK6'], data = chinese_class_df.loc[chinese_class_df['HSK test?'] == 1])\n",
    "format_plots(ax, \"Countplot of students that passed or failed a HSK test\", \"Student's choices\", \"Count\")\n",
    "#ax.set(xticklabels=['Pass', 'Fail'])\n",
    "fig.text(0.9, 0.3, \"Very few students take HSK 1-3.\\n\\nMeanwhile those that do attempt \\nany HSK test have a high pass rate.\\n\\nThis is likely due to the opt in nature of the \\nHSK test. \\n\\nSchools will often run additional optional \\nHSK preparation classes for an extra fee.\".format(len(chinese_class_df['Nationality'].unique())), ha='left')\n",
    "ax;"
   ]
  },
  {
   "cell_type": "code",
   "execution_count": 322,
   "metadata": {},
   "outputs": [
    {
     "data": {
      "image/png": "[encoded data removed]",
      "text/plain": [
       "<Figure size 432x288 with 1 Axes>"
      ]
     },
     "metadata": {
      "needs_background": "dark"
     },
     "output_type": "display_data"
    }
   ],
   "source": [
    "fig, ax = plt.subplots()\n",
    "ax = sns.countplot(y=\"Nationality\", data=chinese_class_df.loc[chinese_class_df['HSK test?'] == 1],\n",
    "              order=chinese_class_df.loc[chinese_class_df['HSK test?'] == 1].Nationality.value_counts().iloc[:15].index)\n",
    "format_plots(ax, \"Countplot of the top 15 student nationalities of written HSK test takers\", \"Count\", \"Nationality\")\n",
    "fig.text(0.9, 0.6, \"The large share of South Korean \\nstudents also means they are \\namong the largest share of HSK takers.\", ha='left');"
   ]
  },
  {
   "cell_type": "code",
   "execution_count": 323,
   "metadata": {},
   "outputs": [
    {
     "data": {
      "image/png": "[encoded data removed]",
      "text/plain": [
       "<Figure size 602.625x540 with 9 Axes>"
      ]
     },
     "metadata": {
      "needs_background": "light"
     },
     "output_type": "display_data"
    }
   ],
   "source": [
    "hsk_written_sections = chinese_class_df.loc[chinese_class_df['HSK Level'].isin(hsk_writing_sections),'HSK Level':'Writing'].sort_values('HSK Level')\n",
    "ax = sns.pairplot(hsk_written_sections, dropna=True, hue = 'HSK Level', palette = 'Set2', corner=True)\n",
    "ax.fig.suptitle(\"Pairplot of Listening, Writing and Reading scores for HSK 3-6\", x=0.1, y = 1, fontsize = 12, ha='left', color = '#808080', fontweight = 'bold');"
   ]
  },
  {
   "cell_type": "code",
   "execution_count": 324,
   "metadata": {},
   "outputs": [
    {
     "name": "stderr",
     "output_type": "stream",
     "text": [
      "/Users/Brian/opt/anaconda3/lib/python3.8/site-packages/seaborn/distributions.py:305: UserWarning: Dataset has 0 variance; skipping density estimate.\n",
      "  warnings.warn(msg, UserWarning)\n",
      "/Users/Brian/opt/anaconda3/lib/python3.8/site-packages/seaborn/distributions.py:305: UserWarning: Dataset has 0 variance; skipping density estimate.\n",
      "  warnings.warn(msg, UserWarning)\n"
     ]
    },
    {
     "data": {
      "image/png": "[encoded data removed]",
      "text/plain": [
       "<Figure size 422.625x360 with 5 Axes>"
      ]
     },
     "metadata": {
      "needs_background": "light"
     },
     "output_type": "display_data"
    }
   ],
   "source": [
    "hsk_written_sections = chinese_class_df.loc[~chinese_class_df['HSK Level'].isin(hsk_writing_sections),'HSK Level':'Listening'].sort_values('HSK Level')\n",
    "ax = sns.pairplot(hsk_written_sections, dropna=True, hue = 'HSK Level', palette = 'Set2', corner=True)\n",
    "ax.fig.suptitle(\"Pairplot of Listening and Reading scores for HSK 1 & 2\", x=0.1, y = 1, fontsize = 12, ha='left', color = '#808080', fontweight = 'bold');"
   ]
  },
  {
   "cell_type": "code",
   "execution_count": 325,
   "metadata": {},
   "outputs": [
    {
     "data": {
      "image/png": "[encoded data removed]",
      "text/plain": [
       "<Figure size 432x288 with 1 Axes>"
      ]
     },
     "metadata": {
      "needs_background": "dark"
     },
     "output_type": "display_data"
    }
   ],
   "source": [
    "fig, ax = plt.subplots()\n",
    "ax = sns.countplot(x = chinese_class_df['HSKK test?'], hue = chinese_class_df['Scholarship'])\n",
    "format_plots(ax, \"Countplot of students that took a HSKK test and their funding\", \"Student's choices\", \"Count\")\n",
    "ax.set(xticklabels=['No HSKK test', 'HSKK test'])\n",
    "fig.text(0.9, 0.4, \"Only 1% of students take the HSKK \\noral test regardless of their funding.\".format(len(chinese_class_df['Nationality'].unique())), ha='left')\n",
    "plt.legend(['Self-funded', 'Scholarship']);\n",
    "ax;"
   ]
  },
  {
   "cell_type": "code",
   "execution_count": 326,
   "metadata": {
    "scrolled": true
   },
   "outputs": [
    {
     "data": {
      "image/png": "[encoded data removed]",
      "text/plain": [
       "<Figure size 432x288 with 1 Axes>"
      ]
     },
     "metadata": {
      "needs_background": "dark"
     },
     "output_type": "display_data"
    }
   ],
   "source": [
    "fig, ax = plt.subplots()\n",
    "ax = sns.barplot(x = chinese_class_df.loc[chinese_class_df['HSKK test?'] == 1].groupby('Nationality').count().reset_index()['Scholarship'], y = chinese_class_df.loc[chinese_class_df['HSKK test?'] == 1].groupby('Nationality').count().reset_index()['Nationality'], orient=\"h\")\n",
    "format_plots(ax, \"Bar plot of the nationalities of the HSKK test takers\", \"Count\", \"Nationality\")\n",
    "fig.text(0.9, 0.6, \"With just 1% of students \\ntaking the HSKK test, \\nthey are more likely, \\nbut not guaranteed, to come \\nfrom one of the top 15 coutries.\", ha='left')\n",
    "ax;"
   ]
  },
  {
   "cell_type": "markdown",
   "metadata": {},
   "source": [
    "## Next steps\n",
    "\n",
    "* Alter HSK 6 distributions based on http://www.chinesetest.cn/gonewcontent.do?id=8750514 \n",
    "* Tidy up code for final cells (add in the HSK6 changes).\n",
    "* Write up a conclusion.\n",
    "* Sort out references properly.\n",
    "* Write README."
   ]
  },
  {
   "cell_type": "markdown",
   "metadata": {},
   "source": [
    "## Resources\n",
    "\n",
    "[1] https://www.researchcghe.org/perch/resources/publications/to-publish-wp46.pdf\n",
    "[2] http://en.moe.gov.cn/documents/reports/201904/t20190418_378692.html\n",
    "[3] https://www.studyinternational.com/news/african-students-china-alienated/\n",
    "[4] https://numpy.org/doc/stable/reference/random/generated/numpy.random.Generator.choice.html#numpy.random.Generator.choice\n",
    "[5] https://data.worldbank.org/indicator/SP.POP.TOTL\n",
    "[6] https://www.worldometers.info/geography/how-many-countries-in-africa/\n",
    "[7] https://www.china-admissions.com/blog/china-scholarship/\n",
    "[8] https://www.chinesescholarshipcouncil.com/\n",
    "[9] https://scholarshipfellow.com/beijing-government-scholarships-bs-ms-phd-international-students/\n",
    "[10] https://www.cucas.cn/china_scholarships/index/all_scholarship/Beijing/all_universities/all_degrees/all_languages/all_year/all_programs/0_0_1_0_0_0_0/page=1\n",
    "[11] https://numpy.org/doc/stable/reference/random/generated/numpy.random.binomial.html\n",
    "[12] http://english.hanban.org/node_8002.htm\n",
    "[13] http://blog.sina.com.cn/s/blog_53e7c11d0101f02j.html\n",
    "[14] https://thepienews.com/news/hsk-exam-three-new-levels/#:~:text=According%20to%20the%20Hanban%2C%20between,HSK4%20being%20the%20most%20popular.\n",
    "[15] https://www.wm.edu/sites/confuciusinstitute/other-resources/tests/hskk/index.php\n",
    "[16] https://improvemandarin.com/hsk-vs-hskk/\n",
    "[17] https://www.researchgate.net/publication/312107625_Assessment_of_study_abroad_outcomes_in_Chinese_as_a_second_language_gains_in_cross-cultural_adaptability_language_contact_and_proficiency\n",
    "[18] http://www.chinesetest.cn/gonewcontent.do?id=8750514\n",
    "[19] https://www.chinaeducenter.com/en/exams.php\n",
    "[20] https://numpy.org/doc/stable/reference/random/generated/numpy.random.normal.html\n",
    "[21] https://improvemandarin.com/new-hsk/\n",
    "[23] https://stackoverflow.com/questions/31247763/round-columns-in-pandas-dataframe"
   ]
  }
 ],
 "metadata": {
  "kernelspec": {
   "display_name": "Python 3",
   "language": "python",
   "name": "python3"
  },
  "language_info": {
   "codemirror_mode": {
    "name": "ipython",
    "version": 3
   },
   "file_extension": ".py",
   "mimetype": "text/x-python",
   "name": "python",
   "nbconvert_exporter": "python",
   "pygments_lexer": "ipython3",
   "version": "3.8.5"
  }
 },
 "nbformat": 4,
 "nbformat_minor": 4
}
